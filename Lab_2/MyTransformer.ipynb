{
 "cells": [
  {
   "cell_type": "code",
   "execution_count": null,
   "metadata": {
    "id": "N-yaqmaHCCjZ"
   },
   "outputs": [],
   "source": []
  },
  {
   "cell_type": "code",
   "execution_count": 2,
   "metadata": {
    "colab": {
     "base_uri": "https://localhost:8080/"
    },
    "id": "1N_OcY6WCGuu",
    "outputId": "3ccea913-bb93-4f79-d919-98addbc7d40e"
   },
   "outputs": [
    {
     "name": "stdout",
     "output_type": "stream",
     "text": [
      "Dataset not found locally. Downloading from github.\n",
      "--2024-03-03 12:52:25--  https://raw.githubusercontent.com/neychev/made_nlp_course/master/datasets/Machine_translation_EN_RU/data.txt\n",
      "Resolving raw.githubusercontent.com (raw.githubusercontent.com)... 185.199.108.133, 185.199.109.133, 185.199.110.133, ...\n",
      "Connecting to raw.githubusercontent.com (raw.githubusercontent.com)|185.199.108.133|:443... connected.\n",
      "HTTP request sent, awaiting response... 200 OK\n",
      "Length: 12905334 (12M) [text/plain]\n",
      "Saving to: ‘data.txt’\n",
      "\n",
      "data.txt            100%[===================>]  12.31M  --.-KB/s    in 0.07s   \n",
      "\n",
      "2024-03-03 12:52:25 (179 MB/s) - ‘data.txt’ saved [12905334/12905334]\n",
      "\n"
     ]
    }
   ],
   "source": [
    "import os\n",
    "path_to_data = '../../datasets/Machine_translation_EN_RU/data.txt'\n",
    "if not os.path.exists(path_to_data):\n",
    "    print(\"Dataset not found locally. Downloading from github.\")\n",
    "    !wget https://raw.githubusercontent.com/neychev/made_nlp_course/master/datasets/Machine_translation_EN_RU/data.txt -nc\n",
    "    path_to_data = './data.txt'"
   ]
  },
  {
   "cell_type": "code",
   "execution_count": 3,
   "metadata": {
    "id": "_2Zoud9YCHTp"
   },
   "outputs": [],
   "source": [
    "import torch\n",
    "import torch.nn as nn\n",
    "import torch.optim as optim\n",
    "import torch.nn.functional as F\n",
    "from torch import Tensor\n",
    "\n",
    "import torchtext\n",
    "from torch.utils.data import Dataset, DataLoader\n",
    "from torch.nn.utils.rnn import pad_sequence\n",
    "from collections import Counter\n",
    "from torchtext.vocab import vocab\n",
    "from torchtext.data.utils import get_tokenizer\n",
    "from nltk.tokenize import wordpunct_tokenize\n",
    "\n",
    "import numpy as np\n",
    "import pandas as pd\n",
    "import time\n",
    "\n",
    "import matplotlib\n",
    "matplotlib.rcParams.update({'figure.figsize': (16, 12), 'font.size': 14})\n",
    "import matplotlib.pyplot as plt\n",
    "%matplotlib inline\n",
    "from IPython.display import clear_output"
   ]
  },
  {
   "cell_type": "code",
   "execution_count": 3,
   "metadata": {
    "id": "bWst6WuPvrjp"
   },
   "outputs": [],
   "source": []
  },
  {
   "cell_type": "markdown",
   "metadata": {
    "id": "GN7_mRabyv4e"
   },
   "source": [
    "# Preprocessing\n",
    "\n"
   ]
  },
  {
   "cell_type": "code",
   "execution_count": 4,
   "metadata": {
    "id": "fKZK0WnyCOop"
   },
   "outputs": [],
   "source": [
    "MAX_SEQUENCE_LENGTH = 50\n",
    "BATCH_SIZE = 128\n",
    "\n",
    "DEVICE = torch.device('cuda' if torch.cuda.is_available() else 'cpu')"
   ]
  },
  {
   "cell_type": "code",
   "execution_count": 5,
   "metadata": {
    "id": "Opbut6JfqQeN"
   },
   "outputs": [],
   "source": [
    "# ru_tokenizer = get_tokenizer('spacy', language='ru')\n",
    "# en_tokenizer = get_tokenizer('spacy', language='en')\n",
    "\n",
    "ru_tokenizer = wordpunct_tokenize\n",
    "en_tokenizer = wordpunct_tokenize"
   ]
  },
  {
   "cell_type": "code",
   "execution_count": 6,
   "metadata": {
    "id": "lOSsEcLjqlaf"
   },
   "outputs": [],
   "source": [
    "# Step 1: Read the dataset file and parse it\n",
    "def read_dataset(file_path):\n",
    "    with open(file_path, 'r') as file:\n",
    "        lines = file.readlines()\n",
    "    english_sentences = []\n",
    "    russian_sentences = []\n",
    "    for line in lines:\n",
    "        english, russian = line.strip().split('\\t')\n",
    "        english_sentences.append(english)\n",
    "        russian_sentences.append(russian)\n",
    "    return english_sentences, russian_sentences\n",
    "\n",
    "en_sentences, ru_sentences = read_dataset(path_to_data)"
   ]
  },
  {
   "cell_type": "code",
   "execution_count": 7,
   "metadata": {
    "id": "VodNzF8dsO8A"
   },
   "outputs": [],
   "source": [
    "# Step 2: Tokenize the sentences\n",
    "def tokenize_sentences(sentences, tokenizer):\n",
    "    tokenized_sentences = [tokenizer(sentence) for sentence in sentences]\n",
    "    return tokenized_sentences\n",
    "\n",
    "ru_tokenized = tokenize_sentences(ru_sentences, ru_tokenizer)\n",
    "en_tokenized = tokenize_sentences(en_sentences, en_tokenizer)"
   ]
  },
  {
   "cell_type": "code",
   "execution_count": 8,
   "metadata": {
    "colab": {
     "base_uri": "https://localhost:8080/"
    },
    "id": "8ZPNLEz2xFlx",
    "outputId": "1190a478-ad28-4e9d-80c7-4a300a987054"
   },
   "outputs": [
    {
     "name": "stdout",
     "output_type": "stream",
     "text": [
      "['Отель', 'Cordelia', 'расположен', 'в', 'Тбилиси', ',', 'в', '3', 'минутах', 'ходьбы', 'от', 'Свято', '-', 'Троицкого', 'собора', '.']\n"
     ]
    }
   ],
   "source": [
    "print(ru_tokenized[0])"
   ]
  },
  {
   "cell_type": "code",
   "execution_count": 9,
   "metadata": {
    "id": "Xlb_KxT4qnww"
   },
   "outputs": [],
   "source": [
    "# Step 3: Create vocabulary mappings\n",
    "def build_vocab(tokenized_sentences):\n",
    "    counter = Counter()\n",
    "    for sentence in tokenized_sentences:\n",
    "        counter.update(sentence)\n",
    "    vocab = torchtext.vocab.vocab(counter, min_freq=4, specials=('<UNK>', '<SOS>', '<EOS>', '<PAD>'))\n",
    "    vocab.set_default_index(vocab[\"<UNK>\"])\n",
    "    return vocab\n",
    "\n",
    "ru_vocab = build_vocab(ru_tokenized)\n",
    "en_vocab = build_vocab(en_tokenized)"
   ]
  },
  {
   "cell_type": "code",
   "execution_count": 10,
   "metadata": {
    "id": "ebQlhWacttgv"
   },
   "outputs": [],
   "source": [
    "SRC_VOCAB_SIZE = len(ru_vocab)\n",
    "TGT_VOCAB_SIZE = len(en_vocab)\n",
    "PAD_IDX = en_vocab['<PAD>']\n",
    "SOS_IDX = en_vocab['<SOS>']\n",
    "EOS_IDX = en_vocab['<EOS>']"
   ]
  },
  {
   "cell_type": "code",
   "execution_count": 11,
   "metadata": {
    "colab": {
     "base_uri": "https://localhost:8080/"
    },
    "id": "MtI7bPV1tyud",
    "outputId": "845adc90-f218-443b-878b-ff65e40ca356"
   },
   "outputs": [
    {
     "name": "stdout",
     "output_type": "stream",
     "text": [
      "6718\n",
      "8706\n"
     ]
    }
   ],
   "source": [
    "print(len(en_vocab))\n",
    "print(len(ru_vocab))"
   ]
  },
  {
   "cell_type": "code",
   "execution_count": 12,
   "metadata": {
    "id": "OT8o-VVtrTig"
   },
   "outputs": [],
   "source": [
    "# Step 4: Transform data to torch Tensor and make train, val, test split\n",
    "data = []\n",
    "for (ru_sentence, en_sentence) in zip(ru_tokenized, en_tokenized):\n",
    "    ru_tensor_ = torch.tensor(ru_vocab.lookup_indices(ru_sentence), dtype=torch.long)\n",
    "    en_tensor_ = torch.tensor(en_vocab.lookup_indices(en_sentence), dtype=torch.long)\n",
    "    data.append((ru_tensor_, en_tensor_))\n",
    "\n",
    "train_size = int(0.8 * len(data))\n",
    "val_size = int(0.15 * len(data))\n",
    "test_size = len(data) - train_size - val_size\n",
    "train_data, val_data, test_data = torch.utils.data.random_split(data, [train_size, val_size, test_size])"
   ]
  },
  {
   "cell_type": "code",
   "execution_count": 13,
   "metadata": {
    "id": "nnAVOeFNthS7"
   },
   "outputs": [],
   "source": [
    "# Step 5: Make batches and data loaders\n",
    "def generate_batch(data_batch):\n",
    "    ru_batch, en_batch = [], []\n",
    "    for (ru_item, en_item) in data_batch:\n",
    "        ru_batch.append(torch.cat([torch.tensor([ru_vocab['<SOS>']]),\n",
    "                                   ru_item,\n",
    "                                   torch.tensor([ru_vocab['<EOS>']])\n",
    "                                   ], dim=0))\n",
    "        en_batch.append(torch.cat([torch.tensor([en_vocab['<SOS>']]),\n",
    "                                   en_item,\n",
    "                                   torch.tensor([en_vocab['<EOS>']])\n",
    "                                   ], dim=0))\n",
    "    ru_batch = pad_sequence(ru_batch, padding_value=ru_vocab['<PAD>'])\n",
    "    en_batch = pad_sequence(en_batch, padding_value=en_vocab['<PAD>'])\n",
    "    return ru_batch, en_batch\n",
    "\n",
    "\n",
    "train_iter = DataLoader(train_data, batch_size=BATCH_SIZE,\n",
    "                        shuffle=True, collate_fn=generate_batch)\n",
    "val_iter = DataLoader(val_data, batch_size=BATCH_SIZE,\n",
    "                        shuffle=True, collate_fn=generate_batch)\n",
    "test_iter = DataLoader(test_data, batch_size=BATCH_SIZE,\n",
    "                       shuffle=True, collate_fn=generate_batch)"
   ]
  },
  {
   "cell_type": "code",
   "execution_count": 14,
   "metadata": {
    "id": "Q7xVWK-NxCK8"
   },
   "outputs": [],
   "source": [
    "batch = next(iter(train_iter))"
   ]
  },
  {
   "cell_type": "code",
   "execution_count": 15,
   "metadata": {
    "colab": {
     "base_uri": "https://localhost:8080/"
    },
    "id": "1GPWrvqRxQr_",
    "outputId": "798ab78a-fccf-4ff2-9750-ec1e5a2ae518"
   },
   "outputs": [
    {
     "name": "stdout",
     "output_type": "stream",
     "text": [
      "torch.Size([50, 128])\n"
     ]
    }
   ],
   "source": [
    "print(batch[0].shape)"
   ]
  },
  {
   "cell_type": "markdown",
   "metadata": {
    "id": "uQGZUeyLyUkP"
   },
   "source": [
    "# Определение модели"
   ]
  },
  {
   "cell_type": "code",
   "execution_count": 16,
   "metadata": {
    "id": "HiItw-uqxVfa"
   },
   "outputs": [],
   "source": [
    "class PositionalEncoding(nn.Module):\n",
    "    def __init__(self,\n",
    "                 emb_size: int,\n",
    "                 dropout: float,\n",
    "                 maxlen: int = 5000):\n",
    "        super(PositionalEncoding, self).__init__()\n",
    "        den = torch.exp(- torch.arange(0, emb_size, 2) * np.log(10000) / emb_size)\n",
    "        pos = torch.arange(0, maxlen).reshape(maxlen, 1)\n",
    "        pos_embedding = torch.zeros((maxlen, emb_size))\n",
    "        pos_embedding[:, 0::2] = torch.sin(pos * den)\n",
    "        pos_embedding[:, 1::2] = torch.cos(pos * den)\n",
    "        pos_embedding = pos_embedding.unsqueeze(-2)\n",
    "\n",
    "        self.dropout = nn.Dropout(dropout)\n",
    "        self.register_buffer('pos_embedding', pos_embedding)\n",
    "\n",
    "    def forward(self, token_embedding: Tensor):\n",
    "        return self.dropout(token_embedding + self.pos_embedding[:token_embedding.size(0), :])\n",
    "\n",
    "# helper Module to convert tensor of input indices into corresponding tensor of token embeddings\n",
    "class TokenEmbedding(nn.Module):\n",
    "    def __init__(self, vocab_size: int, emb_size):\n",
    "        super(TokenEmbedding, self).__init__()\n",
    "        self.embedding = nn.Embedding(vocab_size, emb_size)\n",
    "        self.emb_size = emb_size\n",
    "\n",
    "    def forward(self, tokens: Tensor):\n",
    "        return self.embedding(tokens.long()) * np.sqrt(self.emb_size)\n",
    "\n",
    "# Seq2Seq Network\n",
    "class Seq2SeqTransformer(nn.Module):\n",
    "    def __init__(self,\n",
    "                 num_encoder_layers: int,\n",
    "                 num_decoder_layers: int,\n",
    "                 emb_size: int,\n",
    "                 nhead: int,\n",
    "                 src_vocab_size: int,\n",
    "                 tgt_vocab_size: int,\n",
    "                 dim_feedforward: int = 512,\n",
    "                 dropout: float = 0.1):\n",
    "        super(Seq2SeqTransformer, self).__init__()\n",
    "        self.transformer = nn.Transformer(d_model=emb_size,\n",
    "                                          nhead=nhead,\n",
    "                                          num_encoder_layers=num_encoder_layers,\n",
    "                                          num_decoder_layers=num_decoder_layers,\n",
    "                                          dim_feedforward=dim_feedforward,\n",
    "                                          dropout=dropout)\n",
    "        self.generator = nn.Linear(emb_size, tgt_vocab_size)\n",
    "        self.src_tok_emb = TokenEmbedding(src_vocab_size, emb_size)\n",
    "        self.tgt_tok_emb = TokenEmbedding(tgt_vocab_size, emb_size)\n",
    "        self.positional_encoding = PositionalEncoding(\n",
    "            emb_size, dropout=dropout)\n",
    "\n",
    "    def forward(self,\n",
    "                src: Tensor,\n",
    "                trg: Tensor,\n",
    "                src_mask: Tensor,\n",
    "                tgt_mask: Tensor,\n",
    "                src_padding_mask: Tensor,\n",
    "                tgt_padding_mask: Tensor,\n",
    "                memory_key_padding_mask: Tensor):\n",
    "        src_emb = self.positional_encoding(self.src_tok_emb(src))\n",
    "        tgt_emb = self.positional_encoding(self.tgt_tok_emb(trg))\n",
    "        outs = self.transformer(src_emb, tgt_emb, src_mask, tgt_mask, None,\n",
    "                                src_padding_mask, tgt_padding_mask, memory_key_padding_mask)\n",
    "        return self.generator(outs)\n",
    "\n",
    "    def encode(self, src: Tensor, src_mask: Tensor):\n",
    "        return self.transformer.encoder(self.positional_encoding(\n",
    "                            self.src_tok_emb(src)), src_mask)\n",
    "\n",
    "    def decode(self, tgt: Tensor, memory: Tensor, tgt_mask: Tensor):\n",
    "        return self.transformer.decoder(self.positional_encoding(\n",
    "                          self.tgt_tok_emb(tgt)), memory,\n",
    "                          tgt_mask)"
   ]
  },
  {
   "cell_type": "code",
   "execution_count": 17,
   "metadata": {
    "id": "aggqBgaLzPR8"
   },
   "outputs": [],
   "source": [
    "def generate_square_subsequent_mask(sz):\n",
    "    mask = (torch.triu(torch.ones((sz, sz), device=DEVICE)) == 1).transpose(0, 1)\n",
    "    mask = mask.float().masked_fill(mask == 0, float('-inf')).masked_fill(mask == 1, float(0.0))\n",
    "    return mask\n",
    "\n",
    "\n",
    "def create_mask(src, tgt):\n",
    "    src_seq_len = src.shape[0]\n",
    "    tgt_seq_len = tgt.shape[0]\n",
    "\n",
    "    tgt_mask = generate_square_subsequent_mask(tgt_seq_len)\n",
    "    src_mask = torch.zeros((src_seq_len, src_seq_len), device=DEVICE).type(torch.bool)\n",
    "\n",
    "    src_padding_mask = (src == PAD_IDX).transpose(0, 1)\n",
    "    tgt_padding_mask = (tgt == PAD_IDX).transpose(0, 1)\n",
    "    return src_mask, tgt_mask, src_padding_mask, tgt_padding_mask"
   ]
  },
  {
   "cell_type": "code",
   "execution_count": 18,
   "metadata": {
    "colab": {
     "base_uri": "https://localhost:8080/"
    },
    "id": "SE7DQgQEzlED",
    "outputId": "3541a165-c2f2-44bd-d09d-6e50fcbd181f"
   },
   "outputs": [
    {
     "name": "stderr",
     "output_type": "stream",
     "text": [
      "/usr/local/lib/python3.10/dist-packages/torch/nn/modules/transformer.py:282: UserWarning: enable_nested_tensor is True, but self.use_nested_tensor is False because encoder_layer.self_attn.batch_first was not True(use batch_first for better inference performance)\n",
      "  warnings.warn(f\"enable_nested_tensor is True, but self.use_nested_tensor is False because {why_not_sparsity_fast_path}\")\n"
     ]
    }
   ],
   "source": [
    "EMB_SIZE = 512\n",
    "NHEAD = 8\n",
    "FFN_HID_DIM = 512\n",
    "NUM_ENCODER_LAYERS = 3\n",
    "NUM_DECODER_LAYERS = 3\n",
    "\n",
    "transformer = Seq2SeqTransformer(NUM_ENCODER_LAYERS, NUM_DECODER_LAYERS, EMB_SIZE,\n",
    "                                 NHEAD, SRC_VOCAB_SIZE, TGT_VOCAB_SIZE, FFN_HID_DIM)\n",
    "\n",
    "for p in transformer.parameters():\n",
    "    if p.dim() > 1:\n",
    "        nn.init.xavier_uniform_(p)\n",
    "\n",
    "transformer = transformer.to(DEVICE)\n",
    "\n",
    "loss_fn = torch.nn.CrossEntropyLoss(ignore_index=PAD_IDX)\n",
    "\n",
    "optimizer = torch.optim.Adam(transformer.parameters(), lr=0.0001, betas=(0.9, 0.98), eps=1e-9)"
   ]
  },
  {
   "cell_type": "markdown",
   "metadata": {
    "id": "G5JOHqps60kJ"
   },
   "source": [
    "# Обучение"
   ]
  },
  {
   "cell_type": "code",
   "execution_count": 19,
   "metadata": {
    "id": "oc7pjPmA0JEh"
   },
   "outputs": [],
   "source": [
    "def train_epoch(model, optimizer, n_show = 50, train_history=None, valid_history=None):\n",
    "    model.train()\n",
    "    losses = 0\n",
    "\n",
    "    epoch_history = []\n",
    "\n",
    "    I_val = []\n",
    "    val_history = []\n",
    "    for i, batch in enumerate(train_iter):\n",
    "        src = batch[0].to(DEVICE)\n",
    "        tgt = batch[1].to(DEVICE)\n",
    "\n",
    "        optimizer.zero_grad()\n",
    "\n",
    "        tgt_input = tgt[:-1, :]\n",
    "        src_mask, tgt_mask, src_padding_mask, tgt_padding_mask = create_mask(src, tgt_input)\n",
    "\n",
    "        logits = model(src, tgt_input, src_mask, tgt_mask, src_padding_mask, tgt_padding_mask, src_padding_mask)\n",
    "\n",
    "        tgt_out = tgt[1:, :]\n",
    "        loss = loss_fn(logits.reshape(-1, logits.shape[-1]), tgt_out.reshape(-1))\n",
    "        loss.backward()\n",
    "\n",
    "        optimizer.step()\n",
    "\n",
    "        epoch_history.append(loss.cpu().data.numpy())\n",
    "\n",
    "        losses += loss.item()\n",
    "\n",
    "        if (i+1) % n_show == 0:\n",
    "            I_val.append(i)\n",
    "            val_history.append(evaluate(model))\n",
    "            model.train()\n",
    "\n",
    "            fig, ax = plt.subplots(nrows=1, ncols=2, figsize=(12, 8))\n",
    "\n",
    "            clear_output(True)\n",
    "            ax[0].plot(epoch_history, label='train loss')\n",
    "            ax[0].plot(I_val, val_history, label='validation loss')\n",
    "            ax[0].set_xlabel('Batch')\n",
    "            ax[0].set_title('Loss')\n",
    "            ax[0].legend()\n",
    "            if train_history is not None:\n",
    "                ax[1].plot(train_history, label='general train history')\n",
    "                ax[1].set_xlabel('Epoch')\n",
    "            if valid_history is not None:\n",
    "                ax[1].plot(valid_history, label='general valid history')\n",
    "            plt.legend()\n",
    "\n",
    "            plt.show()\n",
    "\n",
    "\n",
    "    return losses / len(list(train_iter))\n",
    "\n",
    "\n",
    "def evaluate(model):\n",
    "    model.eval()\n",
    "    losses = 0\n",
    "\n",
    "    for src, tgt in val_iter:\n",
    "        src = src.to(DEVICE)\n",
    "        tgt = tgt.to(DEVICE)\n",
    "\n",
    "        tgt_input = tgt[:-1, :]\n",
    "\n",
    "        src_mask, tgt_mask, src_padding_mask, tgt_padding_mask = create_mask(src, tgt_input)\n",
    "\n",
    "        logits = model(src, tgt_input, src_mask, tgt_mask, src_padding_mask, tgt_padding_mask, src_padding_mask)\n",
    "\n",
    "        tgt_out = tgt[1:, :]\n",
    "        loss = loss_fn(logits.reshape(-1, logits.shape[-1]), tgt_out.reshape(-1))\n",
    "        losses += loss.item()\n",
    "\n",
    "    return losses / len(list(val_iter))"
   ]
  },
  {
   "cell_type": "code",
   "execution_count": 20,
   "metadata": {
    "id": "NRBXRaPI3SKb"
   },
   "outputs": [],
   "source": [
    "from timeit import default_timer as timer\n",
    "NUM_EPOCHS = 4\n",
    "n_show = 50\n",
    "\n",
    "train_history = []\n",
    "valid_history = []"
   ]
  },
  {
   "cell_type": "code",
   "execution_count": null,
   "metadata": {
    "id": "FapTJ5Uv9Kf3"
   },
   "outputs": [],
   "source": [
    "for epoch in range(1, NUM_EPOCHS+1):\n",
    "    start_time = timer()\n",
    "    train_loss = train_epoch(transformer, optimizer, n_show, train_history, valid_history)\n",
    "    end_time = timer()\n",
    "    val_loss = evaluate(transformer)\n",
    "\n",
    "    train_history.append(train_loss)\n",
    "    valid_history.append(val_loss)\n",
    "\n",
    "    print((f\"Epoch: {epoch}, Train loss: {train_loss:.3f}, Val loss: {val_loss:.3f}, \"f\"Epoch time = {(end_time - start_time):.3f}s\"))\n"
   ]
  },
  {
   "cell_type": "code",
   "execution_count": 84,
   "metadata": {
    "id": "5zLtZzvw3zy8"
   },
   "outputs": [],
   "source": [
    "# function to generate output sequence using greedy algorithm\n",
    "def greedy_decode(model, src, src_mask, max_len, start_symbol):\n",
    "    src = src.to(DEVICE)\n",
    "    src_mask = src_mask.to(DEVICE)\n",
    "\n",
    "    memory = model.encode(src, src_mask)\n",
    "    ys = torch.ones(1, src.shape[1]).fill_(start_symbol).type(torch.long).to(DEVICE)\n",
    "    for i in range(max_len-1):\n",
    "        memory = memory.to(DEVICE)\n",
    "        tgt_mask = (generate_square_subsequent_mask(ys.size(0))\n",
    "                    .type(torch.bool)).to(DEVICE)\n",
    "        out = model.decode(ys, memory, tgt_mask)\n",
    "        out = out.transpose(0, 1)\n",
    "        prob = model.generator(out[:, -1])\n",
    "        _, next_word = torch.max(prob, dim=1)\n",
    "\n",
    "        ys = torch.cat([ys, next_word.unsqueeze(0)], dim=0)\n",
    "    return ys"
   ]
  },
  {
   "cell_type": "code",
   "execution_count": 85,
   "metadata": {
    "id": "nvLDHnwO_uZX"
   },
   "outputs": [],
   "source": [
    "from nltk.translate.bleu_score import corpus_bleu\n",
    "import tqdm"
   ]
  },
  {
   "cell_type": "code",
   "execution_count": 98,
   "metadata": {
    "colab": {
     "base_uri": "https://localhost:8080/"
    },
    "id": "kEPX0I6a_4aB",
    "outputId": "fd4f2549-274c-466f-c8d7-0e18acc2b84c"
   },
   "outputs": [
    {
     "name": "stderr",
     "output_type": "stream",
     "text": [
      "100%|██████████| 20/20 [00:32<00:00,  1.65s/it]\n"
     ]
    }
   ],
   "source": [
    "# Translate test data and get model translations\n",
    "translated_sentences = []\n",
    "target_sentences = []\n",
    "\n",
    "for batch in tqdm.tqdm(test_iter):\n",
    "    transformer.eval()\n",
    "    src = batch[0].to(DEVICE)\n",
    "    trg = batch[1].to(DEVICE)\n",
    "\n",
    "    num_tokens = src.shape[0]\n",
    "    src_mask = (torch.zeros(num_tokens, num_tokens)).type(torch.bool)\n",
    "\n",
    "    with torch.no_grad():\n",
    "        # Assuming your model returns token indices\n",
    "        translated_indices = greedy_decode(transformer, src, src_mask, 60, SOS_IDX)\n",
    "        translated_indices = translated_indices.transpose(0, 1).cpu().numpy().tolist()\n",
    "\n",
    "        for indices in translated_indices:\n",
    "            tmp = []\n",
    "            for idx in indices:\n",
    "                if idx == 0 or idx > 3:\n",
    "                    tmp.append(en_vocab.lookup_token(idx))\n",
    "                elif idx == PAD_IDX:\n",
    "                    break\n",
    "            translated_sentences.append(tmp)\n",
    "\n",
    "        trg_indices = trg.transpose(0, 1).cpu().numpy().tolist()\n",
    "        for indices in trg_indices:\n",
    "            tmp = []\n",
    "            for idx in indices:\n",
    "                if idx == 0 or idx > 3:\n",
    "                    tmp.append(en_vocab.lookup_token(idx))\n",
    "                elif idx == PAD_IDX:\n",
    "                    break\n",
    "            target_sentences.append(tmp)\n"
   ]
  },
  {
   "cell_type": "code",
   "execution_count": 101,
   "metadata": {
    "colab": {
     "base_uri": "https://localhost:8080/"
    },
    "id": "0WiyGebtF4Mm",
    "outputId": "df171032-6f57-42dc-a075-97a72bc290c9"
   },
   "outputs": [
    {
     "name": "stdout",
     "output_type": "stream",
     "text": [
      "BLEU Score: 13.656677608073414\n"
     ]
    }
   ],
   "source": [
    "# Calculate BLEU score\n",
    "bleu_score = corpus_bleu([[text] for text in target_sentences], translated_sentences) * 100\n",
    "print(\"BLEU Score:\", bleu_score)"
   ]
  },
  {
   "cell_type": "code",
   "execution_count": null,
   "metadata": {
    "id": "MuuLpxluGrgp"
   },
   "outputs": [],
   "source": []
  }
 ],
 "metadata": {
  "accelerator": "GPU",
  "colab": {
   "gpuType": "T4",
   "provenance": []
  },
  "kernelspec": {
   "display_name": "Python 3 (ipykernel)",
   "language": "python",
   "name": "python3"
  },
  "language_info": {
   "codemirror_mode": {
    "name": "ipython",
    "version": 3
   },
   "file_extension": ".py",
   "mimetype": "text/x-python",
   "name": "python",
   "nbconvert_exporter": "python",
   "pygments_lexer": "ipython3",
   "version": "3.9.18"
  }
 },
 "nbformat": 4,
 "nbformat_minor": 1
}
