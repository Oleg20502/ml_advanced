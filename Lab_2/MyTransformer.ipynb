{
 "cells": [
  {
   "cell_type": "markdown",
   "metadata": {},
   "source": [
    "# Импортируем библиотеки"
   ]
  },
  {
   "cell_type": "code",
   "execution_count": 98,
   "metadata": {
    "colab": {
     "base_uri": "https://localhost:8080/"
    },
    "id": "1N_OcY6WCGuu",
    "outputId": "3ccea913-bb93-4f79-d919-98addbc7d40e"
   },
   "outputs": [],
   "source": [
    "import os\n",
    "# path_to_data = '../../datasets/Machine_translation_EN_RU/data.txt'\n",
    "# if not os.path.exists(path_to_data):\n",
    "#     print(\"Dataset not found locally. Downloading from github.\")\n",
    "#     !wget https://raw.githubusercontent.com/neychev/made_nlp_course/master/datasets/Machine_translation_EN_RU/data.txt -nc\n",
    "#     path_to_data = './data.txt'"
   ]
  },
  {
   "cell_type": "code",
   "execution_count": 99,
   "metadata": {},
   "outputs": [],
   "source": [
    "path_to_data = './data.txt'"
   ]
  },
  {
   "cell_type": "code",
   "execution_count": 100,
   "metadata": {
    "id": "_2Zoud9YCHTp"
   },
   "outputs": [],
   "source": [
    "import torch\n",
    "import torch.nn as nn\n",
    "import torch.optim as optim\n",
    "import torch.nn.functional as F\n",
    "from torch.optim.lr_scheduler import LambdaLR, StepLR\n",
    "from torch import Tensor\n",
    "\n",
    "import torchtext\n",
    "from torch.utils.data import Dataset, DataLoader\n",
    "from torch.nn.utils.rnn import pad_sequence\n",
    "from collections import Counter\n",
    "from torchtext.vocab import vocab\n",
    "from torchtext.data.utils import get_tokenizer\n",
    "from nltk.tokenize import wordpunct_tokenize\n",
    "from nltk.translate.bleu_score import corpus_bleu\n",
    "\n",
    "import tqdm\n",
    "import numpy as np\n",
    "import pandas as pd\n",
    "import time\n",
    "\n",
    "import matplotlib\n",
    "matplotlib.rcParams.update({'figure.figsize': (16, 12), 'font.size': 14})\n",
    "import matplotlib.pyplot as plt\n",
    "%matplotlib inline\n",
    "from IPython.display import clear_output"
   ]
  },
  {
   "cell_type": "markdown",
   "metadata": {
    "id": "GN7_mRabyv4e"
   },
   "source": [
    "# Preprocessing\n",
    "\n"
   ]
  },
  {
   "cell_type": "code",
   "execution_count": 101,
   "metadata": {
    "id": "fKZK0WnyCOop"
   },
   "outputs": [],
   "source": [
    "MAX_SEQUENCE_LENGTH = 50\n",
    "BATCH_SIZE = 128\n",
    "\n",
    "DEVICE = torch.device('cuda' if torch.cuda.is_available() else 'cpu')"
   ]
  },
  {
   "cell_type": "code",
   "execution_count": 102,
   "metadata": {
    "id": "Opbut6JfqQeN"
   },
   "outputs": [],
   "source": [
    "# ru_tokenizer = get_tokenizer('spacy', language='ru')\n",
    "# en_tokenizer = get_tokenizer('spacy', language='en')\n",
    "\n",
    "ru_tokenizer = wordpunct_tokenize\n",
    "en_tokenizer = wordpunct_tokenize"
   ]
  },
  {
   "cell_type": "code",
   "execution_count": 103,
   "metadata": {
    "id": "lOSsEcLjqlaf"
   },
   "outputs": [],
   "source": [
    "# Step 1: Read the dataset file and parse it\n",
    "def read_dataset(file_path):\n",
    "    with open(file_path, 'r') as file:\n",
    "        lines = file.readlines()\n",
    "    english_sentences = []\n",
    "    russian_sentences = []\n",
    "    for line in lines:\n",
    "        english, russian = line.strip().split('\\t')\n",
    "        english_sentences.append(english)\n",
    "        russian_sentences.append(russian)\n",
    "    return english_sentences, russian_sentences\n",
    "\n",
    "en_sentences, ru_sentences = read_dataset(path_to_data)"
   ]
  },
  {
   "cell_type": "code",
   "execution_count": 104,
   "metadata": {
    "id": "VodNzF8dsO8A"
   },
   "outputs": [],
   "source": [
    "# Step 2: Tokenize the sentences\n",
    "def tokenize_sentences(sentences, tokenizer):\n",
    "    tokenized_sentences = [tokenizer(sentence.lower()) for sentence in sentences]\n",
    "    return tokenized_sentences\n",
    "\n",
    "ru_tokenized = tokenize_sentences(ru_sentences, ru_tokenizer)\n",
    "en_tokenized = tokenize_sentences(en_sentences, en_tokenizer)"
   ]
  },
  {
   "cell_type": "code",
   "execution_count": 105,
   "metadata": {
    "colab": {
     "base_uri": "https://localhost:8080/"
    },
    "id": "8ZPNLEz2xFlx",
    "outputId": "1190a478-ad28-4e9d-80c7-4a300a987054"
   },
   "outputs": [
    {
     "name": "stdout",
     "output_type": "stream",
     "text": [
      "['отель', 'cordelia', 'расположен', 'в', 'тбилиси', ',', 'в', '3', 'минутах', 'ходьбы', 'от', 'свято', '-', 'троицкого', 'собора', '.']\n"
     ]
    }
   ],
   "source": [
    "print(ru_tokenized[0])"
   ]
  },
  {
   "cell_type": "code",
   "execution_count": 106,
   "metadata": {
    "id": "Xlb_KxT4qnww"
   },
   "outputs": [],
   "source": [
    "# Step 3: Create vocabulary mappings\n",
    "def build_vocab(tokenized_sentences):\n",
    "    counter = Counter()\n",
    "    for sentence in tokenized_sentences:\n",
    "        counter.update(sentence)\n",
    "    vocab = torchtext.vocab.vocab(counter, min_freq=3, specials=('<UNK>', '<SOS>', '<EOS>', '<PAD>'))\n",
    "    vocab.set_default_index(vocab[\"<UNK>\"])\n",
    "    return vocab\n",
    "\n",
    "ru_vocab = build_vocab(ru_tokenized)\n",
    "en_vocab = build_vocab(en_tokenized)"
   ]
  },
  {
   "cell_type": "code",
   "execution_count": 107,
   "metadata": {
    "id": "ebQlhWacttgv"
   },
   "outputs": [],
   "source": [
    "SRC_VOCAB_SIZE = len(ru_vocab)\n",
    "TGT_VOCAB_SIZE = len(en_vocab)\n",
    "PAD_IDX = en_vocab['<PAD>']\n",
    "SOS_IDX = en_vocab['<SOS>']\n",
    "EOS_IDX = en_vocab['<EOS>']\n",
    "UNK_IDX = en_vocab['<UNK>']"
   ]
  },
  {
   "cell_type": "code",
   "execution_count": 108,
   "metadata": {
    "colab": {
     "base_uri": "https://localhost:8080/"
    },
    "id": "MtI7bPV1tyud",
    "outputId": "845adc90-f218-443b-878b-ff65e40ca356"
   },
   "outputs": [
    {
     "name": "stdout",
     "output_type": "stream",
     "text": [
      "7828\n",
      "10799\n"
     ]
    }
   ],
   "source": [
    "print(len(en_vocab))\n",
    "print(len(ru_vocab))"
   ]
  },
  {
   "cell_type": "code",
   "execution_count": 109,
   "metadata": {
    "id": "OT8o-VVtrTig"
   },
   "outputs": [],
   "source": [
    "# Step 4: Transform data to torch Tensor and make train, val, test split\n",
    "data = []\n",
    "for (ru_sentence, en_sentence) in zip(ru_tokenized, en_tokenized):\n",
    "    ru_tensor_ = torch.tensor(ru_vocab.lookup_indices(ru_sentence), dtype=torch.long)\n",
    "    en_tensor_ = torch.tensor(en_vocab.lookup_indices(en_sentence), dtype=torch.long)\n",
    "    data.append((ru_tensor_, en_tensor_))\n",
    "\n",
    "train_size = int(0.8 * len(data))\n",
    "val_size = int(0.15 * len(data))\n",
    "test_size = len(data) - train_size - val_size\n",
    "train_data, val_data, test_data = torch.utils.data.random_split(data, [train_size, val_size, test_size])"
   ]
  },
  {
   "cell_type": "code",
   "execution_count": 110,
   "metadata": {
    "id": "nnAVOeFNthS7"
   },
   "outputs": [],
   "source": [
    "# Step 5: Make batches and data loaders\n",
    "def generate_batch(data_batch):\n",
    "    ru_batch, en_batch = [], []\n",
    "    for (ru_item, en_item) in data_batch:\n",
    "        ru_batch.append(torch.cat([torch.tensor([ru_vocab['<SOS>']]),\n",
    "                                   ru_item,\n",
    "                                   torch.tensor([ru_vocab['<EOS>']])\n",
    "                                   ], dim=0))\n",
    "        en_batch.append(torch.cat([torch.tensor([en_vocab['<SOS>']]),\n",
    "                                   en_item,\n",
    "                                   torch.tensor([en_vocab['<EOS>']])\n",
    "                                   ], dim=0))\n",
    "    ru_batch = pad_sequence(ru_batch, padding_value=ru_vocab['<PAD>'])\n",
    "    en_batch = pad_sequence(en_batch, padding_value=en_vocab['<PAD>'])\n",
    "    return ru_batch, en_batch\n",
    "\n",
    "\n",
    "train_loader = DataLoader(train_data, batch_size=BATCH_SIZE,\n",
    "                        shuffle=True, collate_fn=generate_batch)\n",
    "val_loader = DataLoader(val_data, batch_size=BATCH_SIZE,\n",
    "                        shuffle=True, collate_fn=generate_batch)\n",
    "test_loader = DataLoader(test_data, batch_size=BATCH_SIZE,\n",
    "                       shuffle=True, collate_fn=generate_batch)"
   ]
  },
  {
   "cell_type": "code",
   "execution_count": 111,
   "metadata": {
    "id": "Q7xVWK-NxCK8"
   },
   "outputs": [],
   "source": [
    "batch = next(iter(train_loader))"
   ]
  },
  {
   "cell_type": "code",
   "execution_count": 112,
   "metadata": {
    "colab": {
     "base_uri": "https://localhost:8080/"
    },
    "id": "1GPWrvqRxQr_",
    "outputId": "798ab78a-fccf-4ff2-9750-ec1e5a2ae518"
   },
   "outputs": [
    {
     "name": "stdout",
     "output_type": "stream",
     "text": [
      "torch.Size([56, 128])\n"
     ]
    }
   ],
   "source": [
    "print(batch[0].shape)"
   ]
  },
  {
   "cell_type": "markdown",
   "metadata": {
    "id": "uQGZUeyLyUkP"
   },
   "source": [
    "# Определение модели"
   ]
  },
  {
   "cell_type": "code",
   "execution_count": 113,
   "metadata": {
    "id": "HiItw-uqxVfa"
   },
   "outputs": [],
   "source": [
    "class PositionalEncoding(nn.Module):\n",
    "    def __init__(self,\n",
    "                 emb_size: int,\n",
    "                 dropout: float,\n",
    "                 maxlen: int = 5000):\n",
    "        super(PositionalEncoding, self).__init__()\n",
    "        den = torch.exp(- torch.arange(0, emb_size, 2) * np.log(10000) / emb_size)\n",
    "        pos = torch.arange(0, maxlen).reshape(maxlen, 1)\n",
    "        pos_embedding = torch.zeros((maxlen, emb_size))\n",
    "        pos_embedding[:, 0::2] = torch.sin(pos * den)\n",
    "        pos_embedding[:, 1::2] = torch.cos(pos * den)\n",
    "        pos_embedding = pos_embedding.unsqueeze(-2)\n",
    "\n",
    "        self.dropout = nn.Dropout(dropout)\n",
    "        self.register_buffer('pos_embedding', pos_embedding)\n",
    "\n",
    "    def forward(self, token_embedding: Tensor):\n",
    "        return self.dropout(token_embedding + self.pos_embedding[:token_embedding.size(0), :])\n",
    "\n",
    "# helper Module to convert tensor of input indices into corresponding tensor of token embeddings\n",
    "class TokenEmbedding(nn.Module):\n",
    "    def __init__(self, vocab_size: int, emb_size):\n",
    "        super(TokenEmbedding, self).__init__()\n",
    "        self.embedding = nn.Embedding(vocab_size, emb_size)\n",
    "        self.emb_size = emb_size\n",
    "\n",
    "    def forward(self, tokens: Tensor):\n",
    "        return self.embedding(tokens.long()) * np.sqrt(self.emb_size)\n",
    "\n",
    "# Seq2Seq Network\n",
    "class Seq2SeqTransformer(nn.Module):\n",
    "    def __init__(self,\n",
    "                 num_encoder_layers: int,\n",
    "                 num_decoder_layers: int,\n",
    "                 emb_size: int,\n",
    "                 nhead: int,\n",
    "                 src_vocab_size: int,\n",
    "                 tgt_vocab_size: int,\n",
    "                 dim_feedforward: int = 512,\n",
    "                 dropout: float = 0.1):\n",
    "        super(Seq2SeqTransformer, self).__init__()\n",
    "        self.transformer = nn.Transformer(d_model=emb_size,\n",
    "                                          nhead=nhead,\n",
    "                                          num_encoder_layers=num_encoder_layers,\n",
    "                                          num_decoder_layers=num_decoder_layers,\n",
    "                                          dim_feedforward=dim_feedforward,\n",
    "                                          dropout=dropout)\n",
    "        self.generator = nn.Linear(emb_size, tgt_vocab_size)\n",
    "        self.src_tok_emb = TokenEmbedding(src_vocab_size, emb_size)\n",
    "        self.tgt_tok_emb = TokenEmbedding(tgt_vocab_size, emb_size)\n",
    "        self.positional_encoding = PositionalEncoding(\n",
    "            emb_size, dropout=dropout)\n",
    "\n",
    "    def forward(self,\n",
    "                src: Tensor,\n",
    "                trg: Tensor,\n",
    "                src_mask: Tensor,\n",
    "                tgt_mask: Tensor,\n",
    "                src_padding_mask: Tensor,\n",
    "                tgt_padding_mask: Tensor,\n",
    "                memory_key_padding_mask: Tensor):\n",
    "        src_emb = self.positional_encoding(self.src_tok_emb(src))\n",
    "        tgt_emb = self.positional_encoding(self.tgt_tok_emb(trg))\n",
    "        outs = self.transformer(src_emb, tgt_emb, src_mask, tgt_mask, None,\n",
    "                                src_padding_mask, tgt_padding_mask, memory_key_padding_mask)\n",
    "        return self.generator(outs)\n",
    "\n",
    "    def encode(self, src: Tensor, src_mask: Tensor):\n",
    "        return self.transformer.encoder(self.positional_encoding(\n",
    "                            self.src_tok_emb(src)), src_mask)\n",
    "\n",
    "    def decode(self, tgt: Tensor, memory: Tensor, tgt_mask: Tensor):\n",
    "        return self.transformer.decoder(self.positional_encoding(\n",
    "                          self.tgt_tok_emb(tgt)), memory,\n",
    "                          tgt_mask)"
   ]
  },
  {
   "cell_type": "code",
   "execution_count": 114,
   "metadata": {
    "id": "aggqBgaLzPR8"
   },
   "outputs": [],
   "source": [
    "def generate_square_subsequent_mask(sz):\n",
    "    mask = (torch.triu(torch.ones((sz, sz), device=DEVICE)) == 1).transpose(0, 1)\n",
    "    mask = mask.float().masked_fill(mask == 0, float('-inf')).masked_fill(mask == 1, float(0.0))\n",
    "    return mask\n",
    "\n",
    "\n",
    "def create_mask(src, tgt):\n",
    "    src_seq_len = src.shape[0]\n",
    "    tgt_seq_len = tgt.shape[0]\n",
    "\n",
    "    tgt_mask = generate_square_subsequent_mask(tgt_seq_len)\n",
    "    src_mask = torch.zeros((src_seq_len, src_seq_len), device=DEVICE).type(torch.bool)\n",
    "\n",
    "    src_padding_mask = (src == PAD_IDX).transpose(0, 1)\n",
    "    tgt_padding_mask = (tgt == PAD_IDX).transpose(0, 1)\n",
    "    return src_mask, tgt_mask, src_padding_mask, tgt_padding_mask"
   ]
  },
  {
   "cell_type": "code",
   "execution_count": 115,
   "metadata": {},
   "outputs": [],
   "source": [
    "def count_parameters(model):\n",
    "    return sum(p.numel() for p in model.parameters() if p.requires_grad)"
   ]
  },
  {
   "cell_type": "code",
   "execution_count": 156,
   "metadata": {
    "colab": {
     "base_uri": "https://localhost:8080/"
    },
    "id": "SE7DQgQEzlED",
    "outputId": "3541a165-c2f2-44bd-d09d-6e50fcbd181f"
   },
   "outputs": [
    {
     "name": "stdout",
     "output_type": "stream",
     "text": [
      "The model has 45,098,132 trainable parameters\n"
     ]
    }
   ],
   "source": [
    "EMB_SIZE = 512\n",
    "NHEAD = 8\n",
    "FFN_HID_DIM = 1024\n",
    "NUM_ENCODER_LAYERS = 6\n",
    "NUM_DECODER_LAYERS = 6\n",
    "DROPOUT = 0.5\n",
    "\n",
    "transformer = Seq2SeqTransformer(NUM_ENCODER_LAYERS, NUM_DECODER_LAYERS, EMB_SIZE,\n",
    "                                 NHEAD, SRC_VOCAB_SIZE, TGT_VOCAB_SIZE, FFN_HID_DIM, DROPOUT)\n",
    "\n",
    "for p in transformer.parameters():\n",
    "    if p.dim() > 1:\n",
    "        nn.init.xavier_uniform_(p)\n",
    "\n",
    "transformer = transformer.to(DEVICE)\n",
    "print(f'The model has {count_parameters(transformer):,} trainable parameters')\n",
    "\n",
    "criterion = torch.nn.CrossEntropyLoss(ignore_index=PAD_IDX)"
   ]
  },
  {
   "cell_type": "markdown",
   "metadata": {
    "id": "G5JOHqps60kJ"
   },
   "source": [
    "# Обучение"
   ]
  },
  {
   "cell_type": "code",
   "execution_count": 157,
   "metadata": {},
   "outputs": [],
   "source": [
    "def rate(step, model_size, factor, warmup):\n",
    "    \"\"\"\n",
    "    we have to default the step to 1 for LambdaLR function\n",
    "    to avoid zero raising to negative power.\n",
    "    \"\"\"\n",
    "    if step == 0:\n",
    "        step = 1\n",
    "    return factor * (\n",
    "        model_size ** (-0.5) * min(step ** (-0.5), step * warmup ** (-1.5))\n",
    "    )\n",
    "\n",
    "def my_rate(step, lr_max=0.001, step_max=50):\n",
    "    if step == 0:\n",
    "        step = 1\n",
    "    return lr_max * step_max**0.5 * min(step ** (-0.5), step * step_max**(-1.5))"
   ]
  },
  {
   "cell_type": "code",
   "execution_count": 158,
   "metadata": {
    "id": "oc7pjPmA0JEh"
   },
   "outputs": [],
   "source": [
    "def train_epoch(model, optimizer, criterion, n_show = 50, if_scheduler=False, \n",
    "                train_history=[], valid_history=[], bleu_history=[]):\n",
    "    model.train()\n",
    "    \n",
    "    epoch_loss = 0\n",
    "    I_val = []\n",
    "    epoch_history = []\n",
    "    val_history = []\n",
    "    nf_val_history = []\n",
    "    bleu_scores = []\n",
    "    for i, batch in tqdm.tqdm(enumerate(train_loader)):\n",
    "        src = batch[0].to(DEVICE)\n",
    "        tgt = batch[1].to(DEVICE)\n",
    "\n",
    "        optimizer.zero_grad()\n",
    "\n",
    "        tgt_input = tgt[:-1, :]\n",
    "        src_mask, tgt_mask, src_padding_mask, tgt_padding_mask = create_mask(src, tgt_input)\n",
    "\n",
    "        logits = model(src, tgt_input, src_mask, tgt_mask, src_padding_mask, tgt_padding_mask, src_padding_mask)\n",
    "\n",
    "        tgt_out = tgt[1:, :]\n",
    "        loss = criterion(logits.reshape(-1, logits.shape[-1]), tgt_out.reshape(-1))\n",
    "        loss.backward()\n",
    "\n",
    "        optimizer.step()\n",
    "        if if_scheduler: lr_scheduler.step()\n",
    "        \n",
    "        epoch_history.append(loss.cpu().data.numpy())\n",
    "        epoch_loss += loss.item()\n",
    "\n",
    "        if (i+1) % n_show == 0:\n",
    "            I_val.append(i)\n",
    "            val_history.append(evaluate(model, val_loader, criterion))\n",
    "            \n",
    "            # bleu_score, _1, _2 = calc_bleu(model, val_loader)\n",
    "            # bleu_scores.append(bleu_score)\n",
    "            \n",
    "            model.train()\n",
    "            \n",
    "            fig, ax = plt.subplots(nrows=1, ncols=3, figsize=(11, 3))\n",
    "    \n",
    "            line_11, = ax[0].plot(epoch_history, label='train loss')\n",
    "            line_12, = ax[0].plot(I_val, val_history, label='val loss')\n",
    "            # line_13, = ax[0].plot(I_val, nf_val_history, label='no force val loss')\n",
    "            ax[0].set_xlabel('Batch')\n",
    "            ax[0].set_title('Loss')\n",
    "            ax[0].legend()\n",
    "            \n",
    "            # line_21, = ax[1].plot(I_val, bleu_scores, label='Validation BLEU')\n",
    "            # ax[1].set_xlabel('Batch')\n",
    "            # ax[1].set_title('BLEU')            \n",
    "            # ax[1].legend()\n",
    "            \n",
    "            if train_history != []:\n",
    "                ax[1].plot(train_history, label='Train loss')\n",
    "            if valid_history != []:\n",
    "                ax[1].plot(valid_history, label='Valid loss')\n",
    "            ax[1].legend()\n",
    "            ax[1].set_xlabel('# of epoch')\n",
    "            ax[1].set_title('Loss')\n",
    "            \n",
    "            if bleu_history != []:\n",
    "                ax[2].plot(bleu_history, label='Validation BLEU' )\n",
    "                ax[1].set_xlabel('# of epoch')\n",
    "                ax[2].set_title('BLEU')            \n",
    "                ax[2].legend()\n",
    "            \n",
    "            \n",
    "            clear_output(True)\n",
    "            plt.show()\n",
    "\n",
    "    return epoch_loss / len(list(train_loader))\n",
    "\n",
    "\n",
    "def evaluate(model, loader, criterion):\n",
    "    model.eval()\n",
    "    losses = 0\n",
    "\n",
    "    for src, tgt in loader:\n",
    "        src = src.to(DEVICE)\n",
    "        tgt = tgt.to(DEVICE)\n",
    "\n",
    "        tgt_input = tgt[:-1, :]\n",
    "\n",
    "        src_mask, tgt_mask, src_padding_mask, tgt_padding_mask = create_mask(src, tgt_input)\n",
    "\n",
    "        logits = model(src, tgt_input, src_mask, tgt_mask, src_padding_mask, tgt_padding_mask, src_padding_mask)\n",
    "\n",
    "        tgt_out = tgt[1:, :]\n",
    "        loss = criterion(logits.reshape(-1, logits.shape[-1]), tgt_out.reshape(-1))\n",
    "        losses += loss.item()\n",
    "\n",
    "    return losses / len(list(loader))"
   ]
  },
  {
   "cell_type": "code",
   "execution_count": 159,
   "metadata": {
    "id": "5zLtZzvw3zy8"
   },
   "outputs": [],
   "source": [
    "# function to generate output sequence using greedy algorithm\n",
    "def greedy_decode(model, src, src_mask, max_len, start_symbol):\n",
    "    src = src.to(DEVICE)\n",
    "    src_mask = src_mask.to(DEVICE)\n",
    "\n",
    "    memory = model.encode(src, src_mask)\n",
    "    ys = torch.ones(1, src.shape[1]).fill_(start_symbol).type(torch.long).to(DEVICE)\n",
    "    for i in range(max_len-1):\n",
    "        memory = memory.to(DEVICE)\n",
    "        tgt_mask = (generate_square_subsequent_mask(ys.size(0))\n",
    "                    .type(torch.bool)).to(DEVICE)\n",
    "        out = model.decode(ys, memory, tgt_mask)\n",
    "        out = out.transpose(0, 1)\n",
    "        prob = model.generator(out[:, -1])\n",
    "        _, next_word = torch.max(prob, dim=1)\n",
    "\n",
    "        ys = torch.cat([ys, next_word.unsqueeze(0)], dim=0)\n",
    "    return ys"
   ]
  },
  {
   "cell_type": "code",
   "execution_count": 160,
   "metadata": {},
   "outputs": [],
   "source": [
    "# Translate test data and get model translations\n",
    "def calc_bleu(model, loader):\n",
    "    translated_sentences = []\n",
    "    target_sentences = []\n",
    "\n",
    "    for batch in loader:\n",
    "        model.eval()\n",
    "        src = batch[0].to(DEVICE)\n",
    "        trg = batch[1].to(DEVICE)\n",
    "\n",
    "        num_tokens = src.shape[0]\n",
    "        src_mask = (torch.zeros(num_tokens, num_tokens)).type(torch.bool)\n",
    "\n",
    "        with torch.no_grad():\n",
    "            # Assuming your model returns token indices\n",
    "            translated_indices = greedy_decode(model, src, src_mask, MAX_SEQUENCE_LENGTH, SOS_IDX)\n",
    "            translated_indices = translated_indices.transpose(0, 1).cpu().tolist()\n",
    "\n",
    "            for indices in translated_indices:\n",
    "                tmp = []\n",
    "                for idx in indices:\n",
    "                    if idx == UNK_IDX or idx > 3:\n",
    "                        tmp.append(en_vocab.lookup_token(idx))\n",
    "                    elif idx == EOS_IDX:\n",
    "                        break\n",
    "                translated_sentences.append(tmp)\n",
    "\n",
    "            trg_indices = trg.transpose(0, 1).cpu().tolist()\n",
    "            for indices in trg_indices:\n",
    "                tmp = []\n",
    "                for idx in indices:\n",
    "                    if idx == UNK_IDX or idx > 3:\n",
    "                        tmp.append(en_vocab.lookup_token(idx))\n",
    "                    elif idx == EOS_IDX:\n",
    "                        break\n",
    "                target_sentences.append(tmp)\n",
    "            \n",
    "    bleu_score = corpus_bleu([[text] for text in target_sentences], translated_sentences) * 100\n",
    "    return bleu_score, translated_sentences, target_sentences"
   ]
  },
  {
   "cell_type": "code",
   "execution_count": 163,
   "metadata": {
    "id": "NRBXRaPI3SKb"
   },
   "outputs": [],
   "source": [
    "from timeit import default_timer as timer\n",
    "NUM_EPOCHS = 20\n",
    "n_show = 50\n",
    "if_scheduler = True\n",
    "\n",
    "optimizer = torch.optim.Adam(transformer.parameters(), lr=0.0002, betas=(0.9, 0.98), eps=1e-9)\n",
    "\n",
    "if if_scheduler:\n",
    "    # lr_scheduler = LambdaLR(optimizer=optimizer, lr_lambda=lambda step: my_rate(step, 0.0002, 2))\n",
    "\n",
    "    lr_scheduler = StepLR(optimizer, step_size=200, gamma=0.92)\n",
    "\n",
    "train_history = []\n",
    "valid_history = []\n",
    "bleu_scores = []"
   ]
  },
  {
   "cell_type": "code",
   "execution_count": null,
   "metadata": {
    "id": "FapTJ5Uv9Kf3"
   },
   "outputs": [
    {
     "data": {
      "image/png": "[encoded data removed]",
      "text/plain": [
       "<Figure size 1100x300 with 3 Axes>"
      ]
     },
     "metadata": {},
     "output_type": "display_data"
    },
    {
     "name": "stderr",
     "output_type": "stream",
     "text": [
      "190it [00:17, 15.11it/s]"
     ]
    }
   ],
   "source": [
    "for epoch in range(1, NUM_EPOCHS+1):\n",
    "    start_time = timer()\n",
    "    train_loss = train_epoch(transformer,\n",
    "                             optimizer,\n",
    "                             criterion,\n",
    "                             n_show, \n",
    "                             if_scheduler,\n",
    "                             train_history,\n",
    "                             valid_history,\n",
    "                             bleu_scores)\n",
    "    val_loss = evaluate(transformer, val_loader, criterion)\n",
    "    bleu_score, _1, _2 = calc_bleu(transformer, val_loader)\n",
    "    end_time = timer()\n",
    "\n",
    "    train_history.append(train_loss)\n",
    "    valid_history.append(val_loss)\n",
    "    bleu_scores.append(bleu_score)\n",
    "\n",
    "    print((f\"Epoch: {epoch}, Train loss: {train_loss:.3f}, Val loss: {val_loss:.3f}, \\\n",
    "           \"f\"Epoch time = {(end_time - start_time):.3f}s\"))\n"
   ]
  },
  {
   "cell_type": "code",
   "execution_count": null,
   "metadata": {},
   "outputs": [],
   "source": [
    "fig, ax = plt.subplots(nrows=1, ncols=2, figsize=(12, 5))\n",
    "ax[0].plot(train_history, label='Train history')\n",
    "ax[0].plot(valid_history, label='Validation history')\n",
    "ax[0].set_xlabel('# of epoch')\n",
    "ax[0].set_title('Loss')\n",
    "ax[0].legend()\n",
    "\n",
    "ax[1].plot(bleu_scores, label='Validation BLEU')\n",
    "ax[1].set_xlabel('# of epoch')\n",
    "ax[1].set_title('BLEU')\n",
    "plt.legend()\n",
    "\n",
    "plt.show()"
   ]
  },
  {
   "cell_type": "code",
   "execution_count": 110,
   "metadata": {
    "colab": {
     "base_uri": "https://localhost:8080/"
    },
    "id": "0WiyGebtF4Mm",
    "outputId": "df171032-6f57-42dc-a075-97a72bc290c9"
   },
   "outputs": [
    {
     "name": "stdout",
     "output_type": "stream",
     "text": [
      "BLEU Score: 9.533380040604197\n"
     ]
    }
   ],
   "source": [
    "# Calculate BLEU score\n",
    "bleu_score, translated_sentences, target_sentences = calc_bleu(transformer, test_loader)\n",
    "print(\"BLEU Score:\", bleu_score)"
   ]
  },
  {
   "cell_type": "code",
   "execution_count": null,
   "metadata": {
    "id": "MuuLpxluGrgp"
   },
   "outputs": [],
   "source": []
  }
 ],
 "metadata": {
  "accelerator": "GPU",
  "colab": {
   "gpuType": "T4",
   "provenance": []
  },
  "kernelspec": {
   "display_name": "Python 3 (ipykernel)",
   "language": "python",
   "name": "python3"
  },
  "language_info": {
   "codemirror_mode": {
    "name": "ipython",
    "version": 3
   },
   "file_extension": ".py",
   "mimetype": "text/x-python",
   "name": "python",
   "nbconvert_exporter": "python",
   "pygments_lexer": "ipython3",
   "version": "3.9.13"
  }
 },
 "nbformat": 4,
 "nbformat_minor": 4
}
