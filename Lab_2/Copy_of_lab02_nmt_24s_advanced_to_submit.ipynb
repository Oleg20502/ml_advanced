{
 "cells": [
  {
   "cell_type": "markdown",
   "metadata": {
    "id": "BmwNc0Bb5X3p"
   },
   "source": [
    "## Lab assignment 02"
   ]
  },
  {
   "cell_type": "markdown",
   "metadata": {
    "id": "Ydqh6Nv-5X3q"
   },
   "source": [
    "### Neural Machine Translation in the wild\n",
    "In the third homework you are supposed to get the best translation you can for the RU-EN translation task.\n",
    "\n",
    "Basic approach using RNNs as encoder and decoder is implemented for you.\n",
    "\n",
    "Your ultimate task is to use the techniques we've covered, e.g.\n",
    "\n",
    "* Optimization enhancements (e.g. learning rate decay)\n",
    "\n",
    "* Transformer/CNN/<whatever you select> encoder (with or without positional encoding)\n",
    "\n",
    "* attention/self-attention mechanism (**highly recommended**)\n",
    "\n",
    "* custom tokenization (BPE units, other subword approaches)\n",
    "\n",
    "to improve the translation quality.\n",
    "\n",
    "--------\n",
    "\n",
    "* __Please use at least three different approaches/models and compare them (translation quality/complexity/training and evaluation time).__\n",
    "\n",
    "* Write down some summary on your experiments and illustrate it with convergence plots/metrics and your thoughts. Just like you would approach a real problem."
   ]
  },
  {
   "cell_type": "code",
   "execution_count": 2,
   "metadata": {
    "colab": {
     "base_uri": "https://localhost:8080/"
    },
    "id": "meRCsofE5X3r",
    "outputId": "9cc3e00c-a0d1-4efc-b541-c44f8829bac8"
   },
   "outputs": [],
   "source": [
    "# Thanks to YSDA NLP course team for the data\n",
    "# (who thanks tilda and deephack teams for the data in their turn)\n",
    "\n",
    "import os\n",
    "# path_to_data = '../../datasets/Machine_translation_EN_RU/data.txt'\n",
    "# if not os.path.exists(path_to_data):\n",
    "#     print(\"Dataset not found locally. Downloading from github.\")\n",
    "#     !wget https://raw.githubusercontent.com/neychev/made_nlp_course/master/datasets/Machine_translation_EN_RU/data.txt -nc\n",
    "#     path_to_data = './data.txt'"
   ]
  },
  {
   "cell_type": "code",
   "execution_count": 3,
   "metadata": {},
   "outputs": [],
   "source": [
    "path_to_data = './data.txt'"
   ]
  },
  {
   "cell_type": "markdown",
   "metadata": {
    "id": "mSVNrhIm560f"
   },
   "source": [
    "#### Grading criteria\n",
    "\n",
    "**100%**\n",
    "- implementation of at least 3 model improvements over baseline\n",
    "- threshold of 27 BLEU on test corpus\n",
    "- experimental results and conclusions in human-readable format :)\n",
    "\n",
    "**70%**\n",
    "- implementation of at least 2 model improvements over baseline\n",
    "- threshold of 25 BLEU on test corpus\n",
    "- experimental results and conclusions in human-readable format :)\n",
    "\n",
    "**30%**\n",
    "- implementation of at least 1 model improvement over baseline\n",
    "- threshold of 21 BLEU on test corpus\n",
    "- experimental results and conclusions in human-readable format :)\n",
    "\n",
    "\n",
    "------\n",
    "\n",
    "#### **Note: Please do not use pretrained machine translation / BERT / LLM checkpoints. All such solutions will be graded at 30% pts.**\n"
   ]
  },
  {
   "cell_type": "markdown",
   "metadata": {
    "id": "gTCdJvym5X3r"
   },
   "source": [
    "### Setup"
   ]
  },
  {
   "cell_type": "markdown",
   "metadata": {
    "id": "VeHVOZXsod1k"
   },
   "source": [
    "Библиотеки"
   ]
  },
  {
   "cell_type": "code",
   "execution_count": 4,
   "metadata": {
    "id": "afYOms9K5Kcg"
   },
   "outputs": [
    {
     "name": "stderr",
     "output_type": "stream",
     "text": [
      "/opt/calculation/anaconda3/lib/python3.9/site-packages/scipy/__init__.py:155: UserWarning: A NumPy version >=1.18.5 and <1.25.0 is required for this version of SciPy (detected version 1.26.4\n",
      "  warnings.warn(f\"A NumPy version >={np_minversion} and <{np_maxversion}\"\n"
     ]
    }
   ],
   "source": [
    "import collections\n",
    "import IPython\n",
    "import nltk\n",
    "import numpy as np\n",
    "import time\n",
    "import tqdm\n",
    "\n",
    "import matplotlib.pyplot as plt\n",
    "%matplotlib inline\n",
    "\n",
    "import torch\n",
    "import torchtext"
   ]
  },
  {
   "cell_type": "markdown",
   "metadata": {
    "id": "ZHpourSjog6a"
   },
   "source": [
    "В работе сделаны 3 улучшения базовой модели:\n",
    "* механизм attention\n",
    "* изменяемый learning rate\n",
    "* трансформер\n",
    "\n",
    "При этом везде используются одинаковые размеры embedding и другие гиперпараметры, чтобы наиболее объективно сравнивать между собой архитектуры моделей"
   ]
  },
  {
   "cell_type": "markdown",
   "metadata": {
    "id": "cmifFvwO_eB9"
   },
   "source": [
    "Гиперпааметры"
   ]
  },
  {
   "cell_type": "code",
   "execution_count": 66,
   "metadata": {
    "id": "dfBbICiSC3ym"
   },
   "outputs": [],
   "source": [
    "min_freq = 3\n",
    "max_length = 60\n",
    "batch_size = 128\n",
    "clip = 1\n",
    "\n",
    "train_part = 0.8\n",
    "val_part = 0.15\n",
    "\n",
    "n_show = 1\n",
    "n_val = 100\n",
    "\n",
    "# Baseline\n",
    "base_enc_layers = 1\n",
    "base_dec_layers = 1\n",
    "base_dropout_p = 0.5\n",
    "base_lr = 0.001\n",
    "base_emb_size = 300\n",
    "base_hid_size = 300\n",
    "base_path = 'base.pt'\n",
    "\n",
    "# Attention\n",
    "att_enc_layers = 1\n",
    "att_dec_layers = 1\n",
    "att_dropout_p = 0.5\n",
    "att_lr = 0.001\n",
    "att_emb_size = 300\n",
    "att_hid_size = 300\n",
    "att_path = 'att.pt'\n",
    "\n",
    "# Attention + learning rate adjustment\n",
    "att_lr_path = 'att_lr.pt'\n",
    "\n",
    "# Transformer\n",
    "transf_enc_layers = 1\n",
    "transf_dec_layers = 1\n",
    "transf_emb_size = 300\n",
    "n_head = 2\n",
    "dim_feedforward = 300\n",
    "transf_dropout_p = 0\n",
    "transf_lr = 0.001\n",
    "transf_path = 'transf.pt'"
   ]
  },
  {
   "cell_type": "code",
   "execution_count": 6,
   "metadata": {
    "colab": {
     "base_uri": "https://localhost:8080/"
    },
    "id": "AMKrsnpTSS87",
    "outputId": "a35813ae-630d-44d1-c46c-47b1d401a9ec"
   },
   "outputs": [
    {
     "name": "stdout",
     "output_type": "stream",
     "text": [
      "cuda\n"
     ]
    }
   ],
   "source": [
    "device = torch.device('cuda' if torch.cuda.is_available() else 'cpu')\n",
    "print(device)"
   ]
  },
  {
   "cell_type": "markdown",
   "metadata": {
    "id": "45VrR5c75X3s"
   },
   "source": [
    "### Предобработка"
   ]
  },
  {
   "cell_type": "markdown",
   "metadata": {
    "id": "rE2lwcAZ4XL4"
   },
   "source": [
    "Разбиваем данные на пары английских и русских примеров"
   ]
  },
  {
   "cell_type": "code",
   "execution_count": 7,
   "metadata": {
    "colab": {
     "base_uri": "https://localhost:8080/"
    },
    "id": "2r0wsgj11oUq",
    "outputId": "157998c7-4fd3-475f-d84e-2848b7183906"
   },
   "outputs": [
    {
     "name": "stdout",
     "output_type": "stream",
     "text": [
      "Samples in dataset: 50000\n",
      "English example: Cordelia Hotel is situated in Tbilisi, a 3-minute walk away from Saint Trinity Church.\n",
      "Russian example: Отель Cordelia расположен в Тбилиси, в 3 минутах ходьбы от Свято-Троицкого собора.\n"
     ]
    }
   ],
   "source": [
    "dataset = []\n",
    "\n",
    "with open(path_to_data) as data:\n",
    "  examples = data.readlines()\n",
    "\n",
    "for ex in examples:\n",
    "  src_sample, targ_sample = ex.strip().split('\\t')\n",
    "  dataset.append({'en': src_sample, 'rus': targ_sample})\n",
    "\n",
    "n_examples = len(dataset)\n",
    "\n",
    "print('Samples in dataset:', n_examples)\n",
    "print('English example:', dataset[0]['en'])\n",
    "print('Russian example:', dataset[0]['rus'])"
   ]
  },
  {
   "cell_type": "markdown",
   "metadata": {
    "id": "HwUzBc1o4-D0"
   },
   "source": [
    "Токенизируем данные"
   ]
  },
  {
   "cell_type": "code",
   "execution_count": 8,
   "metadata": {
    "colab": {
     "base_uri": "https://localhost:8080/"
    },
    "id": "oPO77mDN6nyf",
    "outputId": "e88b17b9-1e1a-4df2-995a-ede2f49e220a"
   },
   "outputs": [
    {
     "name": "stdout",
     "output_type": "stream",
     "text": [
      "Samples in dataset: 50000\n",
      "Tokenized english: ['the', 'danube', 'delta', 'is', 'a', 'natural', 'reserve', 'where', 'you', 'can', 'go', 'fishing', ',', 'bird', 'watching']\n",
      "Tokenized russian: ['дельта', 'дуная', 'является', 'природным', 'заповедником', ',', 'в', 'котором', 'можно', 'заняться', 'рыбной', 'ловлей', ',', 'понаблюдать', 'за']\n",
      "English length: 26\n",
      "Rissian length: 27\n"
     ]
    }
   ],
   "source": [
    "tokenizer = nltk.tokenize.wordpunct_tokenize\n",
    "tok_data = [{'en': tokenizer(pair['en'].lower()),\n",
    "             'rus': tokenizer(pair['rus'].lower())} for pair in dataset]\n",
    "\n",
    "print('Samples in dataset:', len(tok_data))\n",
    "print('Tokenized english:', tok_data[9]['en'][:15])\n",
    "print('Tokenized russian:', tok_data[9]['rus'][:15])\n",
    "print('English length:', len(tok_data[9]['en']))\n",
    "print('Rissian length:', len(tok_data[9]['rus']))"
   ]
  },
  {
   "cell_type": "markdown",
   "metadata": {
    "id": "9DszLqeL6IOt"
   },
   "source": [
    "Создаём словарь"
   ]
  },
  {
   "cell_type": "code",
   "execution_count": 9,
   "metadata": {
    "colab": {
     "base_uri": "https://localhost:8080/"
    },
    "id": "gkNjQ1Fk_aJA",
    "outputId": "70463022-6e20-4643-8e7f-c587c570dbec"
   },
   "outputs": [
    {
     "name": "stdout",
     "output_type": "stream",
     "text": [
      "English vocabulary size: 7828\n",
      "Russian vocabulary size: 10799\n",
      "Russian tokens: ['<UNK>', '<SOS>', '<EOS>', '<PAD>', 'отель', 'расположен', 'в', 'тбилиси', ',', '3']\n",
      "English tokens: ['<UNK>', '<SOS>', '<EOS>', '<PAD>', 'hotel', 'is', 'situated', 'in', 'tbilisi', ',']\n"
     ]
    }
   ],
   "source": [
    "specials = ('<UNK>', '<SOS>', '<EOS>', '<PAD>')\n",
    "\n",
    "en_tokens = collections.Counter()\n",
    "rus_tokens = collections.Counter()\n",
    "\n",
    "for pair in tok_data:\n",
    "  en_tokens.update(pair['en'])\n",
    "  rus_tokens.update(pair['rus'])\n",
    "\n",
    "en_voc = torchtext.vocab.vocab(en_tokens, min_freq=min_freq, specials=specials)\n",
    "rus_voc = torchtext.vocab.vocab(rus_tokens, min_freq=min_freq,\n",
    "                                specials=specials)\n",
    "\n",
    "en_voc.set_default_index(en_voc['<UNK>'])\n",
    "rus_voc.set_default_index(rus_voc['<UNK>'])\n",
    "\n",
    "voc = {'en': en_voc, 'rus': rus_voc}\n",
    "\n",
    "input_size = len(voc['rus'])\n",
    "output_size = len(voc['en'])\n",
    "\n",
    "en_sos_idx = voc['en']['<SOS>']\n",
    "rus_sos_idx = voc['rus']['<SOS>']\n",
    "\n",
    "en_eos_idx = voc['en']['<EOS>']\n",
    "rus_eos_idx = voc['rus']['<EOS>']\n",
    "\n",
    "en_pad_idx = voc['en']['<PAD>']\n",
    "rus_pad_idx = voc['rus']['<PAD>']\n",
    "\n",
    "en_unk_idx = voc['en']['<UNK>']\n",
    "rus_unk_idx = voc['rus']['<UNK>']\n",
    "\n",
    "print('English vocabulary size:', output_size)\n",
    "print('Russian vocabulary size:', input_size)\n",
    "\n",
    "print('Russian tokens:', voc['rus'].lookup_tokens(list(range(10))))\n",
    "print('English tokens:', voc['en'].lookup_tokens(list(range(10))))"
   ]
  },
  {
   "cell_type": "markdown",
   "metadata": {
    "id": "NxjkosbK6cqM"
   },
   "source": [
    "Заменяем токены на индексы в словаре"
   ]
  },
  {
   "cell_type": "code",
   "execution_count": 10,
   "metadata": {
    "colab": {
     "base_uri": "https://localhost:8080/"
    },
    "id": "xbvHhdr2I9wO",
    "outputId": "99d54a8f-9231-445d-d55f-4ce98cd6e428"
   },
   "outputs": [
    {
     "name": "stdout",
     "output_type": "stream",
     "text": [
      "Amount of samples: 50000\n",
      "English sentence: [1, 67, 88, 89, 5, 10, 90, 91, 92, 23, 70, 93, 94, 9, 95, 96, 9, 97, 98, 99, 100, 101, 102, 103, 104, 105, 20, 2]\n",
      "Russian sentence: [1, 98, 99, 100, 101, 102, 8, 6, 103, 91, 104, 105, 106, 8, 107, 95, 108, 8, 109, 89, 110, 111, 112, 113, 6, 114, 115, 16, 2]\n",
      "English length: 28\n",
      "Russian length: 29\n"
     ]
    }
   ],
   "source": [
    "indexed_data = [{'en': [voc['en']['<SOS>']] +\n",
    "                     [voc['en'][token] for token in pair['en']] +\n",
    "                     [voc['en']['<EOS>']],\n",
    "               'rus': [voc['rus']['<SOS>']] +\n",
    "                      [voc['rus'][token] for token in pair['rus']] +\n",
    "                      [voc['rus']['<EOS>']]} for pair in tok_data]\n",
    "\n",
    "print('Amount of samples:', n_examples)\n",
    "\n",
    "print('English sentence:', indexed_data[9]['en'])\n",
    "print('Russian sentence:', indexed_data[9]['rus'])\n",
    "\n",
    "print('English length:', len(indexed_data[9]['en']))\n",
    "print('Russian length:', len(indexed_data[9]['rus']))"
   ]
  },
  {
   "cell_type": "markdown",
   "metadata": {
    "id": "5Ln37eEUMyV1"
   },
   "source": [
    "Распределение длинн последовательностей"
   ]
  },
  {
   "cell_type": "code",
   "execution_count": 11,
   "metadata": {
    "colab": {
     "base_uri": "https://localhost:8080/",
     "height": 492
    },
    "id": "3Ac1cUCVMvnT",
    "outputId": "bee967b7-398b-4c22-898c-f7ed3fe7366c"
   },
   "outputs": [
    {
     "data": {
      "image/png": "[encoded data removed]",
      "text/plain": [
       "<Figure size 640x480 with 2 Axes>"
      ]
     },
     "metadata": {},
     "output_type": "display_data"
    }
   ],
   "source": [
    "en_length = map(len, [indexed_data[i]['en'] for i in range(n_examples)])\n",
    "rus_length = map(len, [indexed_data[i]['rus'] for i in range(n_examples)])\n",
    "\n",
    "fig = plt.figure()\n",
    "fig.suptitle('Length distribution in data')\n",
    "\n",
    "plt.subplot(1, 2, 1)\n",
    "plt.title(\"English\")\n",
    "plt.xlabel('Length')\n",
    "plt.ylabel('Samples amount')\n",
    "plt.hist(list(en_length))\n",
    "\n",
    "plt.subplot(1, 2, 2)\n",
    "plt.title(\"Russian\")\n",
    "plt.xlabel('Length')\n",
    "plt.ylabel('Samples amount')\n",
    "plt.hist(list(rus_length))\n",
    "\n",
    "plt.tight_layout()\n",
    "plt.show()"
   ]
  },
  {
   "cell_type": "markdown",
   "metadata": {
    "id": "aPEf262BQ7yE"
   },
   "source": [
    "#### Предобработка для Seq2Seq\n",
    "Делаем паддинг и разбиваем данные на обучающие, валидационные и тестовые"
   ]
  },
  {
   "cell_type": "markdown",
   "metadata": {
    "id": "IsxsPhco67Cw"
   },
   "source": [
    "Паддинг"
   ]
  },
  {
   "cell_type": "code",
   "execution_count": 12,
   "metadata": {
    "colab": {
     "base_uri": "https://localhost:8080/"
    },
    "id": "rv5PXim0PXE3",
    "outputId": "59d9ff77-4f41-4458-d7e9-df1e1395eac7"
   },
   "outputs": [
    {
     "name": "stdout",
     "output_type": "stream",
     "text": [
      "Data tensor shape: torch.Size([50000, 60])\n",
      "Example sentence: tensor([ 1, 21,  0, 22, 23, 24, 25, 10, 26, 12, 27, 28, 29,  9, 30, 31,  9, 32,\n",
      "        10, 33, 34, 20,  2,  3,  3,  3,  3,  3,  3,  3,  3,  3,  3,  3,  3,  3,\n",
      "         3,  3,  3,  3,  3,  3,  3,  3,  3,  3,  3,  3,  3,  3,  3,  3,  3,  3,\n",
      "         3,  3,  3,  3,  3,  3])\n"
     ]
    }
   ],
   "source": [
    "pad_en_list = []\n",
    "pad_rus_list = []\n",
    "\n",
    "for pair in indexed_data:\n",
    "  pad_en = pair['en'][:max_length] + [en_pad_idx] * (max_length - len(pair['en']))\n",
    "  pad_rus = pair['rus'][:max_length] + [rus_pad_idx] * (max_length - len(pair['rus']))\n",
    "\n",
    "  pad_en_list.append(pad_en)\n",
    "  pad_rus_list.append(pad_rus)\n",
    "\n",
    "padded_data = {'en': torch.tensor(pad_en_list),\n",
    "               'rus': torch.tensor(pad_rus_list)}\n",
    "\n",
    "print('Data tensor shape:', padded_data['en'].shape)\n",
    "print('Example sentence:', padded_data['en'][1])"
   ]
  },
  {
   "cell_type": "markdown",
   "metadata": {
    "id": "iozm7xG39j9x"
   },
   "source": [
    "Разбиваем данные на тренировочные, валидационные и тестовые"
   ]
  },
  {
   "cell_type": "code",
   "execution_count": 13,
   "metadata": {
    "colab": {
     "base_uri": "https://localhost:8080/"
    },
    "id": "5DYPP9_i9p2h",
    "outputId": "9878b1e4-3467-45b6-a29b-c42dd36015b0"
   },
   "outputs": [
    {
     "name": "stdout",
     "output_type": "stream",
     "text": [
      "Train size: 40000\n",
      "Val size: 7500\n",
      "Test size: 2500\n"
     ]
    }
   ],
   "source": [
    "examples = list(zip(padded_data['en'], padded_data['rus']))\n",
    "\n",
    "train_size = round(train_part * n_examples)\n",
    "val_size = round(val_part * n_examples)\n",
    "test_size = round((1 - train_part - val_part) * n_examples)\n",
    "\n",
    "train_data, val_data, test_data = torch.utils.data.random_split(examples,\n",
    "                                              [train_size, val_size, test_size])\n",
    "train_loader = torch.utils.data.DataLoader(train_data, batch_size=batch_size,\n",
    "                                           shuffle=True, num_workers=2,\n",
    "                                           drop_last=True)\n",
    "val_loader = torch.utils.data.DataLoader(val_data, batch_size=batch_size,\n",
    "                                         shuffle=False, num_workers=2,\n",
    "                                         drop_last=True)\n",
    "test_loader = torch.utils.data.DataLoader(test_data, batch_size=batch_size,\n",
    "                                          shuffle=False, num_workers=2,\n",
    "                                          drop_last=True)\n",
    "\n",
    "print('Train size:', len(train_data))\n",
    "print('Val size:', len(val_data))\n",
    "print('Test size:', len(test_data))"
   ]
  },
  {
   "cell_type": "markdown",
   "metadata": {
    "id": "oSWQm--tQ2f5"
   },
   "source": [
    "#### Предобработка для трансформера\n",
    "Для трансформера удобнее сделать batch_first=False. Также используем встроенную в torch функцию для паддинга"
   ]
  },
  {
   "cell_type": "markdown",
   "metadata": {
    "id": "aHLhneAl69SA"
   },
   "source": [
    "Разбиваем данные на тренировочные, валидационные и тестовые"
   ]
  },
  {
   "cell_type": "code",
   "execution_count": 14,
   "metadata": {
    "colab": {
     "base_uri": "https://localhost:8080/"
    },
    "id": "ALjG0icJStDW",
    "outputId": "7ef0221b-5d4f-4781-beb4-78f228045e7b"
   },
   "outputs": [
    {
     "name": "stdout",
     "output_type": "stream",
     "text": [
      "Train size: 40000\n",
      "Val size: 7500\n",
      "Test size: 2500\n"
     ]
    }
   ],
   "source": [
    "en_indexed = [indexed_data[idx]['en'] for idx in range(n_examples)]\n",
    "ru_indexed = [indexed_data[idx]['rus'] for idx in range(n_examples)]\n",
    "\n",
    "data = []\n",
    "\n",
    "for (ru_idxs, en_idxs) in zip(ru_indexed, en_indexed):\n",
    "  ru_tensor_ = torch.tensor(ru_idxs, dtype=torch.long)\n",
    "  en_tensor_ = torch.tensor(en_idxs, dtype=torch.long)\n",
    "  data.append((ru_tensor_, en_tensor_))\n",
    "\n",
    "train_size = round(train_part * n_examples)\n",
    "val_size = round(val_part * n_examples)\n",
    "test_size = round((1 - train_part - val_part) * n_examples)\n",
    "\n",
    "train_data, val_data, test_data = torch.utils.data.random_split(data,\n",
    "                                                                [train_size,\n",
    "                                                                 val_size,\n",
    "                                                                 test_size])\n",
    "print('Train size:', len(train_data))\n",
    "print('Val size:', len(val_data))\n",
    "print('Test size:', len(test_data))"
   ]
  },
  {
   "cell_type": "code",
   "execution_count": 15,
   "metadata": {
    "id": "wOMw1kSSPEQi"
   },
   "outputs": [],
   "source": [
    "def generate_batch(data_batch):\n",
    "    ru_batch, en_batch = [], []\n",
    "\n",
    "    for (ru_item, en_item) in data_batch:\n",
    "        ru_batch.append(torch.cat([torch.tensor([rus_sos_idx]), ru_item,\n",
    "                                   torch.tensor([rus_eos_idx])], dim=0))\n",
    "        en_batch.append(torch.cat([torch.tensor([en_sos_idx]), en_item,\n",
    "                                   torch.tensor([en_eos_idx])], dim=0))\n",
    "\n",
    "    ru_batch = torch.nn.utils.rnn.pad_sequence(ru_batch, batch_first=False,\n",
    "                                               padding_value=rus_pad_idx)\n",
    "    en_batch = torch.nn.utils.rnn.pad_sequence(en_batch, batch_first=False,\n",
    "                                                padding_value=en_pad_idx)\n",
    "    return ru_batch, en_batch\n",
    "\n",
    "train_loader = torch.utils.data.DataLoader(train_data, batch_size=batch_size,\n",
    "                                         shuffle=True, collate_fn=generate_batch)\n",
    "val_loader = torch.utils.data.DataLoader(val_data, batch_size=batch_size,\n",
    "                                       shuffle=False, collate_fn=generate_batch)\n",
    "test_loader = torch.utils.data.DataLoader(test_data, batch_size=batch_size,\n",
    "                                        shuffle=False, collate_fn=generate_batch)"
   ]
  },
  {
   "cell_type": "markdown",
   "metadata": {
    "id": "sQ2_5JVX5X3t"
   },
   "source": [
    "### Обучение модели\n"
   ]
  },
  {
   "cell_type": "markdown",
   "metadata": {
    "id": "4F34lCNKpsbE"
   },
   "source": [
    "#### Функции для обучения и визуализации"
   ]
  },
  {
   "cell_type": "code",
   "execution_count": 16,
   "metadata": {
    "id": "3sw_1rbpqdOY"
   },
   "outputs": [],
   "source": [
    "def epoch_time(start_time, end_time):\n",
    "    elapsed_time = end_time - start_time\n",
    "    elapsed_mins = int(elapsed_time / 60)\n",
    "    return elapsed_mins, int(elapsed_time - (elapsed_mins * 60))"
   ]
  },
  {
   "cell_type": "code",
   "execution_count": 17,
   "metadata": {
    "id": "BhP40uAmb8LI"
   },
   "outputs": [],
   "source": [
    "def plot(train_hist, val_hist, bleu_hist, batches):\n",
    "  fig, ax = plt.subplots(nrows=1, ncols=2, figsize=(12, 5))\n",
    "  IPython.display.clear_output(True)\n",
    "\n",
    "  ax[0].set_xlabel('Batch')\n",
    "  ax[0].set_ylabel('Loss')\n",
    "  ax[0].set_title('Learning curve')\n",
    "  ax[0].plot(train_hist, label='train')\n",
    "  ax[0].plot(batches, val_hist, label='val')\n",
    "  ax[0].legend()\n",
    "\n",
    "  ax[1].set_xlabel('Batch')\n",
    "  ax[1].set_ylabel('Bleu')\n",
    "  ax[1].set_title('Validation bleu')\n",
    "  ax[1].plot(batches, bleu_hist)\n",
    "\n",
    "  plt.tight_layout()\n",
    "  plt.show()"
   ]
  },
  {
   "cell_type": "markdown",
   "metadata": {
    "id": "V1TXBJqGAA1Z"
   },
   "source": [
    "Заменяет последовательность индексов на последовательность токенов"
   ]
  },
  {
   "cell_type": "code",
   "execution_count": 18,
   "metadata": {
    "id": "hx9RREfVykvV"
   },
   "outputs": [],
   "source": [
    "def transl(indices):\n",
    "  translated = []\n",
    "\n",
    "  for idx in indices:\n",
    "    if idx not in [en_sos_idx, en_eos_idx, en_pad_idx]:\n",
    "      translated.append(voc['en'].lookup_token(idx))\n",
    "    elif idx == en_eos_idx:\n",
    "      break\n",
    "  return translated"
   ]
  },
  {
   "cell_type": "markdown",
   "metadata": {
    "id": "d9ZsDHFtYi7a"
   },
   "source": [
    "##### Функции для Seq2Seq"
   ]
  },
  {
   "cell_type": "code",
   "execution_count": 19,
   "metadata": {
    "id": "kCIi3US37g-S"
   },
   "outputs": [],
   "source": [
    "def evaluate(model):\n",
    "    model.eval()\n",
    "    eval_loss = 0\n",
    "\n",
    "    with torch.no_grad():\n",
    "        for batch in val_loader:\n",
    "            trg = batch[0].to(device)\n",
    "            output = model(batch[1].to(device), trg)\n",
    "            output = output.view(-1, output.shape[-1])\n",
    "            loss = criterion(output, trg.view(-1))\n",
    "            eval_loss += loss.item()\n",
    "\n",
    "    model.train()\n",
    "    return eval_loss / len(val_loader)"
   ]
  },
  {
   "cell_type": "code",
   "execution_count": 20,
   "metadata": {
    "id": "bDySOm_O7su4"
   },
   "outputs": [],
   "source": [
    "def get_bleu(model, loader):\n",
    "  translated_sentences = []\n",
    "  target_sentences = []\n",
    "\n",
    "  for batch in loader:\n",
    "      src = batch[1].to(device)\n",
    "      trg = batch[0]\n",
    "\n",
    "      model.eval()\n",
    "      trg_indices = trg.tolist()\n",
    "\n",
    "      with torch.no_grad():\n",
    "          translated_indices = model(src).argmax(dim=-1).cpu().numpy().tolist()\n",
    "\n",
    "          for indices in translated_indices:\n",
    "              translated_sentences.append(transl(indices))\n",
    "\n",
    "          for indices in trg_indices:\n",
    "              target_sentences.append(transl(indices))\n",
    "\n",
    "  bleu_score = nltk.translate.bleu_score.corpus_bleu([[text] for text in target_sentences],\n",
    "                                                    translated_sentences) * 100\n",
    "  model.train()\n",
    "  return translated_sentences, target_sentences, bleu_score"
   ]
  },
  {
   "cell_type": "code",
   "execution_count": 21,
   "metadata": {
    "id": "n3FRI87C7xzb"
   },
   "outputs": [],
   "source": [
    "def train_and_plot(model, use_sheduler, epochs, path,\n",
    "                   train_history, val_history, bleu_history, val_batches):\n",
    "  model.train()\n",
    "\n",
    "  for epoch in range(epochs):\n",
    "      start_time = time.time()\n",
    "      epoch_loss = 0\n",
    "      val_loss = 0\n",
    "      bleu = 0\n",
    "\n",
    "      for i, batch in enumerate(train_loader):\n",
    "          trg = batch[0].to(device)\n",
    "          optimizer.zero_grad()\n",
    "          output = model(batch[1].to(device), trg)\n",
    "          output = output.view(-1, output.shape[-1])\n",
    "          loss = criterion(output, trg.view(-1))\n",
    "          loss.backward()\n",
    "          torch.nn.utils.clip_grad_norm_(model.parameters(), clip)\n",
    "          optimizer.step()\n",
    "          train_history.append(loss.detach().cpu().data.numpy())\n",
    "\n",
    "          if (i + 1) % n_val == 0:\n",
    "              if len(val_batches) == 0:\n",
    "                val_batches.append(i)\n",
    "              else:\n",
    "                val_batches.append(val_batches[-1] + n_val)\n",
    "              val_loss = evaluate(model)\n",
    "              val_history.append(val_loss)\n",
    "              _, _, bleu = get_bleu(model, val_loader)\n",
    "              bleu_history.append(bleu)\n",
    "              plot(train_history, val_history, bleu_history, val_batches)\n",
    "          elif (i + 1) % n_show == 0:\n",
    "              plot(train_history, val_history, bleu_history, val_batches)\n",
    "\n",
    "      train_loss = train_history[-1]\n",
    "      end_time = time.time()\n",
    "      epoch_mins, epoch_secs = epoch_time(start_time, end_time)\n",
    "      torch.save(model.state_dict(), path)\n",
    "\n",
    "      if use_sheduler:\n",
    "        scheduler.step(val_loss)\n",
    "\n",
    "      print(f'Time: {epoch_mins}m {epoch_secs}s')\n",
    "\n",
    "      print(f'\\tTrain Loss: {train_loss:.1f} | Train PPL: {np.exp(train_loss):.0f}')\n",
    "      print(f'\\t Val. Loss: {val_loss:.1f} |  Val. PPL: {np.exp(val_loss):.0f}')\n",
    "      print(f'\\t Bleu: {bleu:.1f}')\n",
    "\n",
    "  return(train_history, val_history, bleu_history, val_batches)"
   ]
  },
  {
   "cell_type": "markdown",
   "metadata": {
    "id": "bCpmhzrkYpP5"
   },
   "source": [
    "##### Функции для трансформера"
   ]
  },
  {
   "cell_type": "code",
   "execution_count": 22,
   "metadata": {
    "id": "byJMjYxjYxCh"
   },
   "outputs": [],
   "source": [
    "def evaluate(model):\n",
    "    model.eval()\n",
    "    losses = 0\n",
    "\n",
    "    with torch.no_grad():\n",
    "      for src, tgt in val_loader:\n",
    "          src = src.to(device)\n",
    "          tgt = tgt.to(device)\n",
    "\n",
    "          tgt_input = tgt[:-1, :]\n",
    "          src_mask, tgt_mask, src_padding_mask, tgt_padding_mask = create_mask(src, tgt_input)\n",
    "          logits = model(src, tgt_input, src_mask, tgt_mask, src_padding_mask, tgt_padding_mask, src_padding_mask)\n",
    "          loss = criterion(logits.reshape(-1, logits.shape[-1]), tgt[1:, :].reshape(-1))\n",
    "          losses += loss.item()\n",
    "\n",
    "    model.train()\n",
    "    return losses / len(val_loader)"
   ]
  },
  {
   "cell_type": "code",
   "execution_count": 23,
   "metadata": {
    "id": "bpESHIfhbRxH"
   },
   "outputs": [],
   "source": [
    "def greedy_decode(model, src, src_mask, src_padding_mask, max_len, start_symbol):\n",
    "    src = src.to(device)\n",
    "    src_mask = src_mask.to(device)\n",
    "\n",
    "    memory = model.encode(src, src_mask, src_padding_mask)\n",
    "    ys = torch.ones(1, src.shape[1]).fill_(start_symbol).type(torch.long).to(device)\n",
    "    for i in range(max_len-1):\n",
    "        memory = memory.to(device)\n",
    "        tgt_mask = (generate_square_subsequent_mask(ys.size(0))\n",
    "                    .type(torch.bool)).to(device)\n",
    "        out = model.decode(ys, memory, tgt_mask, src_padding_mask)\n",
    "        out = out.transpose(0, 1)\n",
    "        prob = model.generator(out[:, -1])\n",
    "        _, next_word = torch.max(prob, dim=1)\n",
    "\n",
    "        ys = torch.cat([ys, next_word.unsqueeze(0)], dim=0)\n",
    "    return ys"
   ]
  },
  {
   "cell_type": "code",
   "execution_count": 45,
   "metadata": {
    "id": "jlRI3OSiizqI"
   },
   "outputs": [],
   "source": [
    "def get_bleu(model, loader):\n",
    "    translated_sentences = []\n",
    "    target_sentences = []\n",
    "    model.eval()\n",
    "\n",
    "    for batch in loader:\n",
    "        src = batch[0].to(device)\n",
    "        trg = batch[1].to(device)\n",
    "\n",
    "        num_tokens = src.shape[0]\n",
    "        src_mask = (torch.zeros(num_tokens, num_tokens)).type(torch.bool)\n",
    "        src_padding_mask = (src == rus_pad_idx).transpose(0, 1)\n",
    "\n",
    "        with torch.no_grad():\n",
    "            translated_indices = greedy_decode(model, src, src_mask, src_padding_mask,\n",
    "                                               max_length, en_sos_idx)\n",
    "            translated_indices = translated_indices.transpose(0, 1).cpu().tolist()\n",
    "            trg_indices = trg.transpose(0, 1).cpu().tolist()\n",
    "\n",
    "            for indices in translated_indices:\n",
    "                translated_sentences.append(transl(indices))\n",
    "\n",
    "            for indices in trg_indices:\n",
    "                target_sentences.append(transl(indices))\n",
    "\n",
    "    bleu_score = nltk.translate.bleu_score.corpus_bleu([[text] for text in target_sentences], translated_sentences) * 100\n",
    "    model.train()\n",
    "    return bleu_score, translated_sentences, target_sentences"
   ]
  },
  {
   "cell_type": "code",
   "execution_count": 46,
   "metadata": {
    "id": "7T6YWicilnIn"
   },
   "outputs": [],
   "source": [
    "def train_and_plot(model, use_sheduler, epochs, path,\n",
    "                   train_history, val_history, bleu_history, val_batches):\n",
    "  model.train()\n",
    "\n",
    "  for epoch in range(epochs):\n",
    "      start_time = time.time()\n",
    "      epoch_loss = 0\n",
    "      val_loss = 0\n",
    "      bleu = 0\n",
    "\n",
    "      for i, batch in enumerate(train_loader):\n",
    "          src = batch[0].to(device)\n",
    "          trg = batch[1].to(device)\n",
    "\n",
    "          trg_input = trg[:-1, :]\n",
    "          trg_out = trg[1:, :]\n",
    "\n",
    "          optimizer.zero_grad()\n",
    "          src_mask, tgt_mask, src_padding_mask, tgt_padding_mask = create_mask(src, trg_input)\n",
    "          output = model(src, trg_input, src_mask, tgt_mask, src_padding_mask, tgt_padding_mask, src_padding_mask)\n",
    "          loss = criterion(output.reshape(-1, output.shape[-1]), trg_out.reshape(-1))\n",
    "          loss.backward()\n",
    "          torch.nn.utils.clip_grad_norm_(model.parameters(), clip)\n",
    "          optimizer.step()\n",
    "          train_history.append(loss.detach().cpu().data.numpy())\n",
    "\n",
    "          if (i + 1) % n_val == 0:\n",
    "              if len(val_batches) == 0:\n",
    "                val_batches.append(i)\n",
    "              else:\n",
    "                val_batches.append(val_batches[-1] + n_val)\n",
    "              val_loss = evaluate(model)\n",
    "              val_history.append(val_loss)\n",
    "              bleu, _, _ = get_bleu(model, val_loader)\n",
    "              bleu_history.append(bleu)\n",
    "              plot(train_history, val_history, bleu_history, val_batches)\n",
    "          elif (i + 1) % n_show == 0:\n",
    "              plot(train_history, val_history, bleu_history, val_batches)\n",
    "\n",
    "      train_loss = train_history[-1]\n",
    "      end_time = time.time()\n",
    "      epoch_mins, epoch_secs = epoch_time(start_time, end_time)\n",
    "      torch.save(model.state_dict(), path)\n",
    "\n",
    "      if use_sheduler:\n",
    "        scheduler.step(val_loss)\n",
    "\n",
    "      print(f'Time: {epoch_mins}m {epoch_secs}s')\n",
    "\n",
    "      print(f'\\tTrain Loss: {train_loss:.1f} | Train PPL: {np.exp(train_loss):.0f}')\n",
    "      print(f'\\t Val. Loss: {val_loss:.1f} |  Val. PPL: {np.exp(val_loss):.0f}')\n",
    "      print(f'\\t Bleu: {bleu:.1f}')\n",
    "\n",
    "  return(train_history, val_history, bleu_history, val_batches)"
   ]
  },
  {
   "cell_type": "markdown",
   "metadata": {
    "id": "RrV5mcN9Sf1B"
   },
   "source": [
    "#### Базовая модель"
   ]
  },
  {
   "cell_type": "markdown",
   "metadata": {
    "id": "xpUjMGbaAPZ1"
   },
   "source": [
    "Только encoder и decoder"
   ]
  },
  {
   "cell_type": "code",
   "execution_count": 47,
   "metadata": {
    "id": "Oqrf-wBzou4D"
   },
   "outputs": [],
   "source": [
    "class Encoder(torch.nn.Module):\n",
    "    def __init__(self, input_size, embedding_size,\n",
    "                 hidden_size, n_layers, dropout_p):\n",
    "        super(Encoder, self).__init__()\n",
    "        self.hidden_size = hidden_size\n",
    "        self.embedding = torch.nn.Embedding(input_size, embedding_size)\n",
    "        self.rnn = torch.nn.GRU(embedding_size, hidden_size,\n",
    "                                batch_first=True, num_layers=n_layers)\n",
    "        self.dropout = torch.nn.Dropout(dropout_p)\n",
    "\n",
    "    def forward(self, input):\n",
    "        embedded = self.dropout(self.embedding(input))\n",
    "        output, hidden = self.rnn(embedded)\n",
    "        return output, hidden"
   ]
  },
  {
   "cell_type": "code",
   "execution_count": 48,
   "metadata": {
    "id": "Oql9wTRHqs7h"
   },
   "outputs": [],
   "source": [
    "class Decoder(torch.nn.Module):\n",
    "    def __init__(self, input_size, embedding_size, hidden_size,\n",
    "                 output_size, n_layers, dropout_p):\n",
    "        super(Decoder, self).__init__()\n",
    "        self.input_size = input_size\n",
    "        self.hidden_size = hidden_size\n",
    "        self.embedding = torch.nn.Embedding(input_size, embedding_size)\n",
    "        self.rnn = torch.nn.GRU(embedding_size, hidden_size,\n",
    "                                batch_first=True, num_layers=n_layers)\n",
    "        self.dropout = torch.nn.Dropout(dropout_p)\n",
    "        self.out = torch.nn.Linear(hidden_size, output_size)\n",
    "\n",
    "    def forward(self, input, hidden):\n",
    "        output, hidden = self.rnn(self.embedding(input), hidden)\n",
    "        output = self.out(output)\n",
    "        return output, hidden"
   ]
  },
  {
   "cell_type": "code",
   "execution_count": 49,
   "metadata": {
    "id": "Df_vkWhRq2nx"
   },
   "outputs": [],
   "source": [
    "class Seq2Seq(torch.nn.Module):\n",
    "    def __init__(self, encoder, decoder, device,\n",
    "                 batch_size, trgt_sos_idx, max_length):\n",
    "        super(Seq2Seq, self).__init__()\n",
    "        self.encoder = encoder\n",
    "        self.decoder = decoder\n",
    "        self.device = device\n",
    "        self.batch_size = batch_size\n",
    "        self.sos = trgt_sos_idx\n",
    "        self.max_length = max_length\n",
    "\n",
    "    def forward(self, input, target_tensor=None):\n",
    "        encoder_outputs, encoder_hidden = self.encoder(input)\n",
    "        decoder_input = torch.empty(self.batch_size, 1, dtype=torch.long,\n",
    "                                    device=device).fill_(self.sos)\n",
    "        decoder_hidden = encoder_hidden\n",
    "        decoder_outputs = []\n",
    "\n",
    "        for i in range(max_length):\n",
    "            decoder_output, decoder_hidden = self.decoder(decoder_input,\n",
    "                                                          decoder_hidden)\n",
    "            decoder_outputs.append(decoder_output)\n",
    "\n",
    "            if target_tensor is not None:\n",
    "                decoder_input = target_tensor[:, i].unsqueeze(1)\n",
    "            else:\n",
    "                _, topi = decoder_output.topk(1)\n",
    "                decoder_input = topi.squeeze(-1).detach()\n",
    "\n",
    "        decoder_outputs = torch.cat(decoder_outputs, dim=1)\n",
    "        return decoder_outputs"
   ]
  },
  {
   "cell_type": "code",
   "execution_count": 50,
   "metadata": {
    "id": "gv5lzeaLq7KW"
   },
   "outputs": [],
   "source": [
    "encoder = Encoder(input_size, base_emb_size, base_hid_size,\n",
    "                  base_enc_layers, base_dropout_p)\n",
    "decoder = Decoder(output_size, base_emb_size, base_hid_size,\n",
    "                  output_size, base_dec_layers, base_dropout_p)\n",
    "\n",
    "model = Seq2Seq(encoder, decoder, device,\n",
    "                batch_size, en_sos_idx, max_length).to(device)\n",
    "optimizer = torch.optim.Adam(model.parameters(), lr=base_lr)\n",
    "criterion = torch.nn.CrossEntropyLoss(ignore_index=en_pad_idx)\n",
    "\n",
    "train_history = []\n",
    "val_history = []\n",
    "bleu_history = []\n",
    "val_batches = []"
   ]
  },
  {
   "cell_type": "markdown",
   "metadata": {
    "id": "7m7kfPDqAggK"
   },
   "source": [
    "В одной эпохе содержится 300 батчей. Эта модель обучалась 6000 батчей, то есть 20 эпох. Видно, что после 10 эпохи bleu достигает 17 и дальше увеличивается незначительно. При этом на одну эпоху уходит примерно 3.5 минуты"
   ]
  },
  {
   "cell_type": "code",
   "execution_count": 51,
   "metadata": {
    "colab": {
     "base_uri": "https://localhost:8080/",
     "height": 576
    },
    "id": "Igb9QW5prST0",
    "outputId": "f8a49790-bb5e-46de-c7c6-d2e139866c06"
   },
   "outputs": [
    {
     "ename": "TypeError",
     "evalue": "forward() takes from 2 to 3 positional arguments but 8 were given",
     "output_type": "error",
     "traceback": [
      "\u001b[0;31m---------------------------------------------------------------------------\u001b[0m",
      "\u001b[0;31mTypeError\u001b[0m                                 Traceback (most recent call last)",
      "\u001b[0;32m/tmp/ipykernel_14915/3042579284.py\u001b[0m in \u001b[0;36m<module>\u001b[0;34m\u001b[0m\n\u001b[0;32m----> 1\u001b[0;31m train_history, val_history, bleu_history, val_batches = train_and_plot(model, False, 20, base_path,\n\u001b[0m\u001b[1;32m      2\u001b[0m                                                                        train_history, val_history, bleu_history, val_batches)\n",
      "\u001b[0;32m/tmp/ipykernel_14915/1467580222.py\u001b[0m in \u001b[0;36mtrain_and_plot\u001b[0;34m(model, use_sheduler, epochs, path, train_history, val_history, bleu_history, val_batches)\u001b[0m\n\u001b[1;32m     18\u001b[0m           \u001b[0moptimizer\u001b[0m\u001b[0;34m.\u001b[0m\u001b[0mzero_grad\u001b[0m\u001b[0;34m(\u001b[0m\u001b[0;34m)\u001b[0m\u001b[0;34m\u001b[0m\u001b[0;34m\u001b[0m\u001b[0m\n\u001b[1;32m     19\u001b[0m           \u001b[0msrc_mask\u001b[0m\u001b[0;34m,\u001b[0m \u001b[0mtgt_mask\u001b[0m\u001b[0;34m,\u001b[0m \u001b[0msrc_padding_mask\u001b[0m\u001b[0;34m,\u001b[0m \u001b[0mtgt_padding_mask\u001b[0m \u001b[0;34m=\u001b[0m \u001b[0mcreate_mask\u001b[0m\u001b[0;34m(\u001b[0m\u001b[0msrc\u001b[0m\u001b[0;34m,\u001b[0m \u001b[0mtrg_input\u001b[0m\u001b[0;34m)\u001b[0m\u001b[0;34m\u001b[0m\u001b[0;34m\u001b[0m\u001b[0m\n\u001b[0;32m---> 20\u001b[0;31m           \u001b[0moutput\u001b[0m \u001b[0;34m=\u001b[0m \u001b[0mmodel\u001b[0m\u001b[0;34m(\u001b[0m\u001b[0msrc\u001b[0m\u001b[0;34m,\u001b[0m \u001b[0mtrg_input\u001b[0m\u001b[0;34m,\u001b[0m \u001b[0msrc_mask\u001b[0m\u001b[0;34m,\u001b[0m \u001b[0mtgt_mask\u001b[0m\u001b[0;34m,\u001b[0m \u001b[0msrc_padding_mask\u001b[0m\u001b[0;34m,\u001b[0m \u001b[0mtgt_padding_mask\u001b[0m\u001b[0;34m,\u001b[0m \u001b[0msrc_padding_mask\u001b[0m\u001b[0;34m)\u001b[0m\u001b[0;34m\u001b[0m\u001b[0;34m\u001b[0m\u001b[0m\n\u001b[0m\u001b[1;32m     21\u001b[0m           \u001b[0mloss\u001b[0m \u001b[0;34m=\u001b[0m \u001b[0mcriterion\u001b[0m\u001b[0;34m(\u001b[0m\u001b[0moutput\u001b[0m\u001b[0;34m.\u001b[0m\u001b[0mreshape\u001b[0m\u001b[0;34m(\u001b[0m\u001b[0;34m-\u001b[0m\u001b[0;36m1\u001b[0m\u001b[0;34m,\u001b[0m \u001b[0moutput\u001b[0m\u001b[0;34m.\u001b[0m\u001b[0mshape\u001b[0m\u001b[0;34m[\u001b[0m\u001b[0;34m-\u001b[0m\u001b[0;36m1\u001b[0m\u001b[0;34m]\u001b[0m\u001b[0;34m)\u001b[0m\u001b[0;34m,\u001b[0m \u001b[0mtrg_out\u001b[0m\u001b[0;34m.\u001b[0m\u001b[0mreshape\u001b[0m\u001b[0;34m(\u001b[0m\u001b[0;34m-\u001b[0m\u001b[0;36m1\u001b[0m\u001b[0;34m)\u001b[0m\u001b[0;34m)\u001b[0m\u001b[0;34m\u001b[0m\u001b[0;34m\u001b[0m\u001b[0m\n\u001b[1;32m     22\u001b[0m           \u001b[0mloss\u001b[0m\u001b[0;34m.\u001b[0m\u001b[0mbackward\u001b[0m\u001b[0;34m(\u001b[0m\u001b[0;34m)\u001b[0m\u001b[0;34m\u001b[0m\u001b[0;34m\u001b[0m\u001b[0m\n",
      "\u001b[0;32m/opt/calculation/anaconda3/lib/python3.9/site-packages/torch/nn/modules/module.py\u001b[0m in \u001b[0;36m_wrapped_call_impl\u001b[0;34m(self, *args, **kwargs)\u001b[0m\n\u001b[1;32m   1509\u001b[0m             \u001b[0;32mreturn\u001b[0m \u001b[0mself\u001b[0m\u001b[0;34m.\u001b[0m\u001b[0m_compiled_call_impl\u001b[0m\u001b[0;34m(\u001b[0m\u001b[0;34m*\u001b[0m\u001b[0margs\u001b[0m\u001b[0;34m,\u001b[0m \u001b[0;34m**\u001b[0m\u001b[0mkwargs\u001b[0m\u001b[0;34m)\u001b[0m  \u001b[0;31m# type: ignore[misc]\u001b[0m\u001b[0;34m\u001b[0m\u001b[0;34m\u001b[0m\u001b[0m\n\u001b[1;32m   1510\u001b[0m         \u001b[0;32melse\u001b[0m\u001b[0;34m:\u001b[0m\u001b[0;34m\u001b[0m\u001b[0;34m\u001b[0m\u001b[0m\n\u001b[0;32m-> 1511\u001b[0;31m             \u001b[0;32mreturn\u001b[0m \u001b[0mself\u001b[0m\u001b[0;34m.\u001b[0m\u001b[0m_call_impl\u001b[0m\u001b[0;34m(\u001b[0m\u001b[0;34m*\u001b[0m\u001b[0margs\u001b[0m\u001b[0;34m,\u001b[0m \u001b[0;34m**\u001b[0m\u001b[0mkwargs\u001b[0m\u001b[0;34m)\u001b[0m\u001b[0;34m\u001b[0m\u001b[0;34m\u001b[0m\u001b[0m\n\u001b[0m\u001b[1;32m   1512\u001b[0m \u001b[0;34m\u001b[0m\u001b[0m\n\u001b[1;32m   1513\u001b[0m     \u001b[0;32mdef\u001b[0m \u001b[0m_call_impl\u001b[0m\u001b[0;34m(\u001b[0m\u001b[0mself\u001b[0m\u001b[0;34m,\u001b[0m \u001b[0;34m*\u001b[0m\u001b[0margs\u001b[0m\u001b[0;34m,\u001b[0m \u001b[0;34m**\u001b[0m\u001b[0mkwargs\u001b[0m\u001b[0;34m)\u001b[0m\u001b[0;34m:\u001b[0m\u001b[0;34m\u001b[0m\u001b[0;34m\u001b[0m\u001b[0m\n",
      "\u001b[0;32m/opt/calculation/anaconda3/lib/python3.9/site-packages/torch/nn/modules/module.py\u001b[0m in \u001b[0;36m_call_impl\u001b[0;34m(self, *args, **kwargs)\u001b[0m\n\u001b[1;32m   1518\u001b[0m                 \u001b[0;32mor\u001b[0m \u001b[0m_global_backward_pre_hooks\u001b[0m \u001b[0;32mor\u001b[0m \u001b[0m_global_backward_hooks\u001b[0m\u001b[0;34m\u001b[0m\u001b[0;34m\u001b[0m\u001b[0m\n\u001b[1;32m   1519\u001b[0m                 or _global_forward_hooks or _global_forward_pre_hooks):\n\u001b[0;32m-> 1520\u001b[0;31m             \u001b[0;32mreturn\u001b[0m \u001b[0mforward_call\u001b[0m\u001b[0;34m(\u001b[0m\u001b[0;34m*\u001b[0m\u001b[0margs\u001b[0m\u001b[0;34m,\u001b[0m \u001b[0;34m**\u001b[0m\u001b[0mkwargs\u001b[0m\u001b[0;34m)\u001b[0m\u001b[0;34m\u001b[0m\u001b[0;34m\u001b[0m\u001b[0m\n\u001b[0m\u001b[1;32m   1521\u001b[0m \u001b[0;34m\u001b[0m\u001b[0m\n\u001b[1;32m   1522\u001b[0m         \u001b[0;32mtry\u001b[0m\u001b[0;34m:\u001b[0m\u001b[0;34m\u001b[0m\u001b[0;34m\u001b[0m\u001b[0m\n",
      "\u001b[0;31mTypeError\u001b[0m: forward() takes from 2 to 3 positional arguments but 8 were given"
     ]
    }
   ],
   "source": [
    "train_history, val_history, bleu_history, val_batches = train_and_plot(model, False, 20, base_path,\n",
    "                                                                       train_history, val_history, bleu_history, val_batches)"
   ]
  },
  {
   "cell_type": "markdown",
   "metadata": {
    "id": "ZAda7iJPgIZj"
   },
   "source": [
    "#### Attention"
   ]
  },
  {
   "cell_type": "markdown",
   "metadata": {
    "id": "YAiamRArCBp-"
   },
   "source": [
    "Применяем механизм attention, который улучшает embedding для каждого токена на основе его связи с контекстом"
   ]
  },
  {
   "cell_type": "code",
   "execution_count": 52,
   "metadata": {
    "id": "AmoBJ4DMgNGG"
   },
   "outputs": [],
   "source": [
    "class Attention(torch.nn.Module):\n",
    "    def __init__(self, hidden_size):\n",
    "        super(Attention, self).__init__()\n",
    "        self.Wa = torch.nn.Linear(hidden_size, hidden_size)\n",
    "        self.Ua = torch.nn.Linear(hidden_size, hidden_size)\n",
    "        self.Va = torch.nn.Linear(hidden_size, 1)\n",
    "\n",
    "    def forward(self, query, keys):\n",
    "        scores = self.Va(torch.tanh(self.Wa(query) + self.Ua(keys)))\n",
    "        scores = scores.squeeze(2).unsqueeze(1)\n",
    "        weights = torch.nn.functional.softmax(scores, dim=-1)\n",
    "        context = torch.bmm(weights, keys)\n",
    "        return context"
   ]
  },
  {
   "cell_type": "code",
   "execution_count": 53,
   "metadata": {
    "id": "E97zb4Jib_CA"
   },
   "outputs": [],
   "source": [
    "class AttnDecoder(torch.nn.Module):\n",
    "    def __init__(self, input_size, embedding_size, hidden_size,\n",
    "                 output_size, n_layers, dropout_p):\n",
    "        super(AttnDecoder, self).__init__()\n",
    "        self.input_size = input_size\n",
    "        self.hidden_size = hidden_size\n",
    "        self.embedding = torch.nn.Embedding(input_size, embedding_size)\n",
    "        self.attention = Attention(hidden_size)\n",
    "        self.rnn = torch.nn.GRU(embedding_size + hidden_size, hidden_size,\n",
    "                                batch_first=True, num_layers=n_layers)\n",
    "        self.dropout = torch.nn.Dropout(dropout_p)\n",
    "        self.out = torch.nn.Linear(hidden_size, output_size)\n",
    "\n",
    "    def forward(self, input, hidden, encoder_outputs):\n",
    "        embedded = self.embedding(input)\n",
    "        query = hidden.permute(1, 0, 2)\n",
    "        context = self.attention(query, encoder_outputs)\n",
    "        input = torch.cat((embedded, context), dim=2)\n",
    "        output, hidden = self.rnn(input, hidden)\n",
    "        output = self.out(output)\n",
    "        return output, hidden"
   ]
  },
  {
   "cell_type": "code",
   "execution_count": 54,
   "metadata": {
    "id": "QfDselgPhaDG"
   },
   "outputs": [],
   "source": [
    "class AttnSeq2Seq(torch.nn.Module):\n",
    "    def __init__(self, encoder, decoder, device,\n",
    "                 batch_size, trgt_sos_idx, max_length):\n",
    "        super(AttnSeq2Seq, self).__init__()\n",
    "        self.encoder = encoder\n",
    "        self.decoder = decoder\n",
    "        self.device = device\n",
    "        self.batch_size = batch_size\n",
    "        self.sos = trgt_sos_idx\n",
    "        self.max_length = max_length\n",
    "\n",
    "    def forward(self, input, target_tensor=None):\n",
    "        encoder_outputs, encoder_hidden = self.encoder(input)\n",
    "        decoder_input = torch.empty(batch_size, 1, dtype=torch.long,\n",
    "                                    device=device).fill_(self.sos)\n",
    "        decoder_hidden = encoder_hidden\n",
    "        decoder_outputs = []\n",
    "\n",
    "        for i in range(self.max_length):\n",
    "            decoder_output, decoder_hidden = self.decoder(decoder_input,\n",
    "                                                          decoder_hidden,\n",
    "                                                          encoder_outputs)\n",
    "            decoder_outputs.append(decoder_output)\n",
    "\n",
    "            if target_tensor is not None:\n",
    "                decoder_input = target_tensor[:, i].unsqueeze(1)\n",
    "            else:\n",
    "                _, topi = decoder_output.topk(1)\n",
    "                decoder_input = topi.squeeze(-1).detach()\n",
    "\n",
    "        decoder_outputs = torch.cat(decoder_outputs, dim=1)\n",
    "        return decoder_outputs"
   ]
  },
  {
   "cell_type": "code",
   "execution_count": 55,
   "metadata": {
    "id": "TpF3LlGbiH4U"
   },
   "outputs": [],
   "source": [
    "encoder = Encoder(input_size, att_emb_size,\n",
    "                  att_hid_size, att_enc_layers, att_dropout_p)\n",
    "decoder = AttnDecoder(output_size, att_emb_size, att_hid_size,\n",
    "                  output_size, att_dec_layers, att_dropout_p)\n",
    "\n",
    "model = AttnSeq2Seq(encoder, decoder, device,\n",
    "                batch_size, en_sos_idx, max_length).to(device)\n",
    "optimizer = torch.optim.Adam(model.parameters(), lr=att_lr)\n",
    "criterion = torch.nn.CrossEntropyLoss(ignore_index=en_pad_idx)\n",
    "\n",
    "train_history = []\n",
    "val_history = []\n",
    "bleu_history = []\n",
    "val_batches = []"
   ]
  },
  {
   "cell_type": "markdown",
   "metadata": {
    "id": "ufVINbA9CUUJ"
   },
   "source": [
    "По опыту предыдущей модели, эту обучал в течение 10 эпох. Видно,  bleu примерно в 1.5 превышает значение для базовой модели и на конец 10 эпохи составляет 27. При этом само обучение идёт чуть дольше, 4.5 минуты на эпоху вместо 3.5"
   ]
  },
  {
   "cell_type": "code",
   "execution_count": 56,
   "metadata": {
    "colab": {
     "base_uri": "https://localhost:8080/",
     "height": 576
    },
    "id": "h4dYi4iJivXR",
    "outputId": "c9f0c9b9-126c-40ca-80b6-146a27910d8c"
   },
   "outputs": [
    {
     "ename": "TypeError",
     "evalue": "forward() takes from 2 to 3 positional arguments but 8 were given",
     "output_type": "error",
     "traceback": [
      "\u001b[0;31m---------------------------------------------------------------------------\u001b[0m",
      "\u001b[0;31mTypeError\u001b[0m                                 Traceback (most recent call last)",
      "\u001b[0;32m/tmp/ipykernel_14915/1352679980.py\u001b[0m in \u001b[0;36m<module>\u001b[0;34m\u001b[0m\n\u001b[0;32m----> 1\u001b[0;31m train_history, val_history, bleu_history, val_batches = train_and_plot(model, False, 10, att_path,\n\u001b[0m\u001b[1;32m      2\u001b[0m                                                                        train_history, val_history, bleu_history, val_batches)\n",
      "\u001b[0;32m/tmp/ipykernel_14915/1467580222.py\u001b[0m in \u001b[0;36mtrain_and_plot\u001b[0;34m(model, use_sheduler, epochs, path, train_history, val_history, bleu_history, val_batches)\u001b[0m\n\u001b[1;32m     18\u001b[0m           \u001b[0moptimizer\u001b[0m\u001b[0;34m.\u001b[0m\u001b[0mzero_grad\u001b[0m\u001b[0;34m(\u001b[0m\u001b[0;34m)\u001b[0m\u001b[0;34m\u001b[0m\u001b[0;34m\u001b[0m\u001b[0m\n\u001b[1;32m     19\u001b[0m           \u001b[0msrc_mask\u001b[0m\u001b[0;34m,\u001b[0m \u001b[0mtgt_mask\u001b[0m\u001b[0;34m,\u001b[0m \u001b[0msrc_padding_mask\u001b[0m\u001b[0;34m,\u001b[0m \u001b[0mtgt_padding_mask\u001b[0m \u001b[0;34m=\u001b[0m \u001b[0mcreate_mask\u001b[0m\u001b[0;34m(\u001b[0m\u001b[0msrc\u001b[0m\u001b[0;34m,\u001b[0m \u001b[0mtrg_input\u001b[0m\u001b[0;34m)\u001b[0m\u001b[0;34m\u001b[0m\u001b[0;34m\u001b[0m\u001b[0m\n\u001b[0;32m---> 20\u001b[0;31m           \u001b[0moutput\u001b[0m \u001b[0;34m=\u001b[0m \u001b[0mmodel\u001b[0m\u001b[0;34m(\u001b[0m\u001b[0msrc\u001b[0m\u001b[0;34m,\u001b[0m \u001b[0mtrg_input\u001b[0m\u001b[0;34m,\u001b[0m \u001b[0msrc_mask\u001b[0m\u001b[0;34m,\u001b[0m \u001b[0mtgt_mask\u001b[0m\u001b[0;34m,\u001b[0m \u001b[0msrc_padding_mask\u001b[0m\u001b[0;34m,\u001b[0m \u001b[0mtgt_padding_mask\u001b[0m\u001b[0;34m,\u001b[0m \u001b[0msrc_padding_mask\u001b[0m\u001b[0;34m)\u001b[0m\u001b[0;34m\u001b[0m\u001b[0;34m\u001b[0m\u001b[0m\n\u001b[0m\u001b[1;32m     21\u001b[0m           \u001b[0mloss\u001b[0m \u001b[0;34m=\u001b[0m \u001b[0mcriterion\u001b[0m\u001b[0;34m(\u001b[0m\u001b[0moutput\u001b[0m\u001b[0;34m.\u001b[0m\u001b[0mreshape\u001b[0m\u001b[0;34m(\u001b[0m\u001b[0;34m-\u001b[0m\u001b[0;36m1\u001b[0m\u001b[0;34m,\u001b[0m \u001b[0moutput\u001b[0m\u001b[0;34m.\u001b[0m\u001b[0mshape\u001b[0m\u001b[0;34m[\u001b[0m\u001b[0;34m-\u001b[0m\u001b[0;36m1\u001b[0m\u001b[0;34m]\u001b[0m\u001b[0;34m)\u001b[0m\u001b[0;34m,\u001b[0m \u001b[0mtrg_out\u001b[0m\u001b[0;34m.\u001b[0m\u001b[0mreshape\u001b[0m\u001b[0;34m(\u001b[0m\u001b[0;34m-\u001b[0m\u001b[0;36m1\u001b[0m\u001b[0;34m)\u001b[0m\u001b[0;34m)\u001b[0m\u001b[0;34m\u001b[0m\u001b[0;34m\u001b[0m\u001b[0m\n\u001b[1;32m     22\u001b[0m           \u001b[0mloss\u001b[0m\u001b[0;34m.\u001b[0m\u001b[0mbackward\u001b[0m\u001b[0;34m(\u001b[0m\u001b[0;34m)\u001b[0m\u001b[0;34m\u001b[0m\u001b[0;34m\u001b[0m\u001b[0m\n",
      "\u001b[0;32m/opt/calculation/anaconda3/lib/python3.9/site-packages/torch/nn/modules/module.py\u001b[0m in \u001b[0;36m_wrapped_call_impl\u001b[0;34m(self, *args, **kwargs)\u001b[0m\n\u001b[1;32m   1509\u001b[0m             \u001b[0;32mreturn\u001b[0m \u001b[0mself\u001b[0m\u001b[0;34m.\u001b[0m\u001b[0m_compiled_call_impl\u001b[0m\u001b[0;34m(\u001b[0m\u001b[0;34m*\u001b[0m\u001b[0margs\u001b[0m\u001b[0;34m,\u001b[0m \u001b[0;34m**\u001b[0m\u001b[0mkwargs\u001b[0m\u001b[0;34m)\u001b[0m  \u001b[0;31m# type: ignore[misc]\u001b[0m\u001b[0;34m\u001b[0m\u001b[0;34m\u001b[0m\u001b[0m\n\u001b[1;32m   1510\u001b[0m         \u001b[0;32melse\u001b[0m\u001b[0;34m:\u001b[0m\u001b[0;34m\u001b[0m\u001b[0;34m\u001b[0m\u001b[0m\n\u001b[0;32m-> 1511\u001b[0;31m             \u001b[0;32mreturn\u001b[0m \u001b[0mself\u001b[0m\u001b[0;34m.\u001b[0m\u001b[0m_call_impl\u001b[0m\u001b[0;34m(\u001b[0m\u001b[0;34m*\u001b[0m\u001b[0margs\u001b[0m\u001b[0;34m,\u001b[0m \u001b[0;34m**\u001b[0m\u001b[0mkwargs\u001b[0m\u001b[0;34m)\u001b[0m\u001b[0;34m\u001b[0m\u001b[0;34m\u001b[0m\u001b[0m\n\u001b[0m\u001b[1;32m   1512\u001b[0m \u001b[0;34m\u001b[0m\u001b[0m\n\u001b[1;32m   1513\u001b[0m     \u001b[0;32mdef\u001b[0m \u001b[0m_call_impl\u001b[0m\u001b[0;34m(\u001b[0m\u001b[0mself\u001b[0m\u001b[0;34m,\u001b[0m \u001b[0;34m*\u001b[0m\u001b[0margs\u001b[0m\u001b[0;34m,\u001b[0m \u001b[0;34m**\u001b[0m\u001b[0mkwargs\u001b[0m\u001b[0;34m)\u001b[0m\u001b[0;34m:\u001b[0m\u001b[0;34m\u001b[0m\u001b[0;34m\u001b[0m\u001b[0m\n",
      "\u001b[0;32m/opt/calculation/anaconda3/lib/python3.9/site-packages/torch/nn/modules/module.py\u001b[0m in \u001b[0;36m_call_impl\u001b[0;34m(self, *args, **kwargs)\u001b[0m\n\u001b[1;32m   1518\u001b[0m                 \u001b[0;32mor\u001b[0m \u001b[0m_global_backward_pre_hooks\u001b[0m \u001b[0;32mor\u001b[0m \u001b[0m_global_backward_hooks\u001b[0m\u001b[0;34m\u001b[0m\u001b[0;34m\u001b[0m\u001b[0m\n\u001b[1;32m   1519\u001b[0m                 or _global_forward_hooks or _global_forward_pre_hooks):\n\u001b[0;32m-> 1520\u001b[0;31m             \u001b[0;32mreturn\u001b[0m \u001b[0mforward_call\u001b[0m\u001b[0;34m(\u001b[0m\u001b[0;34m*\u001b[0m\u001b[0margs\u001b[0m\u001b[0;34m,\u001b[0m \u001b[0;34m**\u001b[0m\u001b[0mkwargs\u001b[0m\u001b[0;34m)\u001b[0m\u001b[0;34m\u001b[0m\u001b[0;34m\u001b[0m\u001b[0m\n\u001b[0m\u001b[1;32m   1521\u001b[0m \u001b[0;34m\u001b[0m\u001b[0m\n\u001b[1;32m   1522\u001b[0m         \u001b[0;32mtry\u001b[0m\u001b[0;34m:\u001b[0m\u001b[0;34m\u001b[0m\u001b[0;34m\u001b[0m\u001b[0m\n",
      "\u001b[0;31mTypeError\u001b[0m: forward() takes from 2 to 3 positional arguments but 8 were given"
     ]
    }
   ],
   "source": [
    "train_history, val_history, bleu_history, val_batches = train_and_plot(model, False, 10, att_path,\n",
    "                                                                       train_history, val_history, bleu_history, val_batches)"
   ]
  },
  {
   "cell_type": "markdown",
   "metadata": {
    "id": "Zcgo7CZxXuax"
   },
   "source": [
    "#### Attention + изменение learning rate"
   ]
  },
  {
   "cell_type": "markdown",
   "metadata": {
    "id": "azTipqNxDrAi"
   },
   "source": [
    "Уменьшаем learning rate как только loss на валидации выхоит на плато"
   ]
  },
  {
   "cell_type": "code",
   "execution_count": 57,
   "metadata": {
    "id": "-XGoiBySXzP6"
   },
   "outputs": [],
   "source": [
    "encoder = Encoder(input_size, att_emb_size, att_hid_size,\n",
    "                  att_enc_layers, att_dropout_p)\n",
    "decoder = AttnDecoder(output_size, att_emb_size, att_hid_size,\n",
    "                  output_size, att_dec_layers, att_dropout_p)\n",
    "\n",
    "model = AttnSeq2Seq(encoder, decoder, device,\n",
    "                batch_size, en_sos_idx, max_length).to(device)\n",
    "optimizer = torch.optim.Adam(model.parameters(), lr=att_lr)\n",
    "scheduler = torch.optim.lr_scheduler.ReduceLROnPlateau(optimizer, 'min',\n",
    "                                                       patience=0)\n",
    "criterion = torch.nn.CrossEntropyLoss(ignore_index=en_pad_idx)\n",
    "\n",
    "train_history = []\n",
    "val_history = []\n",
    "bleu_history = []\n",
    "val_batches = []"
   ]
  },
  {
   "cell_type": "markdown",
   "metadata": {
    "id": "G0N8N12ptZnK"
   },
   "source": [
    "При использовании lr_scheduler значение bleu на отложенной выборке увеличилось на 1.5 пункта, это видно в разделе \"Оценка качества\""
   ]
  },
  {
   "cell_type": "code",
   "execution_count": 58,
   "metadata": {
    "colab": {
     "base_uri": "https://localhost:8080/",
     "height": 576
    },
    "id": "EhA8hhKWblnT",
    "outputId": "93964587-b39e-4afc-b002-39ceb1cbc350"
   },
   "outputs": [
    {
     "ename": "TypeError",
     "evalue": "forward() takes from 2 to 3 positional arguments but 8 were given",
     "output_type": "error",
     "traceback": [
      "\u001b[0;31m---------------------------------------------------------------------------\u001b[0m",
      "\u001b[0;31mTypeError\u001b[0m                                 Traceback (most recent call last)",
      "\u001b[0;32m/tmp/ipykernel_14915/2218642448.py\u001b[0m in \u001b[0;36m<module>\u001b[0;34m\u001b[0m\n\u001b[0;32m----> 1\u001b[0;31m train_history, val_history, bleu_history, val_batches = train_and_plot(model, True, 10, att_lr_path,\n\u001b[0m\u001b[1;32m      2\u001b[0m                                                                        train_history, val_history, bleu_history, val_batches)\n",
      "\u001b[0;32m/tmp/ipykernel_14915/1467580222.py\u001b[0m in \u001b[0;36mtrain_and_plot\u001b[0;34m(model, use_sheduler, epochs, path, train_history, val_history, bleu_history, val_batches)\u001b[0m\n\u001b[1;32m     18\u001b[0m           \u001b[0moptimizer\u001b[0m\u001b[0;34m.\u001b[0m\u001b[0mzero_grad\u001b[0m\u001b[0;34m(\u001b[0m\u001b[0;34m)\u001b[0m\u001b[0;34m\u001b[0m\u001b[0;34m\u001b[0m\u001b[0m\n\u001b[1;32m     19\u001b[0m           \u001b[0msrc_mask\u001b[0m\u001b[0;34m,\u001b[0m \u001b[0mtgt_mask\u001b[0m\u001b[0;34m,\u001b[0m \u001b[0msrc_padding_mask\u001b[0m\u001b[0;34m,\u001b[0m \u001b[0mtgt_padding_mask\u001b[0m \u001b[0;34m=\u001b[0m \u001b[0mcreate_mask\u001b[0m\u001b[0;34m(\u001b[0m\u001b[0msrc\u001b[0m\u001b[0;34m,\u001b[0m \u001b[0mtrg_input\u001b[0m\u001b[0;34m)\u001b[0m\u001b[0;34m\u001b[0m\u001b[0;34m\u001b[0m\u001b[0m\n\u001b[0;32m---> 20\u001b[0;31m           \u001b[0moutput\u001b[0m \u001b[0;34m=\u001b[0m \u001b[0mmodel\u001b[0m\u001b[0;34m(\u001b[0m\u001b[0msrc\u001b[0m\u001b[0;34m,\u001b[0m \u001b[0mtrg_input\u001b[0m\u001b[0;34m,\u001b[0m \u001b[0msrc_mask\u001b[0m\u001b[0;34m,\u001b[0m \u001b[0mtgt_mask\u001b[0m\u001b[0;34m,\u001b[0m \u001b[0msrc_padding_mask\u001b[0m\u001b[0;34m,\u001b[0m \u001b[0mtgt_padding_mask\u001b[0m\u001b[0;34m,\u001b[0m \u001b[0msrc_padding_mask\u001b[0m\u001b[0;34m)\u001b[0m\u001b[0;34m\u001b[0m\u001b[0;34m\u001b[0m\u001b[0m\n\u001b[0m\u001b[1;32m     21\u001b[0m           \u001b[0mloss\u001b[0m \u001b[0;34m=\u001b[0m \u001b[0mcriterion\u001b[0m\u001b[0;34m(\u001b[0m\u001b[0moutput\u001b[0m\u001b[0;34m.\u001b[0m\u001b[0mreshape\u001b[0m\u001b[0;34m(\u001b[0m\u001b[0;34m-\u001b[0m\u001b[0;36m1\u001b[0m\u001b[0;34m,\u001b[0m \u001b[0moutput\u001b[0m\u001b[0;34m.\u001b[0m\u001b[0mshape\u001b[0m\u001b[0;34m[\u001b[0m\u001b[0;34m-\u001b[0m\u001b[0;36m1\u001b[0m\u001b[0;34m]\u001b[0m\u001b[0;34m)\u001b[0m\u001b[0;34m,\u001b[0m \u001b[0mtrg_out\u001b[0m\u001b[0;34m.\u001b[0m\u001b[0mreshape\u001b[0m\u001b[0;34m(\u001b[0m\u001b[0;34m-\u001b[0m\u001b[0;36m1\u001b[0m\u001b[0;34m)\u001b[0m\u001b[0;34m)\u001b[0m\u001b[0;34m\u001b[0m\u001b[0;34m\u001b[0m\u001b[0m\n\u001b[1;32m     22\u001b[0m           \u001b[0mloss\u001b[0m\u001b[0;34m.\u001b[0m\u001b[0mbackward\u001b[0m\u001b[0;34m(\u001b[0m\u001b[0;34m)\u001b[0m\u001b[0;34m\u001b[0m\u001b[0;34m\u001b[0m\u001b[0m\n",
      "\u001b[0;32m/opt/calculation/anaconda3/lib/python3.9/site-packages/torch/nn/modules/module.py\u001b[0m in \u001b[0;36m_wrapped_call_impl\u001b[0;34m(self, *args, **kwargs)\u001b[0m\n\u001b[1;32m   1509\u001b[0m             \u001b[0;32mreturn\u001b[0m \u001b[0mself\u001b[0m\u001b[0;34m.\u001b[0m\u001b[0m_compiled_call_impl\u001b[0m\u001b[0;34m(\u001b[0m\u001b[0;34m*\u001b[0m\u001b[0margs\u001b[0m\u001b[0;34m,\u001b[0m \u001b[0;34m**\u001b[0m\u001b[0mkwargs\u001b[0m\u001b[0;34m)\u001b[0m  \u001b[0;31m# type: ignore[misc]\u001b[0m\u001b[0;34m\u001b[0m\u001b[0;34m\u001b[0m\u001b[0m\n\u001b[1;32m   1510\u001b[0m         \u001b[0;32melse\u001b[0m\u001b[0;34m:\u001b[0m\u001b[0;34m\u001b[0m\u001b[0;34m\u001b[0m\u001b[0m\n\u001b[0;32m-> 1511\u001b[0;31m             \u001b[0;32mreturn\u001b[0m \u001b[0mself\u001b[0m\u001b[0;34m.\u001b[0m\u001b[0m_call_impl\u001b[0m\u001b[0;34m(\u001b[0m\u001b[0;34m*\u001b[0m\u001b[0margs\u001b[0m\u001b[0;34m,\u001b[0m \u001b[0;34m**\u001b[0m\u001b[0mkwargs\u001b[0m\u001b[0;34m)\u001b[0m\u001b[0;34m\u001b[0m\u001b[0;34m\u001b[0m\u001b[0m\n\u001b[0m\u001b[1;32m   1512\u001b[0m \u001b[0;34m\u001b[0m\u001b[0m\n\u001b[1;32m   1513\u001b[0m     \u001b[0;32mdef\u001b[0m \u001b[0m_call_impl\u001b[0m\u001b[0;34m(\u001b[0m\u001b[0mself\u001b[0m\u001b[0;34m,\u001b[0m \u001b[0;34m*\u001b[0m\u001b[0margs\u001b[0m\u001b[0;34m,\u001b[0m \u001b[0;34m**\u001b[0m\u001b[0mkwargs\u001b[0m\u001b[0;34m)\u001b[0m\u001b[0;34m:\u001b[0m\u001b[0;34m\u001b[0m\u001b[0;34m\u001b[0m\u001b[0m\n",
      "\u001b[0;32m/opt/calculation/anaconda3/lib/python3.9/site-packages/torch/nn/modules/module.py\u001b[0m in \u001b[0;36m_call_impl\u001b[0;34m(self, *args, **kwargs)\u001b[0m\n\u001b[1;32m   1518\u001b[0m                 \u001b[0;32mor\u001b[0m \u001b[0m_global_backward_pre_hooks\u001b[0m \u001b[0;32mor\u001b[0m \u001b[0m_global_backward_hooks\u001b[0m\u001b[0;34m\u001b[0m\u001b[0;34m\u001b[0m\u001b[0m\n\u001b[1;32m   1519\u001b[0m                 or _global_forward_hooks or _global_forward_pre_hooks):\n\u001b[0;32m-> 1520\u001b[0;31m             \u001b[0;32mreturn\u001b[0m \u001b[0mforward_call\u001b[0m\u001b[0;34m(\u001b[0m\u001b[0;34m*\u001b[0m\u001b[0margs\u001b[0m\u001b[0;34m,\u001b[0m \u001b[0;34m**\u001b[0m\u001b[0mkwargs\u001b[0m\u001b[0;34m)\u001b[0m\u001b[0;34m\u001b[0m\u001b[0;34m\u001b[0m\u001b[0m\n\u001b[0m\u001b[1;32m   1521\u001b[0m \u001b[0;34m\u001b[0m\u001b[0m\n\u001b[1;32m   1522\u001b[0m         \u001b[0;32mtry\u001b[0m\u001b[0;34m:\u001b[0m\u001b[0;34m\u001b[0m\u001b[0;34m\u001b[0m\u001b[0m\n",
      "\u001b[0;31mTypeError\u001b[0m: forward() takes from 2 to 3 positional arguments but 8 were given"
     ]
    }
   ],
   "source": [
    "train_history, val_history, bleu_history, val_batches = train_and_plot(model, True, 10, att_lr_path,\n",
    "                                                                       train_history, val_history, bleu_history, val_batches)"
   ]
  },
  {
   "cell_type": "markdown",
   "metadata": {
    "id": "UQ8Oeixmipzb"
   },
   "source": [
    "#### Трансформер"
   ]
  },
  {
   "cell_type": "markdown",
   "metadata": {
    "id": "VQve50oWD1Zq"
   },
   "source": [
    "Используем архитектуру трансформера с multihead attention. Для более объективного сравнения с предыдущими моделями оставляем такими же размеры embedding и делаем только 1 слой в encoder и decoder, в отличие от оригинальной статьи \"Attention is all you need\", где их было 6"
   ]
  },
  {
   "cell_type": "code",
   "execution_count": 59,
   "metadata": {
    "id": "OhX3wae-2Ysp"
   },
   "outputs": [],
   "source": [
    "class PositionalEncoding(torch.nn.Module):\n",
    "    def __init__(self, emb_size, dropout, maxlen):\n",
    "        super(PositionalEncoding, self).__init__()\n",
    "        den = torch.exp(- torch.arange(0, emb_size, 2) * np.log(10000) / emb_size)\n",
    "        pos = torch.arange(0, maxlen).reshape(maxlen, 1)\n",
    "        pos_embedding = torch.zeros((maxlen, emb_size))\n",
    "\n",
    "        pos_embedding[:, 0::2] = torch.sin(pos * den)\n",
    "        pos_embedding[:, 1::2] = torch.cos(pos * den)\n",
    "\n",
    "        pos_embedding = pos_embedding.unsqueeze(-2)\n",
    "\n",
    "        self.dropout = torch.nn.Dropout(dropout)\n",
    "        self.register_buffer('pos_embedding', pos_embedding)\n",
    "\n",
    "    def forward(self, token_embedding):\n",
    "        return self.dropout(token_embedding + self.pos_embedding[:token_embedding.size(0), :])"
   ]
  },
  {
   "cell_type": "code",
   "execution_count": 60,
   "metadata": {
    "id": "zfQqwaTy2ctP"
   },
   "outputs": [],
   "source": [
    "class TokenEmbedding(torch.nn.Module):\n",
    "    def __init__(self, vocab_size: int, emb_size):\n",
    "        super(TokenEmbedding, self).__init__()\n",
    "        self.embedding = torch.nn.Embedding(vocab_size, emb_size)\n",
    "        self.emb_size = emb_size\n",
    "\n",
    "    def forward(self, tokens):\n",
    "        return self.embedding(tokens.long()) * np.sqrt(self.emb_size)"
   ]
  },
  {
   "cell_type": "code",
   "execution_count": 61,
   "metadata": {
    "id": "n3SVI7mdipTz"
   },
   "outputs": [],
   "source": [
    "class Seq2SeqTransformer(torch.nn.Module):\n",
    "    def __init__(self, num_encoder_layers, num_decoder_layers, emb_size, nhead,\n",
    "                 src_vocab_size, tgt_vocab_size, dim_feedforward, dropout,\n",
    "                 maxlen=5000):\n",
    "        super(Seq2SeqTransformer, self).__init__()\n",
    "        self.transformer = torch.nn.Transformer(d_model=emb_size,\n",
    "                                          nhead=nhead,\n",
    "                                          num_encoder_layers=num_encoder_layers,\n",
    "                                          num_decoder_layers=num_decoder_layers,\n",
    "                                          dim_feedforward=dim_feedforward,\n",
    "                                          dropout=dropout)\n",
    "        self.generator = torch.nn.Linear(emb_size, tgt_vocab_size)\n",
    "        self.src_tok_emb = TokenEmbedding(src_vocab_size, emb_size)\n",
    "        self.tgt_tok_emb = TokenEmbedding(tgt_vocab_size, emb_size)\n",
    "        self.positional_encoding = PositionalEncoding(emb_size, dropout, maxlen)\n",
    "\n",
    "    def forward(self, src, trg, src_mask, tgt_mask,\n",
    "                src_padding_mask, tgt_padding_mask, memory_key_padding_mask):\n",
    "        src_emb = self.positional_encoding(self.src_tok_emb(src))\n",
    "        tgt_emb = self.positional_encoding(self.tgt_tok_emb(trg))\n",
    "        outs = self.transformer(src_emb, tgt_emb, src_mask, tgt_mask, None,\n",
    "                                src_padding_mask, tgt_padding_mask,\n",
    "                                memory_key_padding_mask)\n",
    "        return self.generator(outs)\n",
    "\n",
    "    def encode(self, src, src_mask, src_padding_mask):\n",
    "        return self.transformer.encoder(self.positional_encoding(\n",
    "                            self.src_tok_emb(src)), src_mask,\n",
    "                            src_key_padding_mask=src_padding_mask)\n",
    "\n",
    "    def decode(self, tgt, memory, tgt_mask, memory_key_padding_mask):\n",
    "        return self.transformer.decoder(self.positional_encoding(\n",
    "                          self.tgt_tok_emb(tgt)), memory, tgt_mask,\n",
    "                          memory_key_padding_mask=memory_key_padding_mask)"
   ]
  },
  {
   "cell_type": "code",
   "execution_count": 62,
   "metadata": {
    "id": "qzS1be4walul"
   },
   "outputs": [],
   "source": [
    "def generate_square_subsequent_mask(sz):\n",
    "    mask = (torch.triu(torch.ones((sz, sz), device=device)) == 1).transpose(0, 1)\n",
    "    mask = mask.float().masked_fill(mask == 0, float('-inf')).masked_fill(mask == 1, float(0.0))\n",
    "    return mask"
   ]
  },
  {
   "cell_type": "code",
   "execution_count": 63,
   "metadata": {
    "id": "GSjJO0qAYD35"
   },
   "outputs": [],
   "source": [
    "def create_mask(src, tgt):\n",
    "    src_seq_len = src.shape[0]\n",
    "    tgt_seq_len = tgt.shape[0]\n",
    "\n",
    "    tgt_mask = generate_square_subsequent_mask(tgt_seq_len)\n",
    "    src_mask = torch.zeros((src_seq_len, src_seq_len), device=device).type(torch.bool)\n",
    "\n",
    "    src_padding_mask = (src == rus_pad_idx).transpose(0, 1)\n",
    "    tgt_padding_mask = (tgt == en_pad_idx).transpose(0, 1)\n",
    "    return src_mask, tgt_mask, src_padding_mask, tgt_padding_mask"
   ]
  },
  {
   "cell_type": "code",
   "execution_count": 67,
   "metadata": {
    "id": "bq3_OBLXbwzv"
   },
   "outputs": [],
   "source": [
    "transformer = Seq2SeqTransformer(transf_enc_layers,transf_dec_layers, transf_emb_size,\n",
    "                                 n_head, input_size, output_size, dim_feedforward, transf_dropout_p).to(device)\n",
    "\n",
    "for p in transformer.parameters():\n",
    "    if p.dim() > 1:\n",
    "        torch.nn.init.xavier_uniform_(p)\n",
    "\n",
    "criterion = torch.nn.CrossEntropyLoss(ignore_index=en_pad_idx)\n",
    "optimizer = torch.optim.Adam(transformer.parameters(), lr=transf_lr)\n",
    "\n",
    "train_history = []\n",
    "val_history = []\n",
    "bleu_history = []\n",
    "val_batches = []"
   ]
  },
  {
   "cell_type": "markdown",
   "metadata": {
    "id": "94HyQDUSEd0_"
   },
   "source": [
    "Всего лишь за 4 эпохи трансформер улучшает предыдущие результаты, достигая значения 31 bleu. При этом одна эпоха длится 4 минуты, что меньше чем 4.5 для Seq2Seq + Attention. Видно, что такая архитектура даёт существенные преимущества - она показывает большие bleu при этом обучается примерно в 3 раза быстрее"
   ]
  },
  {
   "cell_type": "code",
   "execution_count": 68,
   "metadata": {
    "colab": {
     "base_uri": "https://localhost:8080/",
     "height": 576
    },
    "id": "Qa8FfKPvpA43",
    "outputId": "5c8bff4d-1cbf-4666-954c-92f0f88b7a77"
   },
   "outputs": [
    {
     "data": {
      "image/png": "[encoded data removed]",
      "text/plain": [
       "<Figure size 1200x500 with 2 Axes>"
      ]
     },
     "metadata": {},
     "output_type": "display_data"
    },
    {
     "name": "stdout",
     "output_type": "stream",
     "text": [
      "Time: 1m 16s\n",
      "\tTrain Loss: 0.9 | Train PPL: 3\n",
      "\t Val. Loss: 1.5 |  Val. PPL: 5\n",
      "\t Bleu: 31.1\n"
     ]
    }
   ],
   "source": [
    "train_history, val_history, bleu_history, val_batches = train_and_plot(transformer, False, 4, transf_path,\n",
    "                                                                       train_history, val_history, bleu_history, val_batches)"
   ]
  },
  {
   "cell_type": "markdown",
   "metadata": {
    "id": "WxQ7CimFUlmz"
   },
   "source": [
    "### Оценка качества\n",
    "\n"
   ]
  },
  {
   "cell_type": "markdown",
   "metadata": {
    "id": "qDJaEb6HFKSw"
   },
   "source": [
    "Считаем значения bleu на отложенной выборке и выводим примеры переводов"
   ]
  },
  {
   "cell_type": "markdown",
   "metadata": {
    "id": "lDWD-Q1FVqk6"
   },
   "source": [
    "Базовая модель"
   ]
  },
  {
   "cell_type": "code",
   "execution_count": null,
   "metadata": {
    "colab": {
     "base_uri": "https://localhost:8080/"
    },
    "id": "jSQTebYqWDII",
    "outputId": "cc9b73a8-f43c-4e9c-f7f2-6822b1761286"
   },
   "outputs": [
    {
     "name": "stdout",
     "output_type": "stream",
     "text": [
      "Score: 18.9\n",
      "Examples:\n",
      "Target: ['wake', 'up', 'to', 'a', 'delicious', 'complimentary', 'buffet', 'in', 'the', 'bright', 'pavilion', '.']\n",
      "Translated: ['a', 'complimentary', 'breakfast', 'is', 'served', 'daily', 'in', 'the', 'breakfast', 'room', '.']\n",
      "-----\n",
      "Target: ['free', 'wifi', 'is', 'available', 'in', 'the', 'rooms', '.']\n",
      "Translated: ['free', 'wi', '-', 'fi', 'is', 'available', '.']\n",
      "-----\n",
      "Target: ['the', 'hostel', 'also', 'offers', 'bike', 'hire', ',', 'car', 'hire', 'and', 'a', 'tour', 'and', 'activities', 'desk', '.']\n",
      "Translated: ['bike', 'hire', 'and', 'car', 'hire', 'are', 'available', 'at', 'the', 'property', 'and', 'the', 'area', 'is', 'popular', 'for', 'golfing', '.']\n",
      "-----\n",
      "Target: ['the', 'centre', 'of', 'mondsee', 'is', '3', 'km', 'away', '.']\n",
      "Translated: ['the', 'nearest', 'restaurant', 'is', '3', 'km', 'from', 'the', 'property', '.']\n",
      "-----\n",
      "Target: ['the', 'salem', 'inn', 'places', 'guests', 'within', 'walking', 'distance', 'to', 'a', 'variety', 'of', 'local', 'attractions', ',', 'including', 'the', 'site', 'of', 'the', '<UNK>', 'salem', '<UNK>', '<UNK>', '.']\n",
      "Translated: ['the', '<UNK>', '<UNK>', 'visitor', \"'\", 's', 'mine', 'is', 'a', 'short', 'walk', 'from', 'the', 'property', ',', 'while', 'the', 'famous', 'tram', 'travelling', 'is', 'available', 'at', 'a', 'nearby', 'location', '.']\n",
      "-----\n"
     ]
    }
   ],
   "source": [
    "translated, target, bleu = get_bleu(model, test_loader)\n",
    "print('Score:', round(bleu, 1))\n",
    "print('Examples:')\n",
    "for i in range(5):\n",
    "  print('Target:', target[i])\n",
    "  print('Translated:', translated[i])\n",
    "  print('-----')"
   ]
  },
  {
   "cell_type": "markdown",
   "metadata": {
    "id": "r_QIIlPJn0mA"
   },
   "source": [
    "Модель с Attention"
   ]
  },
  {
   "cell_type": "code",
   "execution_count": null,
   "metadata": {
    "colab": {
     "base_uri": "https://localhost:8080/"
    },
    "id": "wKevr7Ren5dv",
    "outputId": "38651604-4db1-4b6a-ba1b-0448e3c78bd8"
   },
   "outputs": [
    {
     "name": "stdout",
     "output_type": "stream",
     "text": [
      "Score: 25.6\n",
      "Examples:\n",
      "Target: ['the', 'hotel', 'has', '24', '-', 'hour', 'front', 'desk', '.']\n",
      "Translated: ['there', 'is', 'a', '24', '-', 'hour', 'front', 'desk', 'at', 'the', 'property', '.']\n",
      "-----\n",
      "Target: ['the', '<UNK>', 'enjoys', 'a', 'panoramic', 'position', 'in', 'san', 'martino', 'di', '<UNK>', ',', '150', 'meters', 'from', 'the', '<UNK>', 'chair', 'lift', ',', 'and', '1', '.', '5', 'km', 'from', 'the', '<UNK>', 'cable', 'way', '.']\n",
      "Translated: ['the', '<UNK>', 'is', 'located', 'in', 'the', 'historic', 'town', 'of', '<UNK>', 'del', 'tronto', ',', '150', 'metres', 'from', 'the', '<UNK>', 'and', 'the', '<UNK>', 'cable', 'car', '.', 'the', '<UNK>', 'cable', 'car', 'is', '1', '.', '5', 'km', 'away', '.']\n",
      "-----\n",
      "Target: ['these', 'fully', '-', 'furnished', 'apartments', 'are', 'all', 'fitted', 'with', 'a', 'sofa', ',', 'free', 'toiletries', ',', 'a', 'flat', '-', 'screen', 'tv', 'with', 'cable', 'channels', ',', 'a', 'dining', 'area', ',', 'a', 'fully', '-', 'equipped', 'kitchen', 'and', 'a', 'balcony', 'with', 'a', 'city', 'view', '.']\n",
      "Translated: ['the', 'fully', '-', 'furnished', 'apartments', 'feature', 'a', 'sofa', ',', 'a', 'flat', '-', 'screen', 'tv', ',', 'a', 'fully', 'equipped', 'kitchen', ',', 'a', 'fully', 'equipped', 'kitchen', 'and', 'a', 'balcony', '.']\n",
      "-----\n",
      "Target: ['as', '<UNK>', 'sea', 'food', 'restaurant', 'serves', 'fresh', 'specialties', '.']\n",
      "Translated: ['the', 'restaurant', 'serves', 'traditional', 'asturian', 'gastronomic', 'dishes', '.']\n",
      "-----\n",
      "Target: ['local', 'flavours', 'prepared', 'with', 'organic', 'products', 'from', 'the', 'owner', \"'\", 's', 'farm', 'can', 'be', 'enjoyed', 'for', 'lunch', 'or', 'dinner', 'upon', 'request', '.']\n",
      "Translated: ['the', 'on', '-', 'site', 'restaurant', 'serves', 'international', 'dishes', ',', 'and', 'dinner', 'with', 'local', 'produce', 'can', 'be', 'enjoyed', 'at', 'the', 'hotel', '’', 's', 'rooftop', 'terrace', '.']\n",
      "-----\n"
     ]
    }
   ],
   "source": [
    "translated, target, bleu = get_bleu(model, test_loader)\n",
    "print('Score:', round(bleu, 1))\n",
    "print('Examples:')\n",
    "for i in range(5):\n",
    "  print('Target:', target[i])\n",
    "  print('Translated:', translated[i])\n",
    "  print('-----')"
   ]
  },
  {
   "cell_type": "markdown",
   "metadata": {
    "id": "ZxImq5a8c1be"
   },
   "source": [
    "Attention + изменение learning rate"
   ]
  },
  {
   "cell_type": "code",
   "execution_count": null,
   "metadata": {
    "colab": {
     "base_uri": "https://localhost:8080/"
    },
    "id": "kWTNHFeac7wE",
    "outputId": "9dbaef59-ca32-48fa-ea29-02578e4cdabd"
   },
   "outputs": [
    {
     "name": "stdout",
     "output_type": "stream",
     "text": [
      "Score: 27.1\n",
      "Examples:\n",
      "Target: ['free', 'wifi', 'access', 'is', 'available', '.']\n",
      "Translated: ['free', 'wifi', 'is', 'available', '.']\n",
      "-----\n",
      "Target: ['a', 'storage', 'room', 'for', 'ski', 'equipment', 'is', 'available', '.']\n",
      "Translated: ['there', 'is', 'also', 'a', 'ski', 'storage', 'room', '.']\n",
      "-----\n",
      "Target: ['air', 'conditioning', 'and', 'a', 'balcony', 'with', 'an', 'outdoor', 'dining', 'area', 'are', 'also', 'included', '.']\n",
      "Translated: ['the', 'air', '-', 'conditioned', 'apartment', 'has', 'a', 'balcony', 'with', 'dining', 'area', '.']\n",
      "-----\n",
      "Target: ['pisa', 'galileo', 'galilei', 'airport', 'is', '52', 'km', 'away', '.']\n",
      "Translated: ['the', 'nearest', 'airport', 'is', 'elefthérios', 'venizélos', 'airport', ',', '33', 'km', 'from', 'the', 'property', '.']\n",
      "-----\n",
      "Target: ['guests', 'can', 'enjoy', 'a', 'variety', 'of', '<UNK>', 'valley', 'wines', 'at', 'the', 'property', '.']\n",
      "Translated: ['the', 'owners', 'can', 'also', 'help', 'yourself', 'to', 'the', '<UNK>', '.']\n",
      "-----\n"
     ]
    }
   ],
   "source": [
    "translated, target, bleu = get_bleu(model, test_loader)\n",
    "print('Score:', round(bleu, 1))\n",
    "print('Examples:')\n",
    "for i in range(5):\n",
    "  print('Target:', target[i])\n",
    "  print('Translated:', translated[i])\n",
    "  print('-----')"
   ]
  },
  {
   "cell_type": "markdown",
   "metadata": {
    "id": "tY7OM6ht_uwn"
   },
   "source": [
    "Трансформер"
   ]
  },
  {
   "cell_type": "code",
   "execution_count": null,
   "metadata": {
    "colab": {
     "base_uri": "https://localhost:8080/"
    },
    "id": "6yphPJAeiQAV",
    "outputId": "48dd19db-48c5-4a50-c753-b8d11f94e040"
   },
   "outputs": [
    {
     "name": "stdout",
     "output_type": "stream",
     "text": [
      "Score: 31.1\n",
      "Examples:\n",
      "Target: ['offering', 'a', 'free', 'outdoor', 'pool', 'and', 'a', 'restaurant', ',', 'the', '4', '-', 'star', 'art', 'hotel', 'santorini', 'is', 'located', 'in', '<UNK>', '.']\n",
      "Translated: ['offering', 'an', 'outdoor', 'pool', 'and', 'a', 'restaurant', ',', 'the', '4', '-', 'star', 'hotel', 'is', 'located', 'in', '<UNK>', '.']\n",
      "-----\n",
      "Target: ['<UNK>', 'university', 'is', '5', '.', '3', 'miles', 'away', '.']\n",
      "Translated: ['the', '<UNK>', 'is', '8', '.', '5', 'km', 'away', '.']\n",
      "-----\n",
      "Target: ['the', 'air', '-', 'conditioned', 'rooms', 'are', 'spacious', 'and', 'feature', 'a', 'simple', 'décor', '.']\n",
      "Translated: ['the', 'spacious', 'air', '-', 'conditioned', 'rooms', 'feature', 'a', 'simple', 'interior', '.']\n",
      "-----\n",
      "Target: ['the', 'hotel', 'features', 'a', 'large', 'outdoor', 'swimming', 'pool', 'and', 'free', 'wifi', '.']\n",
      "Translated: ['it', 'offers', 'a', 'large', 'outdoor', 'pool', 'and', 'free', 'wi', '-', 'fi', '.']\n",
      "-----\n",
      "Target: ['the', 'nearest', 'airport', 'is', 'istanbul', 'ataturk', 'airport', ',', '14', 'km', 'from', 'the', 'property', '.']\n",
      "Translated: ['the', 'nearest', 'airport', 'is', 'istanbul', 'ataturk', 'airport', ',', '14', 'km', 'from', 'the', 'property', '.']\n",
      "-----\n"
     ]
    }
   ],
   "source": [
    "bleu, translated, target = get_bleu(transformer, test_loader)\n",
    "print('Score:', round(bleu, 1))\n",
    "print('Examples:')\n",
    "for i in range(5):\n",
    "  print('Target:', target[i])\n",
    "  print('Translated:', translated[i])\n",
    "  print('-----')"
   ]
  },
  {
   "cell_type": "markdown",
   "metadata": {
    "id": "K4foZeVFt8nV"
   },
   "source": [
    "### Обсуждение результатов"
   ]
  },
  {
   "cell_type": "markdown",
   "metadata": {
    "id": "cvgAzdhzuBnl"
   },
   "source": [
    "1) Базовая модель Seq2Seq показывает не очень хорошее качество перевода и используется тут только для сравнения с более продвинутыми алгоритмами\n",
    "\n",
    "2) Механизм attention позволяет значительно, на 10 пунктов, поднять значение bleu на отложенной выборке. При этом прочие условия: количество эпох, размер embedding и т. д. совпадают, хотя одна эпоха учится примерно в 1.3 раза дольше\n",
    "\n",
    "3) Использование lr_scheduler ещё поднимает значение bleu, хотя и не так сильно, на 1.5 пункта\n",
    "\n",
    "4) Использование трансформера значительно улучшает качество перевода, ещё на 4 пункта по сравнению с attention + lr_scheduler, при этом обучение идёт в 3 раза быстрее"
   ]
  }
 ],
 "metadata": {
  "accelerator": "GPU",
  "anaconda-cloud": {},
  "colab": {
   "collapsed_sections": [
    "BmwNc0Bb5X3p",
    "Ydqh6Nv-5X3q",
    "gTCdJvym5X3r",
    "45VrR5c75X3s",
    "aPEf262BQ7yE",
    "oSWQm--tQ2f5",
    "sQ2_5JVX5X3t",
    "4F34lCNKpsbE",
    "d9ZsDHFtYi7a",
    "bCpmhzrkYpP5",
    "RrV5mcN9Sf1B",
    "ZAda7iJPgIZj",
    "Zcgo7CZxXuax",
    "UQ8Oeixmipzb",
    "WxQ7CimFUlmz",
    "K4foZeVFt8nV"
   ],
   "gpuType": "T4",
   "provenance": []
  },
  "kernelspec": {
   "display_name": "Python 3 (ipykernel)",
   "language": "python",
   "name": "python3"
  },
  "language_info": {
   "codemirror_mode": {
    "name": "ipython",
    "version": 3
   },
   "file_extension": ".py",
   "mimetype": "text/x-python",
   "name": "python",
   "nbconvert_exporter": "python",
   "pygments_lexer": "ipython3",
   "version": "3.9.13"
  }
 },
 "nbformat": 4,
 "nbformat_minor": 4
}
