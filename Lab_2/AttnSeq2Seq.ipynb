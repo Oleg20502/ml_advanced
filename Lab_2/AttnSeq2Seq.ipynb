{
  "nbformat": 4,
  "nbformat_minor": 0,
  "metadata": {
    "colab": {
      "provenance": [],
      "gpuType": "T4"
    },
    "kernelspec": {
      "name": "python3",
      "display_name": "Python 3"
    },
    "language_info": {
      "name": "python"
    },
    "accelerator": "GPU"
  },
  "cells": [
    {
      "cell_type": "code",
      "source": [
        "# You might need to install the libraries below. Do it in the desired environment\n",
        "# if you are working locally.\n",
        "\n",
        "# ! pip  install subword-nmt\n",
        "# !pip install nltk\n",
        "# !pip install torchtext"
      ],
      "metadata": {
        "id": "YInXp-Pe4vXg"
      },
      "execution_count": null,
      "outputs": []
    },
    {
      "cell_type": "code",
      "execution_count": 184,
      "metadata": {
        "id": "d7amcejp4TSu",
        "colab": {
          "base_uri": "https://localhost:8080/"
        },
        "outputId": "92d10931-e050-4c45-852f-9488283a990d"
      },
      "outputs": [
        {
          "output_type": "stream",
          "name": "stdout",
          "text": [
            "Dataset not found locally. Downloading from github.\n",
            "File ‘data.txt’ already there; not retrieving.\n",
            "\n"
          ]
        }
      ],
      "source": [
        "import os\n",
        "path_to_data = '../../datasets/Machine_translation_EN_RU/data.txt'\n",
        "if not os.path.exists(path_to_data):\n",
        "    print(\"Dataset not found locally. Downloading from github.\")\n",
        "    !wget https://raw.githubusercontent.com/neychev/made_nlp_course/master/datasets/Machine_translation_EN_RU/data.txt -nc\n",
        "    path_to_data = './data.txt'"
      ]
    },
    {
      "cell_type": "code",
      "source": [
        "import torch\n",
        "import torch.nn as nn\n",
        "import torch.optim as optim\n",
        "import torch.nn.functional as F\n",
        "\n",
        "import torchtext\n",
        "from torch.utils.data import Dataset, DataLoader\n",
        "from torch.nn.utils.rnn import pad_sequence\n",
        "from collections import Counter\n",
        "from torchtext.vocab import vocab\n",
        "from nltk.tokenize import wordpunct_tokenize\n",
        "\n",
        "import numpy as np\n",
        "import pandas as pd\n",
        "import time\n",
        "\n",
        "import matplotlib\n",
        "matplotlib.rcParams.update({'figure.figsize': (16, 12), 'font.size': 14})\n",
        "import matplotlib.pyplot as plt\n",
        "%matplotlib inline\n",
        "from IPython.display import clear_output"
      ],
      "metadata": {
        "id": "ZsnlfZMt41xW"
      },
      "execution_count": 185,
      "outputs": []
    },
    {
      "cell_type": "code",
      "source": [
        "# Step 1: Read the dataset file and parse it\n",
        "def read_dataset(file_path):\n",
        "    with open(file_path, 'r') as file:\n",
        "        lines = file.readlines()\n",
        "    english_sentences = []\n",
        "    russian_sentences = []\n",
        "    for line in lines:\n",
        "        english, russian = line.strip().split('\\t')\n",
        "        english_sentences.append(english)\n",
        "        russian_sentences.append(russian)\n",
        "    return english_sentences, russian_sentences\n",
        "\n",
        "english_sentences, russian_sentences = read_dataset(path_to_data)\n",
        "\n",
        "# Step 2: Tokenize the sentences\n",
        "def tokenize_sentences(sentences):\n",
        "    tokenized_sentences = [wordpunct_tokenize(sentence.lower()) for sentence in sentences]\n",
        "    return tokenized_sentences\n",
        "\n",
        "english_tokenized = tokenize_sentences(english_sentences)\n",
        "russian_tokenized = tokenize_sentences(russian_sentences)"
      ],
      "metadata": {
        "id": "qkzARkdCTbla"
      },
      "execution_count": 186,
      "outputs": []
    },
    {
      "cell_type": "code",
      "source": [
        "print(len(english_sentences))\n",
        "print(english_sentences[0])"
      ],
      "metadata": {
        "colab": {
          "base_uri": "https://localhost:8080/"
        },
        "id": "ewApExlUckmP",
        "outputId": "c4ada98a-a8f4-434d-beda-bc65ae793bb1"
      },
      "execution_count": 187,
      "outputs": [
        {
          "output_type": "stream",
          "name": "stdout",
          "text": [
            "50000\n",
            "Cordelia Hotel is situated in Tbilisi, a 3-minute walk away from Saint Trinity Church.\n"
          ]
        }
      ]
    },
    {
      "cell_type": "code",
      "source": [
        "# Step 3: Create vocabulary mappings\n",
        "def build_vocab(tokenized_sentences):\n",
        "    counter = Counter()\n",
        "    for sentence in tokenized_sentences:\n",
        "        counter.update(sentence)\n",
        "    vocab = torchtext.vocab.vocab(counter, min_freq=3, specials=('<UNK>', '<SOS>', '<EOS>', '<PAD>'))\n",
        "    vocab.set_default_index(vocab[\"<UNK>\"])\n",
        "    return vocab\n",
        "\n",
        "english_vocab = build_vocab(english_tokenized)\n",
        "russian_vocab = build_vocab(russian_tokenized)"
      ],
      "metadata": {
        "id": "FX--KkPPdh-z"
      },
      "execution_count": 188,
      "outputs": []
    },
    {
      "cell_type": "code",
      "source": [
        "INPUT_DIM = len(russian_vocab)\n",
        "OUTPUT_DIM = len(english_vocab)\n",
        "PAD_IDX = english_vocab['<PAD>']\n",
        "SOS_IDX = english_vocab['<SOS>']\n",
        "EOS_IDX = english_vocab['<EOS>']\n",
        "UNK_IDX = english_vocab['<UNK>']"
      ],
      "metadata": {
        "id": "n6fUG2WSwwn6"
      },
      "execution_count": 189,
      "outputs": []
    },
    {
      "cell_type": "code",
      "source": [
        "print(len(english_vocab))\n",
        "print(len(russian_vocab))"
      ],
      "metadata": {
        "colab": {
          "base_uri": "https://localhost:8080/"
        },
        "id": "__wdvr4cIRKg",
        "outputId": "19367ad2-d562-4334-c326-bc3121bd747d"
      },
      "execution_count": 190,
      "outputs": [
        {
          "output_type": "stream",
          "name": "stdout",
          "text": [
            "7828\n",
            "10799\n"
          ]
        }
      ]
    },
    {
      "cell_type": "code",
      "source": [
        "# Step 4: Convert tokenized sentences into sequences of integer indices\n",
        "def sentence_to_indices(tokenized_sentences, vocab):\n",
        "    indices = [[vocab['<SOS>']] + [vocab[token] for token in sentence] + [vocab['<EOS>']] for sentence in tokenized_sentences]\n",
        "    return indices\n",
        "\n",
        "english_indices = sentence_to_indices(english_tokenized, english_vocab)\n",
        "russian_indices = sentence_to_indices(russian_tokenized, russian_vocab)"
      ],
      "metadata": {
        "id": "eWkNy6E3Hd9T"
      },
      "execution_count": 191,
      "outputs": []
    },
    {
      "cell_type": "code",
      "source": [
        "MAX_SEQUENCE_LENGTH = 50\n",
        "BATCH_SIZE = 128"
      ],
      "metadata": {
        "id": "8vRz2il2lXNM"
      },
      "execution_count": 192,
      "outputs": []
    },
    {
      "cell_type": "code",
      "source": [
        "# Step 5: Pad sequences to a fixed length\n",
        "def pad_sequences(indices, max_length, padding_idx):\n",
        "    padded_indices = [sentence[:max_length] + [padding_idx] * (max_length - len(sentence)) for sentence in indices]\n",
        "    return torch.tensor(padded_indices)\n",
        "\n",
        "english_padding_idx = english_vocab['<PAD>']\n",
        "russian_padding_idx = russian_vocab['<PAD>']\n",
        "english_padded = pad_sequences(english_indices, MAX_SEQUENCE_LENGTH, english_padding_idx)\n",
        "russian_padded = pad_sequences(russian_indices, MAX_SEQUENCE_LENGTH, russian_padding_idx)"
      ],
      "metadata": {
        "id": "hf98kRLuLxlx"
      },
      "execution_count": 193,
      "outputs": []
    },
    {
      "cell_type": "code",
      "source": [
        "# Step 6: Split the dataset into training and validation sets\n",
        "dataset = list(zip(russian_padded, english_padded))\n",
        "train_size = int(0.8 * len(dataset))\n",
        "val_size = int(0.15 * len(dataset))\n",
        "test_size = len(dataset) - train_size - val_size\n",
        "train_data, val_data, test_data = torch.utils.data.random_split(dataset, [train_size, val_size, test_size])\n",
        "\n",
        "train_loader = DataLoader(train_data, batch_size=BATCH_SIZE, shuffle=True, drop_last=True)\n",
        "val_loader = DataLoader(val_data, batch_size=BATCH_SIZE, shuffle=False, drop_last=True)\n",
        "test_loader = DataLoader(test_data, batch_size=BATCH_SIZE, shuffle=False, drop_last=True)"
      ],
      "metadata": {
        "id": "hhWR5zGvci1A"
      },
      "execution_count": 194,
      "outputs": []
    },
    {
      "cell_type": "code",
      "source": [
        "ENC_EMB_DIM = 512\n",
        "DEC_EMB_DIM = 512\n",
        "ENC_HID_DIM = 900\n",
        "DEC_HID_DIM = 900\n",
        "N_LAYERS = 2\n",
        "ENC_DROPOUT = 0.5\n",
        "DEC_DROPOUT = 0.5\n",
        "\n",
        "lr = 0.0005"
      ],
      "metadata": {
        "id": "KLucxG_-Z_W1"
      },
      "execution_count": 195,
      "outputs": []
    },
    {
      "cell_type": "code",
      "source": [
        "class Encoder(nn.Module):\n",
        "    def __init__(self, input_size, embedding_size, hidden_size, n_layers=1, dropout_p=0.1):\n",
        "        super(Encoder, self).__init__()\n",
        "        self.hidden_size = hidden_size\n",
        "\n",
        "        self.embedding = nn.Embedding(input_size, embedding_size)\n",
        "        self.rnn = nn.GRU(embedding_size, hidden_size, batch_first=True,\n",
        "                          num_layers=n_layers, dropout=dropout_p)\n",
        "        self.dropout = nn.Dropout(dropout_p)\n",
        "\n",
        "    def forward(self, input):\n",
        "        embedded = self.embedding(input)\n",
        "        embedded = self.dropout(embedded)\n",
        "        output, hidden = self.rnn(embedded)\n",
        "        return output, hidden"
      ],
      "metadata": {
        "id": "GxDcXdezlXkR"
      },
      "execution_count": 196,
      "outputs": []
    },
    {
      "cell_type": "code",
      "source": [
        "class Attention(nn.Module):\n",
        "    def __init__(self, hidden_size):\n",
        "        super(Attention, self).__init__()\n",
        "        self.Wa = nn.Linear(hidden_size, hidden_size)\n",
        "        self.Ua = nn.Linear(hidden_size, hidden_size)\n",
        "        self.Va = nn.Linear(hidden_size, 1)\n",
        "\n",
        "    def forward(self, query, keys):\n",
        "        query = query.unsqueeze(0).permute(1, 0, 2)\n",
        "        scores = self.Va(torch.tanh(self.Wa(query) + self.Ua(keys)))\n",
        "        scores = scores.squeeze(2).unsqueeze(1)\n",
        "        weights = F.softmax(scores, dim=-1)\n",
        "        context = torch.bmm(weights, keys)\n",
        "        return context"
      ],
      "metadata": {
        "id": "7QYO58MBpc9F"
      },
      "execution_count": 197,
      "outputs": []
    },
    {
      "cell_type": "code",
      "source": [
        "class AttnDecoder(nn.Module):\n",
        "    def __init__(self, input_size, embedding_size, hidden_size, output_size, n_layers=1, dropout_p=0.1):\n",
        "        super(AttnDecoder, self).__init__()\n",
        "        self.input_size = input_size\n",
        "        self.hidden_size = hidden_size\n",
        "\n",
        "        self.embedding = nn.Embedding(input_size, embedding_size)\n",
        "        self.attention = Attention(hidden_size)\n",
        "        self.rnn = nn.GRU(embedding_size + hidden_size, hidden_size, batch_first=True,\n",
        "                          num_layers=n_layers, dropout=dropout_p)\n",
        "        self.dropout = nn.Dropout(dropout_p)\n",
        "        self.out = nn.Linear(hidden_size, output_size)\n",
        "\n",
        "    def forward(self, input, hidden, encoder_outputs):\n",
        "        embedded = self.embedding(input)\n",
        "        embedded = self.dropout(embedded)\n",
        "        context = self.attention(hidden[-1], encoder_outputs)\n",
        "        input = torch.cat((embedded, context), dim=2)\n",
        "        output, hidden = self.rnn(input, hidden)\n",
        "        output = self.out(output)\n",
        "        return output, hidden"
      ],
      "metadata": {
        "id": "NaNimz_Cltcs"
      },
      "execution_count": 198,
      "outputs": []
    },
    {
      "cell_type": "code",
      "source": [
        "class AttnSeq2Seq(nn.Module):\n",
        "    def __init__(self, encoder, decoder, device):\n",
        "        super(AttnSeq2Seq, self).__init__()\n",
        "        self.encoder = encoder\n",
        "        self.decoder = decoder\n",
        "\n",
        "        self.device = device\n",
        "\n",
        "    def forward(self, input, target_tensor=None):\n",
        "        encoder_outputs, encoder_hidden = self.encoder(input)\n",
        "\n",
        "        seq_length = MAX_SEQUENCE_LENGTH\n",
        "        if target_tensor is not None:\n",
        "            seq_length = target_tensor.shape[1]\n",
        "\n",
        "        decoder_input = torch.empty(input.shape[0], 1, dtype=torch.long, device=device).fill_(SOS_IDX)\n",
        "        decoder_hidden = encoder_hidden\n",
        "        decoder_outputs = []\n",
        "\n",
        "        for i in range(1, seq_length):\n",
        "            decoder_output, decoder_hidden = self.decoder(decoder_input, decoder_hidden, encoder_outputs)\n",
        "            decoder_outputs.append(decoder_output)\n",
        "\n",
        "            if target_tensor is not None:\n",
        "                decoder_input = target_tensor[:, i].unsqueeze(1) # Teacher forcing\n",
        "            else:\n",
        "                _, topi = decoder_output.topk(1)\n",
        "                decoder_input = topi.squeeze(-1).detach()  # detach from history as input\n",
        "\n",
        "        decoder_outputs = torch.cat(decoder_outputs, dim=1)\n",
        "        return decoder_outputs"
      ],
      "metadata": {
        "id": "ryyu-JhJ3JDI"
      },
      "execution_count": 199,
      "outputs": []
    },
    {
      "cell_type": "code",
      "source": [
        "device = torch.device('cuda' if torch.cuda.is_available() else 'cpu')\n",
        "print(device)\n",
        "\n",
        "encoder = Encoder(INPUT_DIM, ENC_EMB_DIM, ENC_HID_DIM, N_LAYERS, ENC_DROPOUT)\n",
        "decoder = AttnDecoder(OUTPUT_DIM, DEC_EMB_DIM, DEC_HID_DIM, OUTPUT_DIM, N_LAYERS, DEC_DROPOUT)\n",
        "\n",
        "model = AttnSeq2Seq(encoder, decoder, device).to(device)"
      ],
      "metadata": {
        "id": "j8oQkBDDbiEU",
        "colab": {
          "base_uri": "https://localhost:8080/"
        },
        "outputId": "52814d3b-5a5e-40e2-c9b5-d97fe75cdc59"
      },
      "execution_count": 200,
      "outputs": [
        {
          "output_type": "stream",
          "name": "stdout",
          "text": [
            "cuda\n"
          ]
        }
      ]
    },
    {
      "cell_type": "code",
      "source": [
        "optimizer = optim.Adam(model.parameters(), lr=lr)\n",
        "criterion = nn.CrossEntropyLoss(ignore_index=PAD_IDX)"
      ],
      "metadata": {
        "id": "HwIyVoInC1ww"
      },
      "execution_count": 201,
      "outputs": []
    },
    {
      "cell_type": "code",
      "source": [
        "def train(model, iterator, optimizer, criterion, clip, n_show = 50, train_history=None, valid_history=None):\n",
        "    model.train()\n",
        "\n",
        "    epoch_loss = 0\n",
        "    train_loss = 0\n",
        "    I_val = []\n",
        "    history = []\n",
        "    val_history = []\n",
        "    for i, batch in enumerate(iterator):\n",
        "        src = batch[0].to(device)\n",
        "        trg = batch[1].to(device)\n",
        "\n",
        "        optimizer.zero_grad()\n",
        "\n",
        "        output = model(src, trg)\n",
        "\n",
        "        output = output.view(-1, output.shape[-1])\n",
        "        trg_output = trg[:, 1:].reshape(-1)\n",
        "\n",
        "        loss = criterion(output, trg_output)\n",
        "\n",
        "        loss.backward()\n",
        "\n",
        "        # Let's clip the gradient\n",
        "        torch.nn.utils.clip_grad_norm_(model.parameters(), clip)\n",
        "\n",
        "        optimizer.step()\n",
        "\n",
        "        epoch_loss += loss.item()\n",
        "\n",
        "        history.append(loss.detach().cpu().data.numpy())\n",
        "        if (i+1) % n_show == 0:\n",
        "            I_val.append(i)\n",
        "            val_history.append(evaluate(model, val_loader, criterion))\n",
        "\n",
        "            fig, ax = plt.subplots(nrows=1, ncols=2, figsize=(12, 8))\n",
        "\n",
        "            clear_output(True)\n",
        "            ax[0].plot(history, label='train loss')\n",
        "            ax[0].plot(I_val, val_history, label='validation loss')\n",
        "            ax[0].set_xlabel('Batch')\n",
        "            ax[0].set_title('Loss')\n",
        "            ax[0].legend()\n",
        "            if train_history is not None:\n",
        "                ax[1].plot(train_history, label='general train history')\n",
        "                ax[1].set_xlabel('Epoch')\n",
        "            if valid_history is not None:\n",
        "                ax[1].plot(valid_history, label='general valid history')\n",
        "            plt.legend()\n",
        "\n",
        "            plt.show()\n",
        "\n",
        "\n",
        "    return epoch_loss / len(iterator)"
      ],
      "metadata": {
        "id": "MMlNKoi8FPrf"
      },
      "execution_count": 202,
      "outputs": []
    },
    {
      "cell_type": "code",
      "source": [
        "def evaluate(model, iterator, criterion):\n",
        "\n",
        "    model.eval()\n",
        "\n",
        "    epoch_loss = 0\n",
        "\n",
        "    history = []\n",
        "\n",
        "    with torch.no_grad():\n",
        "\n",
        "        for i, batch in enumerate(iterator):\n",
        "\n",
        "            src = batch[0].to(device)\n",
        "            trg = batch[1].to(device)\n",
        "\n",
        "            output = model(src)\n",
        "\n",
        "            output = output.view(-1, output.shape[-1])\n",
        "            trg_output = trg[:, 1:].reshape(-1)\n",
        "\n",
        "            loss = criterion(output, trg_output)\n",
        "\n",
        "            epoch_loss += loss.item()\n",
        "    model.train()\n",
        "    return epoch_loss / len(iterator)"
      ],
      "metadata": {
        "id": "jaCyNytNnAza"
      },
      "execution_count": 203,
      "outputs": []
    },
    {
      "cell_type": "code",
      "source": [
        "def epoch_time(start_time, end_time):\n",
        "    elapsed_time = end_time - start_time\n",
        "    elapsed_mins = int(elapsed_time / 60)\n",
        "    elapsed_secs = int(elapsed_time - (elapsed_mins * 60))\n",
        "    return elapsed_mins, elapsed_secs"
      ],
      "metadata": {
        "id": "KHEertghmb73"
      },
      "execution_count": 204,
      "outputs": []
    },
    {
      "cell_type": "code",
      "source": [
        "n_show = 100\n",
        "N_EPOCHS = 1\n",
        "CLIP = 3.0\n",
        "\n",
        "best_valid_loss = float('inf')\n",
        "\n",
        "train_history = []\n",
        "valid_history = []"
      ],
      "metadata": {
        "id": "nIheFRY5mjRp"
      },
      "execution_count": 205,
      "outputs": []
    },
    {
      "cell_type": "code",
      "source": [
        "for epoch in range(N_EPOCHS):\n",
        "\n",
        "    start_time = time.time()\n",
        "\n",
        "    train_loss = train(model, train_loader, optimizer, criterion, CLIP, n_show, train_history, valid_history)\n",
        "    valid_loss = evaluate(model, val_loader, criterion)\n",
        "\n",
        "    end_time = time.time()\n",
        "\n",
        "    epoch_mins, epoch_secs = epoch_time(start_time, end_time)\n",
        "\n",
        "    if valid_loss < best_valid_loss:\n",
        "        best_valid_loss = valid_loss\n",
        "        torch.save(model.state_dict(), 'tut1-model.pt')\n",
        "\n",
        "    train_history.append(train_loss)\n",
        "    valid_history.append(valid_loss)\n",
        "    print(f'Epoch: {epoch+1:02} | Time: {epoch_mins}m {epoch_secs}s')\n",
        "    print(f'\\tTrain Loss: {train_loss:.3f} | Train PPL: {np.exp(train_loss):7.3f}')\n",
        "    print(f'\\t Val. Loss: {valid_loss:.3f} |  Val. PPL: {np.exp(valid_loss):7.3f}')"
      ],
      "metadata": {
        "colab": {
          "base_uri": "https://localhost:8080/",
          "height": 784
        },
        "id": "1PHoDqimmrtg",
        "outputId": "3602a1fb-b4fd-45a6-e675-2f35b6e76dbd"
      },
      "execution_count": 206,
      "outputs": [
        {
          "output_type": "display_data",
          "data": {
            "text/plain": [
              "<Figure size 1200x800 with 2 Axes>"
            ],
            "image/png": "[encoded data removed]"
          },
          "metadata": {}
        },
        {
          "output_type": "stream",
          "name": "stdout",
          "text": [
            "Epoch: 01 | Time: 6m 23s\n",
            "\tTrain Loss: 4.358 | Train PPL:  78.115\n",
            "\t Val. Loss: 7.199 |  Val. PPL: 1337.814\n"
          ]
        }
      ]
    },
    {
      "cell_type": "code",
      "source": [
        "test_loss = evaluate(model, test_loader, criterion)\n",
        "print('Test loss:', test_loss)"
      ],
      "metadata": {
        "colab": {
          "base_uri": "https://localhost:8080/"
        },
        "id": "-ctULnGiK67I",
        "outputId": "82a0d568-9687-415a-d7b5-0b803fb35012"
      },
      "execution_count": 207,
      "outputs": [
        {
          "output_type": "stream",
          "name": "stdout",
          "text": [
            "Test loss: 7.196735607950311\n"
          ]
        }
      ]
    },
    {
      "cell_type": "code",
      "source": [
        "batch = next(iter(train_loader))"
      ],
      "metadata": {
        "id": "b9rpjCZA1uXr"
      },
      "execution_count": 208,
      "outputs": []
    },
    {
      "cell_type": "code",
      "source": [
        "for idx in [1,2]:\n",
        "    src = batch[0]\n",
        "    trg = batch[1][idx:idx+1, :]\n",
        "    output = model(src.to(device)).argmax(dim=-1).detach().cpu().numpy()[idx:idx+1, :]\n",
        "    print(output)"
      ],
      "metadata": {
        "colab": {
          "base_uri": "https://localhost:8080/"
        },
        "id": "AY5q4Czx1xK9",
        "outputId": "3ed8262b-47a2-4d07-e777-5e2ee37a8e36"
      },
      "execution_count": 209,
      "outputs": [
        {
          "output_type": "stream",
          "name": "stdout",
          "text": [
            "[[ 67   0   0   0  40  10 198  32  10 241  20   2  20   2  20   2   5 157\n",
            "   20   2  20   2  20   2  20   2  20   2  20   2  20   2  20   2  20   2\n",
            "   20   2  20   2  20   2  20   2  20   2  20   2  20]]\n",
            "[[ 67 551 233   5  10 183  12  13 159  16  67 160   9 396   0   5  10  85\n",
            "   12  13 159  16  67 160  20   2 164  16  67 160  20   2  20   2 164  16\n",
            "   67 160  20   2 233   5   2  20   2 164  15  20   2]]\n"
          ]
        }
      ]
    },
    {
      "cell_type": "code",
      "source": [
        "from nltk.translate.bleu_score import corpus_bleu\n",
        "import tqdm"
      ],
      "metadata": {
        "id": "0WpCrrju3t6p"
      },
      "execution_count": 210,
      "outputs": []
    },
    {
      "cell_type": "code",
      "source": [
        "# Translate test data and get model translations\n",
        "translated_sentences = []\n",
        "target_sentences = []\n",
        "\n",
        "for batch in tqdm.tqdm(test_loader):\n",
        "    src = batch[0].to(device)\n",
        "    trg = batch[1].to(device)\n",
        "    model.eval()\n",
        "    with torch.no_grad():\n",
        "        # Assuming your model returns token indices\n",
        "        translated_indices = model(src).argmax(dim=-1)\n",
        "        translated_indices = translated_indices.detach().cpu().tolist()\n",
        "\n",
        "        for indices in translated_indices:\n",
        "            tmp = []\n",
        "            for idx in indices:\n",
        "                if idx == UNK_IDX or idx > 3:\n",
        "                    tmp.append(english_vocab.lookup_token(idx))\n",
        "                elif idx == EOS_IDX:\n",
        "                    break\n",
        "            translated_sentences.append(tmp)\n",
        "\n",
        "        trg_indices = trg.detach().cpu().tolist()\n",
        "        for indices in trg_indices:\n",
        "            tmp = []\n",
        "            for idx in indices:\n",
        "                if idx == UNK_IDX or idx > 3:\n",
        "                    tmp.append(english_vocab.lookup_token(idx))\n",
        "                elif idx == EOS_IDX:\n",
        "                    break\n",
        "            target_sentences.append(tmp)\n"
      ],
      "metadata": {
        "id": "68YIh55fJWGm",
        "colab": {
          "base_uri": "https://localhost:8080/"
        },
        "outputId": "e380f16b-7ed5-4a08-a291-7eb882c2f7eb"
      },
      "execution_count": 211,
      "outputs": [
        {
          "output_type": "stream",
          "name": "stderr",
          "text": [
            "100%|██████████| 19/19 [00:06<00:00,  3.04it/s]\n"
          ]
        }
      ]
    },
    {
      "cell_type": "code",
      "source": [
        "# Calculate BLEU score\n",
        "bleu_score = corpus_bleu([[text] for text in target_sentences], translated_sentences) * 100\n",
        "print(\"BLEU Score:\", bleu_score)"
      ],
      "metadata": {
        "colab": {
          "base_uri": "https://localhost:8080/"
        },
        "id": "JdW3tl4oJSrr",
        "outputId": "1caa4fa4-61e8-41c2-9569-ebf2918cd721"
      },
      "execution_count": 212,
      "outputs": [
        {
          "output_type": "stream",
          "name": "stdout",
          "text": [
            "BLEU Score: 8.531907886489227\n"
          ]
        }
      ]
    },
    {
      "cell_type": "code",
      "source": [
        "print(translated_sentences[0])\n",
        "print(translated_sentences[1])\n",
        "print(translated_sentences[2])"
      ],
      "metadata": {
        "colab": {
          "base_uri": "https://localhost:8080/"
        },
        "id": "bLSpgTKl-P_x",
        "outputId": "6ba0f03d-6c70-4ead-9bf8-78f6c6fd3d42"
      },
      "execution_count": 63,
      "outputs": [
        {
          "output_type": "stream",
          "name": "stdout",
          "text": [
            "['the', '<UNK>', '<UNK>', 'is', 'located', 'in', 'the', '<UNK>', ',', '<UNK>', '<UNK>', 'offers', 'a', 'private', 'bathroom', 'with', 'a', 'terrace', 'and', 'a', 'terrace', '.']\n",
            "['the', 'nearest', 'airport', 'is', 'a', '5', '-', 'minute', 'drive', 'from', 'the', 'property', ',', 'while', '<UNK>', 'is', '1', 'km', 'away', '.']\n",
            "['the', 'property', 'offers', 'a', 'private', 'bathroom', 'with', 'a', 'shower', 'and', 'a', 'hairdryer', '.']\n"
          ]
        }
      ]
    },
    {
      "cell_type": "code",
      "source": [
        "print(target_sentences[0])\n",
        "print(target_sentences[1])\n",
        "print(target_sentences[2])"
      ],
      "metadata": {
        "colab": {
          "base_uri": "https://localhost:8080/"
        },
        "id": "Y_rwBibx-Z3Y",
        "outputId": "d00ac7f1-7ab2-445e-cc3a-3561376e1a20"
      },
      "execution_count": 64,
      "outputs": [
        {
          "output_type": "stream",
          "name": "stdout",
          "text": [
            "['located', 'in', 'budva', ',', 'about', '1', 'km', 'from', 'the', '<UNK>', 'beach', ',', 'apartment', '<UNK>', 'offers', 'a', 'furnished', 'terrace', 'with', 'barbecue', 'facilities', 'and', 'free', 'wi', '-', 'fi', 'access', '.']\n",
            "['the', 'paje', 'kite', 'beach', 'is', '3', 'km', 'from', 'the', 'hotel', 'and', 'zanzibar', 'international', 'airport', 'is', '45', 'minutes', '’', 'drive', 'away', '.']\n",
            "['towels', 'and', 'bed', 'linen', 'are', 'offered', 'at', '<UNK>', '.']\n"
          ]
        }
      ]
    },
    {
      "cell_type": "code",
      "source": [
        "for i in range(20):\n",
        "    print(translated_sentences[i])"
      ],
      "metadata": {
        "colab": {
          "base_uri": "https://localhost:8080/"
        },
        "id": "3qyIyuJbU2Ef",
        "outputId": "c69baaf2-f6c1-4d94-c8df-08edb3a5f5df"
      },
      "execution_count": 169,
      "outputs": [
        {
          "output_type": "stream",
          "name": "stdout",
          "text": [
            "['located', 'in', 'the', 'heart', 'of', '<UNK>', ',', '<UNK>', '<UNK>', 'offers', 'self', '-', 'catering', 'accommodation', 'with', 'free', 'wifi', '.']\n",
            "['the', 'nearest', 'airport', 'is', 'located', 'in', 'the', 'heart', 'of', '<UNK>', ',', 'while', 'the', 'property', 'is', '1', '.', '5', 'km', 'from', 'the', 'property', '.']\n",
            "['guests', 'can', 'enjoy', 'a', 'terrace', 'and', 'a', 'terrace', '.']\n",
            "['the', 'property', 'is', 'a', '10', '-', 'minute', 'walk', 'from', 'the', 'property', '.']\n",
            "['guests', 'can', 'enjoy', 'a', 'terrace', ',', 'a', 'fitness', 'centre', ',', 'the', '<UNK>', '<UNK>', '<UNK>', 'also', 'offers', 'a', 'terrace', '.']\n",
            "['each', 'room', 'at', 'the', 'hotel', 'has', 'a', 'flat', '-', 'screen', 'tv', '.']\n",
            "['the', 'property', 'offers', 'free', 'parking', 'and', 'a', 'terrace', '.']\n",
            "['each', 'room', 'at', 'the', 'hotel', 'has', 'a', 'flat', '-', 'screen', 'tv', '.']\n",
            "['the', 'kitchen', 'comes', 'with', 'a', 'dishwasher', 'and', 'a', 'hairdryer', '.']\n",
            "['each', 'room', 'at', '<UNK>', 'hotel', 'has', 'a', 'flat', '-', 'screen', 'tv', ',', 'a', 'flat', '-', 'screen', 'tv', 'and', 'a', 'private', 'bathroom', '.']\n",
            "['the', 'rooms', 'feature', 'a', 'balcony', 'or', 'balcony', '.']\n",
            "['the', '<UNK>', 'is', 'a', '10', '-', 'minute', 'drive', 'from', 'the', '<UNK>', ',', 'while', 'the', '<UNK>', 'is', 'a', '10', '-', 'minute', 'drive', 'away', '.']\n",
            "['the', 'rooms', 'feature', 'a', 'balcony', '.']\n",
            "['the', 'private', 'bathroom', 'comes', 'with', 'a', 'shower', ',', 'a', 'bath', 'or', 'shower', '.']\n",
            "['the', 'apartment', 'features', 'a', 'flat', '-', 'screen', 'tv', 'and', 'a', 'flat', '-', 'screen', 'tv', '.']\n",
            "['the', '<UNK>', 'is', 'a', '10', '-', 'minute', 'drive', 'away', '.']\n",
            "['located', 'in', 'the', 'heart', 'of', 'the', 'heart', 'of', '<UNK>', ',', 'this', 'hotel', 'offers', 'a', 'large', 'outdoor', 'pool', 'and', 'a', 'terrace', 'with', 'a', 'terrace', 'with', 'a', 'terrace', '.']\n",
            "['guests', 'can', 'enjoy', 'a', 'shared', 'lounge', ',', 'a', 'shared', 'lounge', 'and', 'a', 'private', 'bathroom', 'with', 'a', 'bath', 'or', 'shower', '.']\n",
            "['it', 'offers', 'a', 'garden', 'with', 'a', 'terrace', 'with', 'a', 'terrace', 'with', 'a', 'balcony', 'with', 'a', 'balcony', 'and', 'a', 'terrace', 'with', 'free', 'wi', '-', 'fi', '.']\n",
            "['a', 'continental', 'breakfast', 'is', 'available', '.']\n"
          ]
        }
      ]
    },
    {
      "cell_type": "code",
      "source": [
        "for i in range(20):\n",
        "    print(target_sentences[i])"
      ],
      "metadata": {
        "id": "Wn6wBcXZ3LgA",
        "colab": {
          "base_uri": "https://localhost:8080/"
        },
        "outputId": "64502084-303b-4ca3-9a8c-e0664e74fa18"
      },
      "execution_count": 149,
      "outputs": [
        {
          "output_type": "stream",
          "name": "stdout",
          "text": [
            "['located', 'in', 'budva', ',', 'about', '1', 'km', 'from', 'the', '<UNK>', 'beach', ',', 'apartment', '<UNK>', 'offers', 'a', 'furnished', 'terrace', 'with', 'barbecue', 'facilities', 'and', 'free', 'wi', '-', 'fi', 'access', '.']\n",
            "['the', 'paje', 'kite', 'beach', 'is', '3', 'km', 'from', 'the', 'hotel', 'and', 'zanzibar', 'international', 'airport', 'is', '45', 'minutes', '’', 'drive', 'away', '.']\n",
            "['towels', 'and', 'bed', 'linen', 'are', 'offered', 'at', '<UNK>', '.']\n",
            "['the', 'property', 'boasts', 'views', 'of', 'the', 'city', 'and', 'is', '1', 'km', 'from', 'pompidou', 'centre', '.']\n",
            "['each', 'morning', ',', 'guests', 'can', 'enjoy', 'a', 'traditional', 'turkish', 'breakfast', 'under', 'the', '<UNK>', 'on', 'the', '<UNK>', 'terrace', '.']\n",
            "['all', 'rooms', 'offer', 'a', 'tv', 'with', 'satellite', 'channels', '.']\n",
            "['guests', 'have', 'access', 'to', 'a', 'shared', 'swimming', 'pool', 'and', 'a', 'car', 'park', '.']\n",
            "['rooms', 'here', 'feature', 'a', 'tv', 'with', 'cable', 'channels', '.']\n",
            "['the', 'kitchenette', 'is', 'equipped', 'with', 'an', 'oven', '.']\n",
            "['the', 'air', '-', 'conditioned', 'units', 'at', 'hotel', '<UNK>', '<UNK>', 'feature', 'a', 'flat', '-', 'screen', 'tv', ',', 'a', 'minibar', 'and', 'a', 'safety', 'deposit', 'box', '.']\n",
            "['each', 'room', 'features', 'either', 'garden', 'or', 'street', 'view', '.']\n",
            "['flamengo', 'beach', 'is', '15', 'minutes', '’', 'drive', 'from', 'the', 'homestay', ',', 'and', 'salvador', 'shopping', 'mall', 'is', '18', 'minutes', '’', 'drive', 'away', '.']\n",
            "['most', 'have', 'a', 'balcony', '.']\n",
            "['en', 'suite', 'bathrooms', 'have', 'hot', 'shower', 'facilities', '.']\n",
            "['apartments', 'at', 'this', 'family', '-', 'run', 'working', 'farm', 'come', 'with', 'a', 'fully', 'equipped', 'kitchenette', 'and', 'a', 'satellite', 'tv', 'with', 'dvd', 'player', '.']\n",
            "['the', 'beach', 'in', '<UNK>', 'is', '15', 'minutes', \"'\", 'drive', 'away', '.']\n",
            "['offering', 'a', 'free', 'exclusive', 'spa', 'and', 'à', 'la', 'carte', 'restaurant', ',', 'hotel', 'aurora', '&', 'del', '<UNK>', 'is', '100', 'metres', 'from', 'santa', '<UNK>', 'terme', '’', 's', 'thermal', 'baths', '.']\n",
            "['the', 'fully', 'equipped', 'kitchen', 'include', 'a', 'dishwasher', 'and', 'a', 'washing', 'machine', '.']\n",
            "['the', 'hotel', 'has', 'an', 'outdoor', 'pool', ',', 'and', 'a', 'terrace', 'with', 'extensive', 'sea', 'views', '.', 'all', 'rooms', 'have', 'air', 'conditioning', 'and', 'free', 'wi', '-', 'fi', '.']\n",
            "['bbq', 'facilities', 'are', 'available', '.']\n"
          ]
        }
      ]
    },
    {
      "cell_type": "code",
      "source": [
        "def sentence2tokens(sentence, lang='en'):\n",
        "    return wordpunct_tokenize(sentence.lower())\n",
        "\n",
        "def tokens2indices(tokens, lang='en'):\n",
        "    if lang == 'en':\n",
        "        vocab = english_vocab\n",
        "    elif lang == 'ru':\n",
        "        vocab = russian_vocab\n",
        "\n",
        "    return [vocab['<SOS>']] + [vocab.lookup_indices(tokens)] + [vocab['<EOS>']]\n",
        "\n",
        "def indices2tensor(indices, lang='en'):\n",
        "    return torch.tensor(indices, dtype=torch.long).view(1, -1)\n",
        "\n",
        "def indices2tokens(indices, lang='en', remove_specials=True):\n",
        "    if lang == 'en':\n",
        "        vocab = english_vocab\n",
        "    elif lang == 'ru':\n",
        "        vocab = russian_vocab\n",
        "\n",
        "    tokens = []\n",
        "    if remove_specials:\n",
        "        for idx in indices:\n",
        "            if idx == UNK_IDX or idx > 3:\n",
        "                tokens.append(english_vocab.lookup_token(idx))\n",
        "            elif idx == EOS_IDX:\n",
        "                break\n",
        "        return tokens\n",
        "    else:\n",
        "        return vocab.lookup_tokens(indices)\n",
        "\n",
        "def tokens2sentence(tokens, lang='en'):\n",
        "    return \"\".join(tokens)\n",
        "\n",
        "def translate_tensor_to_tensor(model, input):\n",
        "    input = input.unsqueeze(1)\n",
        "    model.eval()\n",
        "    with torch.no_grad():\n",
        "        input = input.to(device)\n",
        "        return model(input).argmax(dim=-1)\n",
        "\n",
        "def translate_indices_to_indices(model, indices):\n",
        "    input = indices2tensor(indices)\n",
        "    return translate_tensor_to_tensor(model, input).detach().cpu().tolist()\n",
        "\n",
        "def translate_tokens_to_tokens(tokens):\n",
        "    indices = tokens2indices(tokens, lang='ru')\n",
        "    translated_indices = translate_indices_to_indices(indices)\n",
        "    return indices2tokens(translated_indices, lang='en')\n",
        "\n",
        "def translate_tensor_to_tokens(model, input):\n",
        "    indices = translate_tensor_to_tensor(model, input).detach().cpu().tolist()[0]\n",
        "    return indices2tokens(indices)\n",
        "\n",
        "\n",
        "def translate_batch(model, input):\n",
        "    pass"
      ],
      "metadata": {
        "id": "Y227kHZt30kj"
      },
      "execution_count": 224,
      "outputs": []
    },
    {
      "cell_type": "code",
      "source": [
        "tnp = translate_tensor_to_tokens(model, batch[0][:, 0])"
      ],
      "metadata": {
        "id": "my9o_Goo4iC6"
      },
      "execution_count": 225,
      "outputs": []
    },
    {
      "cell_type": "code",
      "source": [
        "for i in range(20):\n",
        "    print(tnp[i])"
      ],
      "metadata": {
        "colab": {
          "base_uri": "https://localhost:8080/"
        },
        "id": "SaVKtDKg48xx",
        "outputId": "fa65284d-263d-4d93-cfa5-c77e23931683"
      },
      "execution_count": 226,
      "outputs": [
        {
          "output_type": "stream",
          "name": "stdout",
          "text": [
            "die\n",
            "die\n",
            "die\n",
            "die\n",
            "die\n",
            "die\n",
            "die\n",
            "die\n",
            "die\n",
            "die\n",
            "die\n",
            "die\n",
            "die\n",
            "die\n",
            "die\n",
            "die\n",
            "die\n",
            "die\n",
            "die\n",
            "die\n"
          ]
        }
      ]
    },
    {
      "cell_type": "code",
      "source": [
        "src = indices2tokens(batch[0].tolist(), lang='ru')\n",
        "tgt = indices2tokens(batch[1].tolist())"
      ],
      "metadata": {
        "id": "expUHjsD6suk"
      },
      "execution_count": 180,
      "outputs": []
    },
    {
      "cell_type": "code",
      "source": [
        "for i in range(10):\n",
        "    print(src[i])\n",
        "    print(tgt[i])\n",
        "    print('\\n----------------\\n')"
      ],
      "metadata": {
        "colab": {
          "base_uri": "https://localhost:8080/"
        },
        "id": "xqocvDENQX2Y",
        "outputId": "2bc70f71-1dcf-4a34-fbce-921a75ae0af7"
      },
      "execution_count": 181,
      "outputs": [
        {
          "output_type": "stream",
          "name": "stdout",
          "text": [
            "['<SOS>', 'кроме', 'того', ',', 'гости', 'могут', 'пользоваться', 'помещениями', 'для', 'проведения', 'конференций', ',', 'факсом', 'и', 'услугами', 'ксерокопирования', '.', '<EOS>', '<PAD>', '<PAD>', '<PAD>', '<PAD>', '<PAD>', '<PAD>', '<PAD>', '<PAD>', '<PAD>', '<PAD>', '<PAD>', '<PAD>', '<PAD>', '<PAD>', '<PAD>', '<PAD>', '<PAD>', '<PAD>', '<PAD>', '<PAD>', '<PAD>', '<PAD>', '<PAD>', '<PAD>', '<PAD>', '<PAD>', '<PAD>', '<PAD>', '<PAD>', '<PAD>', '<PAD>', '<PAD>']\n",
            "['<SOS>', 'in', 'addition', ',', 'guests', 'can', 'also', 'make', 'use', 'of', 'the', 'meeting', 'facilities', 'and', 'fax', '/', 'photocopying', '.', '<EOS>', '<PAD>', '<PAD>', '<PAD>', '<PAD>', '<PAD>', '<PAD>', '<PAD>', '<PAD>', '<PAD>', '<PAD>', '<PAD>', '<PAD>', '<PAD>', '<PAD>', '<PAD>', '<PAD>', '<PAD>', '<PAD>', '<PAD>', '<PAD>', '<PAD>', '<PAD>', '<PAD>', '<PAD>', '<PAD>', '<PAD>', '<PAD>', '<PAD>', '<PAD>', '<PAD>', '<PAD>']\n",
            "\n",
            "----------------\n",
            "\n",
            "['<SOS>', 'международный', 'аэропорт', 'тбилиси', 'находится', 'в', '140', 'км', 'от', 'отеля', '.', '<EOS>', '<PAD>', '<PAD>', '<PAD>', '<PAD>', '<PAD>', '<PAD>', '<PAD>', '<PAD>', '<PAD>', '<PAD>', '<PAD>', '<PAD>', '<PAD>', '<PAD>', '<PAD>', '<PAD>', '<PAD>', '<PAD>', '<PAD>', '<PAD>', '<PAD>', '<PAD>', '<PAD>', '<PAD>', '<PAD>', '<PAD>', '<PAD>', '<PAD>', '<PAD>', '<PAD>', '<PAD>', '<PAD>', '<PAD>', '<PAD>', '<PAD>', '<PAD>', '<PAD>', '<PAD>']\n",
            "['<SOS>', 'tbilisi', 'international', 'airport', 'is', '140', 'km', 'away', '.', '<EOS>', '<PAD>', '<PAD>', '<PAD>', '<PAD>', '<PAD>', '<PAD>', '<PAD>', '<PAD>', '<PAD>', '<PAD>', '<PAD>', '<PAD>', '<PAD>', '<PAD>', '<PAD>', '<PAD>', '<PAD>', '<PAD>', '<PAD>', '<PAD>', '<PAD>', '<PAD>', '<PAD>', '<PAD>', '<PAD>', '<PAD>', '<PAD>', '<PAD>', '<PAD>', '<PAD>', '<PAD>', '<PAD>', '<PAD>', '<PAD>', '<PAD>', '<PAD>', '<PAD>', '<PAD>', '<PAD>', '<PAD>']\n",
            "\n",
            "----------------\n",
            "\n",
            "['<SOS>', 'светлые', 'современные', 'апартаменты', 'состоят', 'из', '2', 'комнат', '.', 'в', 'числе', 'удобств', '—', 'гостиная', 'зона', 'с', 'диваном', ',', 'телевизор', 'с', 'высокой', 'четкостью', 'изображения', ',', 'полностью', 'оборудованная', 'кухня', 'и', 'балкон', '.', '<EOS>', '<PAD>', '<PAD>', '<PAD>', '<PAD>', '<PAD>', '<PAD>', '<PAD>', '<PAD>', '<PAD>', '<PAD>', '<PAD>', '<PAD>', '<PAD>', '<PAD>', '<PAD>', '<PAD>', '<PAD>', '<PAD>', '<PAD>']\n",
            "['<SOS>', 'the', 'bright', 'and', 'modern', 'apartments', 'consist', 'of', '2', 'rooms', 'and', 'include', 'a', 'living', 'area', 'with', 'a', 'sofa', ',', 'hd', 'tv', ',', 'a', 'fully', 'equipped', 'kitchen', 'and', 'a', 'balcony', '.', '<EOS>', '<PAD>', '<PAD>', '<PAD>', '<PAD>', '<PAD>', '<PAD>', '<PAD>', '<PAD>', '<PAD>', '<PAD>', '<PAD>', '<PAD>', '<PAD>', '<PAD>', '<PAD>', '<PAD>', '<PAD>', '<PAD>', '<PAD>']\n",
            "\n",
            "----------------\n",
            "\n",
            "['<SOS>', 'гостевой', 'дом', 'mandala', 'village', 'со', 'спа', '-', 'центром', 'и', 'гидромассажной', 'ванной', 'расположен', 'в', 'поселке', '<UNK>', 'на', 'острове', 'бали', ',', 'в', '2', ',', '9', 'км', 'от', 'бара', 'rock', '.', '<EOS>', '<PAD>', '<PAD>', '<PAD>', '<PAD>', '<PAD>', '<PAD>', '<PAD>', '<PAD>', '<PAD>', '<PAD>', '<PAD>', '<PAD>', '<PAD>', '<PAD>', '<PAD>', '<PAD>', '<PAD>', '<PAD>', '<PAD>', '<PAD>']\n",
            "['<SOS>', 'offering', 'a', 'spa', 'centre', 'and', 'hot', 'tub', ',', 'mandala', 'village', 'is', 'set', 'in', 'jimbaran', 'in', 'the', 'bali', 'region', ',', '2', '.', '9', 'km', 'from', 'the', 'rock', 'bar', '.', '<EOS>', '<PAD>', '<PAD>', '<PAD>', '<PAD>', '<PAD>', '<PAD>', '<PAD>', '<PAD>', '<PAD>', '<PAD>', '<PAD>', '<PAD>', '<PAD>', '<PAD>', '<PAD>', '<PAD>', '<PAD>', '<PAD>', '<PAD>', '<PAD>']\n",
            "\n",
            "----------------\n",
            "\n",
            "['<SOS>', 'в', 'отеле', '<UNK>', 'имеется', 'стильный', 'лаунж', 'со', 'стойкой', 'для', 'регистрации', 'и', 'лобби', '-', 'баром', ',', 'ресторан', 'с', 'зоной', 'для', 'некурящих', ',', '<UNK>', 'кафе', ',', 'бильярд', '-', 'бар', 'и', 'ночной', 'клуб', '.', '<EOS>', '<PAD>', '<PAD>', '<PAD>', '<PAD>', '<PAD>', '<PAD>', '<PAD>', '<PAD>', '<PAD>', '<PAD>', '<PAD>', '<PAD>', '<PAD>', '<PAD>', '<PAD>', '<PAD>', '<PAD>']\n",
            "['<SOS>', '<UNK>', 'boasts', 'a', 'stylish', 'lounge', 'with', 'a', 'reception', 'desk', 'and', 'lobby', 'bar', ',', 'a', 'restaurant', 'with', 'non', '-', 'smoking', 'area', ',', 'a', 'viennese', 'café', ',', 'a', 'billiard', 'bar', 'and', 'a', 'night', 'club', '.', '<EOS>', '<PAD>', '<PAD>', '<PAD>', '<PAD>', '<PAD>', '<PAD>', '<PAD>', '<PAD>', '<PAD>', '<PAD>', '<PAD>', '<PAD>', '<PAD>', '<PAD>', '<PAD>']\n",
            "\n",
            "----------------\n",
            "\n",
            "['<SOS>', 'каждый', 'номер', 'в', 'отеле', 'sport', 'оснащен', 'телевизором', 'с', 'кабельными', 'каналами', '.', 'в', 'собственной', 'ванной', 'комнате', 'можно', 'принять', 'душ', '.', '<EOS>', '<PAD>', '<PAD>', '<PAD>', '<PAD>', '<PAD>', '<PAD>', '<PAD>', '<PAD>', '<PAD>', '<PAD>', '<PAD>', '<PAD>', '<PAD>', '<PAD>', '<PAD>', '<PAD>', '<PAD>', '<PAD>', '<PAD>', '<PAD>', '<PAD>', '<PAD>', '<PAD>', '<PAD>', '<PAD>', '<PAD>', '<PAD>', '<PAD>', '<PAD>']\n",
            "['<SOS>', 'each', 'room', 'at', 'sport', 'hotel', 'comes', 'with', 'a', 'tv', 'with', 'cable', 'channels', 'and', 'a', 'private', 'bathroom', 'with', 'a', 'shower', '.', '<EOS>', '<PAD>', '<PAD>', '<PAD>', '<PAD>', '<PAD>', '<PAD>', '<PAD>', '<PAD>', '<PAD>', '<PAD>', '<PAD>', '<PAD>', '<PAD>', '<PAD>', '<PAD>', '<PAD>', '<PAD>', '<PAD>', '<PAD>', '<PAD>', '<PAD>', '<PAD>', '<PAD>', '<PAD>', '<PAD>', '<PAD>', '<PAD>', '<PAD>']\n",
            "\n",
            "----------------\n",
            "\n",
            "['<SOS>', 'кроме', 'того', ',', 'гостям', 'предоставляется', 'бесплатная', 'парковка', '.', '<EOS>', '<PAD>', '<PAD>', '<PAD>', '<PAD>', '<PAD>', '<PAD>', '<PAD>', '<PAD>', '<PAD>', '<PAD>', '<PAD>', '<PAD>', '<PAD>', '<PAD>', '<PAD>', '<PAD>', '<PAD>', '<PAD>', '<PAD>', '<PAD>', '<PAD>', '<PAD>', '<PAD>', '<PAD>', '<PAD>', '<PAD>', '<PAD>', '<PAD>', '<PAD>', '<PAD>', '<PAD>', '<PAD>', '<PAD>', '<PAD>', '<PAD>', '<PAD>', '<PAD>', '<PAD>', '<PAD>', '<PAD>']\n",
            "['<SOS>', 'this', 'property', 'offers', 'free', 'parking', '.', '<EOS>', '<PAD>', '<PAD>', '<PAD>', '<PAD>', '<PAD>', '<PAD>', '<PAD>', '<PAD>', '<PAD>', '<PAD>', '<PAD>', '<PAD>', '<PAD>', '<PAD>', '<PAD>', '<PAD>', '<PAD>', '<PAD>', '<PAD>', '<PAD>', '<PAD>', '<PAD>', '<PAD>', '<PAD>', '<PAD>', '<PAD>', '<PAD>', '<PAD>', '<PAD>', '<PAD>', '<PAD>', '<PAD>', '<PAD>', '<PAD>', '<PAD>', '<PAD>', '<PAD>', '<PAD>', '<PAD>', '<PAD>', '<PAD>', '<PAD>']\n",
            "\n",
            "----------------\n",
            "\n",
            "['<SOS>', 'в', 'каждом', 'номере', 'имеется', 'собственная', 'ванная', 'комната', 'с', 'феном', '.', '<EOS>', '<PAD>', '<PAD>', '<PAD>', '<PAD>', '<PAD>', '<PAD>', '<PAD>', '<PAD>', '<PAD>', '<PAD>', '<PAD>', '<PAD>', '<PAD>', '<PAD>', '<PAD>', '<PAD>', '<PAD>', '<PAD>', '<PAD>', '<PAD>', '<PAD>', '<PAD>', '<PAD>', '<PAD>', '<PAD>', '<PAD>', '<PAD>', '<PAD>', '<PAD>', '<PAD>', '<PAD>', '<PAD>', '<PAD>', '<PAD>', '<PAD>', '<PAD>', '<PAD>', '<PAD>']\n",
            "['<SOS>', 'each', 'room', 'has', 'a', 'private', 'bathroom', 'with', 'a', 'hairdryer', '.', '<EOS>', '<PAD>', '<PAD>', '<PAD>', '<PAD>', '<PAD>', '<PAD>', '<PAD>', '<PAD>', '<PAD>', '<PAD>', '<PAD>', '<PAD>', '<PAD>', '<PAD>', '<PAD>', '<PAD>', '<PAD>', '<PAD>', '<PAD>', '<PAD>', '<PAD>', '<PAD>', '<PAD>', '<PAD>', '<PAD>', '<PAD>', '<PAD>', '<PAD>', '<PAD>', '<PAD>', '<PAD>', '<PAD>', '<PAD>', '<PAD>', '<PAD>', '<PAD>', '<PAD>', '<PAD>']\n",
            "\n",
            "----------------\n",
            "\n",
            "['<SOS>', 'вилла', 'с', 'кондиционером', 'располагает', 'номерами', 'с', 'видом', 'на', 'горы', 'и', 'бассейн', '.', '<EOS>', '<PAD>', '<PAD>', '<PAD>', '<PAD>', '<PAD>', '<PAD>', '<PAD>', '<PAD>', '<PAD>', '<PAD>', '<PAD>', '<PAD>', '<PAD>', '<PAD>', '<PAD>', '<PAD>', '<PAD>', '<PAD>', '<PAD>', '<PAD>', '<PAD>', '<PAD>', '<PAD>', '<PAD>', '<PAD>', '<PAD>', '<PAD>', '<PAD>', '<PAD>', '<PAD>', '<PAD>', '<PAD>', '<PAD>', '<PAD>', '<PAD>', '<PAD>']\n",
            "['<SOS>', 'the', 'air', '-', 'conditioned', 'villa', 'has', 'rooms', 'with', 'mountain', 'and', 'pool', 'views', '.', '<EOS>', '<PAD>', '<PAD>', '<PAD>', '<PAD>', '<PAD>', '<PAD>', '<PAD>', '<PAD>', '<PAD>', '<PAD>', '<PAD>', '<PAD>', '<PAD>', '<PAD>', '<PAD>', '<PAD>', '<PAD>', '<PAD>', '<PAD>', '<PAD>', '<PAD>', '<PAD>', '<PAD>', '<PAD>', '<PAD>', '<PAD>', '<PAD>', '<PAD>', '<PAD>', '<PAD>', '<PAD>', '<PAD>', '<PAD>', '<PAD>', '<PAD>']\n",
            "\n",
            "----------------\n",
            "\n",
            "['<SOS>', 'к', 'услугам', 'гостей', 'бесплатный', 'wi', '-', 'fi', 'во', 'всем', 'отеле', '.', '<EOS>', '<PAD>', '<PAD>', '<PAD>', '<PAD>', '<PAD>', '<PAD>', '<PAD>', '<PAD>', '<PAD>', '<PAD>', '<PAD>', '<PAD>', '<PAD>', '<PAD>', '<PAD>', '<PAD>', '<PAD>', '<PAD>', '<PAD>', '<PAD>', '<PAD>', '<PAD>', '<PAD>', '<PAD>', '<PAD>', '<PAD>', '<PAD>', '<PAD>', '<PAD>', '<PAD>', '<PAD>', '<PAD>', '<PAD>', '<PAD>', '<PAD>', '<PAD>', '<PAD>']\n",
            "['<SOS>', 'free', 'wi', '-', 'fi', 'is', 'available', 'throughout', 'the', 'entire', 'hotel', '.', '<EOS>', '<PAD>', '<PAD>', '<PAD>', '<PAD>', '<PAD>', '<PAD>', '<PAD>', '<PAD>', '<PAD>', '<PAD>', '<PAD>', '<PAD>', '<PAD>', '<PAD>', '<PAD>', '<PAD>', '<PAD>', '<PAD>', '<PAD>', '<PAD>', '<PAD>', '<PAD>', '<PAD>', '<PAD>', '<PAD>', '<PAD>', '<PAD>', '<PAD>', '<PAD>', '<PAD>', '<PAD>', '<PAD>', '<PAD>', '<PAD>', '<PAD>', '<PAD>', '<PAD>']\n",
            "\n",
            "----------------\n",
            "\n"
          ]
        }
      ]
    },
    {
      "cell_type": "code",
      "source": [
        "crit_tmp = nn.CrossEntropyLoss()"
      ],
      "metadata": {
        "id": "KNorcuz-QwN-"
      },
      "execution_count": 81,
      "outputs": []
    },
    {
      "cell_type": "code",
      "source": [
        "src = batch[0].to(device)\n",
        "trg = batch[1].to(device)\n",
        "\n",
        "output = model(src)\n",
        "\n",
        "output = output.view(-1, output.shape[-1])\n",
        "trg_output = trg[:, 1:].reshape(-1)\n",
        "\n",
        "loss = criterion(output, trg_output)"
      ],
      "metadata": {
        "id": "42jKFL71RYqG"
      },
      "execution_count": 85,
      "outputs": []
    },
    {
      "cell_type": "code",
      "source": [
        "print(loss)"
      ],
      "metadata": {
        "colab": {
          "base_uri": "https://localhost:8080/"
        },
        "id": "5lqiqCiVRqwE",
        "outputId": "be7d9b3a-0a95-4863-e380-3e816005b566"
      },
      "execution_count": 86,
      "outputs": [
        {
          "output_type": "stream",
          "name": "stdout",
          "text": [
            "tensor(2.9075, device='cuda:0', grad_fn=<NllLossBackward0>)\n"
          ]
        }
      ]
    },
    {
      "cell_type": "code",
      "source": [],
      "metadata": {
        "id": "tTZC6yoMpKBm"
      },
      "execution_count": null,
      "outputs": []
    },
    {
      "cell_type": "markdown",
      "source": [
        "# Arcive"
      ],
      "metadata": {
        "id": "jyc1ONyEpL9U"
      }
    },
    {
      "cell_type": "code",
      "source": [
        "def indeces_from_sentence(sentence, lang='en'):\n",
        "    if lang == 'en':\n",
        "        vocab = english_vocab\n",
        "    elif lang == 'ru':\n",
        "        vocab = russian_vocab\n",
        "\n",
        "    return vocab.lookup_indeces(tokens)\n",
        "\n",
        "def tensor_from_sentence(sentence, lang='en'):\n",
        "    if lang == 'en':\n",
        "        vocab = english_vocab\n",
        "    elif lang == 'ru':\n",
        "        vocab = russian_vocab\n",
        "\n",
        "    indeces = [vocab['<SOS>']] + indeces_from_sentence(sentence, lang) + [vocab['<EOS>']]\n",
        "    return torch.tensor(indeces, dtype=torch.long).view(1, -1)\n",
        "\n",
        "\n",
        "def tensor_from_tokens(tokens, lang='en'):\n",
        "    if lang == 'en':\n",
        "        vocab = english_vocab\n",
        "    elif lang == 'ru':\n",
        "        vocab = russian_vocab\n",
        "\n",
        "    indeces = [vocab['<SOS>']] + vocab.lookup_indeces(tokens) + [vocab['<EOS>']]\n",
        "    return torch.tensor(indeces, dtype=torch.long).view(1, -1)\n",
        "\n",
        "def tensor_from_indeces(indeces):\n",
        "    torch.tensor(indeces, dtype=torch.long).view(1, -1)\n",
        "\n",
        "\n",
        "def translate_sentence_to_indeces(model, input):\n",
        "    input = tensorFromSentence(input, lang='ru')\n",
        "\n",
        "    model.eval()\n",
        "    with torch.no_grad():\n",
        "        input = input.to(device)\n",
        "\n",
        "        # Assuming your model returns token indices\n",
        "        raw_indices = model(input).argmax(dim=-1)\n",
        "        raw_indices = raw_indices.detach().cpu().tolist()\n",
        "        translated_indices = []\n",
        "        for idx in raw_indices:\n",
        "            or idx in indices:\n",
        "                if idx == UNK_IDX or idx > 3:\n",
        "                    translated_indices.append(english_vocab.lookup_token(idx))\n",
        "                elif idx == EOS_IDX:\n",
        "                    break\n",
        "    return translated_indices\n",
        "\n",
        "\n",
        "def translate_tokens_to_tokens(model, tokens):\n",
        "\n",
        "\n",
        "def translate_sentence_to_tokens(model, sentence):\n",
        "    indeces = translate_sentence_to_indeces(model, sentence)\n",
        "    return indices2tokens(indeces)\n",
        "\n",
        "def translate_sentence_to_sentence(model, sentence):\n",
        "    indeces = translate_sentence_to_indeces(model, sentence)\n",
        "    tokens = indices2tokens(indeces)\n",
        "    return tokens2sentence(tokens)"
      ],
      "metadata": {
        "id": "HqHgdS2qpJua"
      },
      "execution_count": null,
      "outputs": []
    }
  ]
}