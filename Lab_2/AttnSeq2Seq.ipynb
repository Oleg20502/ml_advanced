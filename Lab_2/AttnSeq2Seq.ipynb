{
 "cells": [
  {
   "cell_type": "code",
   "execution_count": null,
   "metadata": {
    "id": "YInXp-Pe4vXg"
   },
   "outputs": [],
   "source": [
    "# You might need to install the libraries below. Do it in the desired environment\n",
    "# if you are working locally.\n",
    "\n",
    "# ! pip  install subword-nmt\n",
    "# !pip install nltk\n",
    "# !pip install torchtext"
   ]
  },
  {
   "cell_type": "code",
   "execution_count": 1,
   "metadata": {
    "colab": {
     "base_uri": "https://localhost:8080/"
    },
    "id": "d7amcejp4TSu",
    "outputId": "92d10931-e050-4c45-852f-9488283a990d"
   },
   "outputs": [],
   "source": [
    "import os\n",
    "# path_to_data = '../../datasets/Machine_translation_EN_RU/data.txt'\n",
    "# if not os.path.exists(path_to_data):\n",
    "#     print(\"Dataset not found locally. Downloading from github.\")\n",
    "#     !wget https://raw.githubusercontent.com/neychev/made_nlp_course/master/datasets/Machine_translation_EN_RU/data.txt -nc\n",
    "#     path_to_data = './data.txt'"
   ]
  },
  {
   "cell_type": "code",
   "execution_count": 2,
   "metadata": {},
   "outputs": [],
   "source": [
    "path_to_data = './data.txt'"
   ]
  },
  {
   "cell_type": "code",
   "execution_count": 223,
   "metadata": {
    "id": "ZsnlfZMt41xW"
   },
   "outputs": [],
   "source": [
    "import torch\n",
    "import torch.nn as nn\n",
    "import torch.optim as optim\n",
    "import torch.optim.lr_scheduler as lr_scheduler\n",
    "import torch.nn.functional as F\n",
    "\n",
    "import torchtext\n",
    "from torch.utils.data import Dataset, DataLoader\n",
    "from torch.nn.utils.rnn import pad_sequence\n",
    "from collections import Counter\n",
    "from torchtext.vocab import vocab\n",
    "from nltk.tokenize import wordpunct_tokenize\n",
    "\n",
    "import numpy as np\n",
    "import pandas as pd\n",
    "import time\n",
    "\n",
    "import matplotlib\n",
    "matplotlib.rcParams.update({'figure.figsize': (16, 12), 'font.size': 14})\n",
    "import matplotlib.pyplot as plt\n",
    "%matplotlib inline\n",
    "from IPython.display import clear_output"
   ]
  },
  {
   "cell_type": "code",
   "execution_count": 4,
   "metadata": {
    "id": "qkzARkdCTbla"
   },
   "outputs": [],
   "source": [
    "# Step 1: Read the dataset file and parse it\n",
    "def read_dataset(file_path):\n",
    "    with open(file_path, 'r') as file:\n",
    "        lines = file.readlines()\n",
    "    english_sentences = []\n",
    "    russian_sentences = []\n",
    "    for line in lines:\n",
    "        english, russian = line.strip().split('\\t')\n",
    "        english_sentences.append(english)\n",
    "        russian_sentences.append(russian)\n",
    "    return english_sentences, russian_sentences\n",
    "\n",
    "english_sentences, russian_sentences = read_dataset(path_to_data)\n",
    "\n",
    "# Step 2: Tokenize the sentences\n",
    "def tokenize_sentences(sentences):\n",
    "    tokenized_sentences = [wordpunct_tokenize(sentence.lower()) for sentence in sentences]\n",
    "    return tokenized_sentences\n",
    "\n",
    "english_tokenized = tokenize_sentences(english_sentences)\n",
    "russian_tokenized = tokenize_sentences(russian_sentences)"
   ]
  },
  {
   "cell_type": "code",
   "execution_count": 5,
   "metadata": {
    "colab": {
     "base_uri": "https://localhost:8080/"
    },
    "id": "ewApExlUckmP",
    "outputId": "c4ada98a-a8f4-434d-beda-bc65ae793bb1"
   },
   "outputs": [
    {
     "name": "stdout",
     "output_type": "stream",
     "text": [
      "50000\n",
      "Cordelia Hotel is situated in Tbilisi, a 3-minute walk away from Saint Trinity Church.\n"
     ]
    }
   ],
   "source": [
    "print(len(english_sentences))\n",
    "print(english_sentences[0])"
   ]
  },
  {
   "cell_type": "code",
   "execution_count": 6,
   "metadata": {
    "id": "FX--KkPPdh-z"
   },
   "outputs": [],
   "source": [
    "# Step 3: Create vocabulary mappings\n",
    "def build_vocab(tokenized_sentences):\n",
    "    counter = Counter()\n",
    "    for sentence in tokenized_sentences:\n",
    "        counter.update(sentence)\n",
    "    vocab = torchtext.vocab.vocab(counter, min_freq=3, specials=('<UNK>', '<SOS>', '<EOS>', '<PAD>'))\n",
    "    vocab.set_default_index(vocab[\"<UNK>\"])\n",
    "    return vocab\n",
    "\n",
    "english_vocab = build_vocab(english_tokenized)\n",
    "russian_vocab = build_vocab(russian_tokenized)"
   ]
  },
  {
   "cell_type": "code",
   "execution_count": 7,
   "metadata": {
    "id": "n6fUG2WSwwn6"
   },
   "outputs": [],
   "source": [
    "INPUT_DIM = len(russian_vocab)\n",
    "OUTPUT_DIM = len(english_vocab)\n",
    "PAD_IDX = english_vocab['<PAD>']\n",
    "SOS_IDX = english_vocab['<SOS>']\n",
    "EOS_IDX = english_vocab['<EOS>']\n",
    "UNK_IDX = english_vocab['<UNK>']"
   ]
  },
  {
   "cell_type": "code",
   "execution_count": 8,
   "metadata": {
    "colab": {
     "base_uri": "https://localhost:8080/"
    },
    "id": "__wdvr4cIRKg",
    "outputId": "19367ad2-d562-4334-c326-bc3121bd747d"
   },
   "outputs": [
    {
     "name": "stdout",
     "output_type": "stream",
     "text": [
      "7828\n",
      "10799\n"
     ]
    }
   ],
   "source": [
    "print(len(english_vocab))\n",
    "print(len(russian_vocab))"
   ]
  },
  {
   "cell_type": "code",
   "execution_count": 9,
   "metadata": {
    "id": "eWkNy6E3Hd9T"
   },
   "outputs": [],
   "source": [
    "# Step 4: Convert tokenized sentences into sequences of integer indices\n",
    "def sentence_to_indices(tokenized_sentences, vocab):\n",
    "    indices = [[vocab['<SOS>']] + [vocab[token] for token in sentence] + [vocab['<EOS>']] for sentence in tokenized_sentences]\n",
    "    return indices\n",
    "\n",
    "english_indices = sentence_to_indices(english_tokenized, english_vocab)\n",
    "russian_indices = sentence_to_indices(russian_tokenized, russian_vocab)"
   ]
  },
  {
   "cell_type": "code",
   "execution_count": 10,
   "metadata": {
    "id": "8vRz2il2lXNM"
   },
   "outputs": [],
   "source": [
    "MAX_SEQUENCE_LENGTH = 50\n",
    "BATCH_SIZE = 128"
   ]
  },
  {
   "cell_type": "code",
   "execution_count": 11,
   "metadata": {
    "id": "hf98kRLuLxlx"
   },
   "outputs": [],
   "source": [
    "# Step 5: Pad sequences to a fixed length\n",
    "def pad_sequences(indices, max_length, padding_idx):\n",
    "    padded_indices = [sentence[:max_length] + [padding_idx] * (max_length - len(sentence)) for sentence in indices]\n",
    "    return torch.tensor(padded_indices)\n",
    "\n",
    "english_padding_idx = english_vocab['<PAD>']\n",
    "russian_padding_idx = russian_vocab['<PAD>']\n",
    "english_padded = pad_sequences(english_indices, MAX_SEQUENCE_LENGTH, english_padding_idx)\n",
    "russian_padded = pad_sequences(russian_indices, MAX_SEQUENCE_LENGTH, russian_padding_idx)"
   ]
  },
  {
   "cell_type": "code",
   "execution_count": 12,
   "metadata": {
    "id": "hhWR5zGvci1A"
   },
   "outputs": [],
   "source": [
    "# Step 6: Split the dataset into training and validation sets\n",
    "dataset = list(zip(russian_padded, english_padded))\n",
    "train_size = int(0.8 * len(dataset))\n",
    "val_size = int(0.15 * len(dataset))\n",
    "test_size = len(dataset) - train_size - val_size\n",
    "train_data, val_data, test_data = torch.utils.data.random_split(dataset, [train_size, val_size, test_size])\n",
    "\n",
    "train_loader = DataLoader(train_data, batch_size=BATCH_SIZE, shuffle=True, drop_last=True)\n",
    "val_loader = DataLoader(val_data, batch_size=BATCH_SIZE, shuffle=False, drop_last=True)\n",
    "test_loader = DataLoader(test_data, batch_size=BATCH_SIZE, shuffle=False, drop_last=True)"
   ]
  },
  {
   "cell_type": "code",
   "execution_count": 279,
   "metadata": {
    "id": "GxDcXdezlXkR"
   },
   "outputs": [],
   "source": [
    "class Encoder(nn.Module):\n",
    "    def __init__(self, input_size, embedding_size, hidden_size, n_layers=1, dropout_p=0.1):\n",
    "        super(Encoder, self).__init__()\n",
    "        self.hidden_size = hidden_size\n",
    "\n",
    "        self.embedding = nn.Embedding(input_size, embedding_size)\n",
    "        self.rnn = nn.GRU(embedding_size, hidden_size, batch_first=True,\n",
    "                          num_layers=n_layers, dropout=dropout_p)\n",
    "        self.dropout = nn.Dropout(dropout_p)\n",
    "\n",
    "    def forward(self, input):\n",
    "        embedded = self.embedding(input)\n",
    "        embedded = self.dropout(embedded)\n",
    "        output, hidden = self.rnn(embedded)\n",
    "        return output, hidden"
   ]
  },
  {
   "cell_type": "code",
   "execution_count": 280,
   "metadata": {
    "id": "7QYO58MBpc9F"
   },
   "outputs": [],
   "source": [
    "class Attention(nn.Module):\n",
    "    def __init__(self, hidden_size):\n",
    "        super(Attention, self).__init__()\n",
    "        self.Wa = nn.Linear(hidden_size, hidden_size)\n",
    "        self.Ua = nn.Linear(hidden_size, hidden_size)\n",
    "        self.Va = nn.Linear(hidden_size, 1)\n",
    "\n",
    "    def forward(self, query, keys):\n",
    "        query = query.unsqueeze(0).permute(1, 0, 2)\n",
    "        scores = self.Va(torch.tanh(self.Wa(query) + self.Ua(keys)))\n",
    "        scores = scores.squeeze(2).unsqueeze(1)\n",
    "        weights = F.softmax(scores, dim=-1)\n",
    "        context = torch.bmm(weights, keys)\n",
    "        return context"
   ]
  },
  {
   "cell_type": "code",
   "execution_count": 281,
   "metadata": {
    "id": "NaNimz_Cltcs"
   },
   "outputs": [],
   "source": [
    "class AttnDecoder(nn.Module):\n",
    "    def __init__(self, input_size, embedding_size, hidden_size, output_size, n_layers=1, dropout_p=0.1):\n",
    "        super(AttnDecoder, self).__init__()\n",
    "        self.input_size = input_size\n",
    "        self.hidden_size = hidden_size\n",
    "\n",
    "        self.embedding = nn.Embedding(input_size, embedding_size)\n",
    "        self.attention = Attention(hidden_size)\n",
    "        self.rnn = nn.GRU(embedding_size + hidden_size, hidden_size, batch_first=True,\n",
    "                          num_layers=n_layers, dropout=dropout_p)\n",
    "        self.dropout = nn.Dropout(dropout_p)\n",
    "        self.out = nn.Linear(hidden_size, output_size)\n",
    "\n",
    "    def forward(self, input, hidden, encoder_outputs):\n",
    "        embedded = self.embedding(input)\n",
    "        embedded = self.dropout(embedded)\n",
    "        context = self.attention(hidden[-1], encoder_outputs)\n",
    "        input = torch.cat((embedded, context), dim=2)\n",
    "        output, hidden = self.rnn(input, hidden)\n",
    "        output = self.out(output)\n",
    "        return output, hidden"
   ]
  },
  {
   "cell_type": "code",
   "execution_count": 282,
   "metadata": {
    "id": "ryyu-JhJ3JDI"
   },
   "outputs": [],
   "source": [
    "class AttnSeq2Seq(nn.Module):\n",
    "    def __init__(self, encoder, decoder, device):\n",
    "        super(AttnSeq2Seq, self).__init__()\n",
    "        self.encoder = encoder\n",
    "        self.decoder = decoder\n",
    "\n",
    "        self.device = device\n",
    "\n",
    "    def forward(self, input, target_tensor=None):\n",
    "        encoder_outputs, encoder_hidden = self.encoder(input)\n",
    "\n",
    "        seq_length = MAX_SEQUENCE_LENGTH\n",
    "        if target_tensor is not None:\n",
    "            seq_length = target_tensor.shape[1]\n",
    "\n",
    "        decoder_input = torch.empty(input.shape[0], 1, dtype=torch.long, device=device).fill_(SOS_IDX)\n",
    "        decoder_hidden = encoder_hidden\n",
    "        decoder_outputs = []\n",
    "\n",
    "        for i in range(1, seq_length):\n",
    "            decoder_output, decoder_hidden = self.decoder(decoder_input, decoder_hidden, encoder_outputs)\n",
    "            decoder_outputs.append(decoder_output)\n",
    "\n",
    "            if target_tensor is not None:\n",
    "                decoder_input = target_tensor[:, i].unsqueeze(1) # Teacher forcing\n",
    "            else:\n",
    "                _, topi = decoder_output.topk(1)\n",
    "                decoder_input = topi.squeeze(-1).detach()  # detach from history as input\n",
    "\n",
    "        decoder_outputs = torch.cat(decoder_outputs, dim=1)\n",
    "        return decoder_outputs"
   ]
  },
  {
   "cell_type": "code",
   "execution_count": 278,
   "metadata": {
    "id": "KLucxG_-Z_W1"
   },
   "outputs": [],
   "source": [
    "ENC_EMB_DIM = 256\n",
    "DEC_EMB_DIM = 256\n",
    "ENC_HID_DIM = 512\n",
    "DEC_HID_DIM = 512\n",
    "N_LAYERS = 1\n",
    "ENC_DROPOUT = 0.5\n",
    "DEC_DROPOUT = 0.5\n",
    "\n",
    "lr = 0.001"
   ]
  },
  {
   "cell_type": "code",
   "execution_count": 283,
   "metadata": {
    "colab": {
     "base_uri": "https://localhost:8080/"
    },
    "id": "j8oQkBDDbiEU",
    "outputId": "52814d3b-5a5e-40e2-c9b5-d97fe75cdc59"
   },
   "outputs": [
    {
     "name": "stdout",
     "output_type": "stream",
     "text": [
      "cuda\n"
     ]
    }
   ],
   "source": [
    "device = torch.device('cuda' if torch.cuda.is_available() else 'cpu')\n",
    "print(device)\n",
    "\n",
    "encoder = Encoder(INPUT_DIM, ENC_EMB_DIM, ENC_HID_DIM, N_LAYERS, ENC_DROPOUT)\n",
    "decoder = AttnDecoder(OUTPUT_DIM, DEC_EMB_DIM, DEC_HID_DIM, OUTPUT_DIM, N_LAYERS, DEC_DROPOUT)\n",
    "\n",
    "model = AttnSeq2Seq(encoder, decoder, device).to(device)"
   ]
  },
  {
   "cell_type": "code",
   "execution_count": 284,
   "metadata": {
    "id": "HwIyVoInC1ww"
   },
   "outputs": [],
   "source": [
    "optimizer = optim.Adam(model.parameters(), lr=lr)\n",
    "criterion = nn.CrossEntropyLoss(ignore_index=PAD_IDX)"
   ]
  },
  {
   "cell_type": "code",
   "execution_count": 285,
   "metadata": {
    "id": "MMlNKoi8FPrf"
   },
   "outputs": [],
   "source": [
    "def train(model, iterator, optimizer, criterion, clip, n_show = 50):\n",
    "    model.train()\n",
    "\n",
    "    epoch_loss = 0\n",
    "    I_val = []\n",
    "    epoch_history = []\n",
    "    val_history = []\n",
    "    nf_val_history = []\n",
    "    bleu_scores = []\n",
    "    \n",
    "    for i, batch in tqdm.tqdm(enumerate(iterator)):\n",
    "        src = batch[0].to(device)\n",
    "        trg = batch[1].to(device)\n",
    "\n",
    "        optimizer.zero_grad()\n",
    "\n",
    "        output = model(src, trg)\n",
    "        output = output.view(-1, output.shape[-1])\n",
    "        trg_output = trg[:, 1:].reshape(-1)\n",
    "\n",
    "        loss = criterion(output, trg_output)\n",
    "        loss.backward()\n",
    "        \n",
    "        # Let's clip the gradient\n",
    "        torch.nn.utils.clip_grad_norm_(model.parameters(), clip)\n",
    "        optimizer.step()\n",
    "\n",
    "        epoch_loss += loss.item()\n",
    "\n",
    "        epoch_history.append(loss.detach().cpu().data.numpy())\n",
    "        \n",
    "        if (i+1) % n_show == 0:\n",
    "            I_val.append(i)\n",
    "            val_history.append(evaluate(model, val_loader, criterion))\n",
    "            \n",
    "            bleu_score, _1, _2 = calc_bleu(model, val_loader)\n",
    "            bleu_scores.append(bleu_score)\n",
    "            \n",
    "            model.train()\n",
    "            \n",
    "            fig, ax = plt.subplots(nrows=1, ncols=2, figsize=(12, 5))\n",
    "    \n",
    "            line_11, = ax[0].plot(epoch_history, label='train loss')\n",
    "            line_12, = ax[0].plot(I_val, val_history, label='val loss')\n",
    "            # line_13, = ax[0].plot(I_val, nf_val_history, label='no force val loss')\n",
    "            ax[0].set_xlabel('Batch')\n",
    "            ax[0].set_title('Loss')\n",
    "            ax[0].legend()\n",
    "            \n",
    "            line_21, = ax[1].plot(I_val, bleu_scores, label='Validation BLEU')\n",
    "            ax[1].set_xlabel('Batch')\n",
    "            ax[1].set_title('BLEU')            \n",
    "            ax[1].legend()\n",
    "            \n",
    "            clear_output(True)\n",
    "            plt.show()\n",
    "\n",
    "    return epoch_loss / len(iterator)"
   ]
  },
  {
   "cell_type": "code",
   "execution_count": 286,
   "metadata": {
    "id": "jaCyNytNnAza"
   },
   "outputs": [],
   "source": [
    "def evaluate(model, iterator, criterion, if_force=True):\n",
    "\n",
    "    model.eval()\n",
    "\n",
    "    epoch_loss = 0\n",
    "\n",
    "    history = []\n",
    "\n",
    "    with torch.no_grad():\n",
    "\n",
    "        for i, batch in enumerate(iterator):\n",
    "\n",
    "            src = batch[0].to(device)\n",
    "            trg = batch[1].to(device)\n",
    "            \n",
    "            if if_force:\n",
    "                output = model(src, trg)\n",
    "            else:\n",
    "                output = model(src)\n",
    "\n",
    "            output = output.view(-1, output.shape[-1])\n",
    "            trg_output = trg[:, 1:].reshape(-1)\n",
    "\n",
    "            loss = criterion(output, trg_output)\n",
    "\n",
    "            epoch_loss += loss.item()\n",
    "    return epoch_loss / len(iterator)"
   ]
  },
  {
   "cell_type": "code",
   "execution_count": 287,
   "metadata": {
    "id": "KHEertghmb73"
   },
   "outputs": [],
   "source": [
    "def epoch_time(start_time, end_time):\n",
    "    elapsed_time = end_time - start_time\n",
    "    elapsed_mins = int(elapsed_time / 60)\n",
    "    elapsed_secs = int(elapsed_time - (elapsed_mins * 60))\n",
    "    return elapsed_mins, elapsed_secs"
   ]
  },
  {
   "cell_type": "code",
   "execution_count": 288,
   "metadata": {
    "id": "nIheFRY5mjRp"
   },
   "outputs": [],
   "source": [
    "n_show = 50\n",
    "N_EPOCHS = 10\n",
    "CLIP = 1.0\n",
    "\n",
    "scheduler = lr_scheduler.StepLR(optimizer, step_size=1, gamma=0.77)\n",
    "\n",
    "best_valid_loss = float('inf')\n",
    "\n",
    "train_history = []\n",
    "valid_history = []\n",
    "bleu_scores = []"
   ]
  },
  {
   "cell_type": "code",
   "execution_count": 289,
   "metadata": {
    "colab": {
     "base_uri": "https://localhost:8080/",
     "height": 784
    },
    "id": "1PHoDqimmrtg",
    "outputId": "3602a1fb-b4fd-45a6-e675-2f35b6e76dbd"
   },
   "outputs": [
    {
     "data": {
      "image/png": "[encoded data removed]",
      "text/plain": [
       "<Figure size 1200x500 with 2 Axes>"
      ]
     },
     "metadata": {},
     "output_type": "display_data"
    },
    {
     "name": "stderr",
     "output_type": "stream",
     "text": [
      "312it [00:46,  6.67it/s]\n"
     ]
    },
    {
     "name": "stdout",
     "output_type": "stream",
     "text": [
      "Epoch: 10 | Time: 0m 50s\n",
      "\tTrain Loss: 1.796 | Train PPL:   6.026\n",
      "\t Val. Loss: 2.083 |  Val. PPL:   8.027\n"
     ]
    },
    {
     "data": {
      "image/png": "[encoded data removed]",
      "text/plain": [
       "<Figure size 1200x500 with 2 Axes>"
      ]
     },
     "metadata": {},
     "output_type": "display_data"
    }
   ],
   "source": [
    "for epoch in range(N_EPOCHS):\n",
    "\n",
    "    start_time = time.time()\n",
    "\n",
    "    train_loss = train(model, train_loader, optimizer, criterion, CLIP, n_show)\n",
    "    valid_loss = evaluate(model, val_loader, criterion)\n",
    "    bleu_score, _1, _2 = calc_bleu(model, val_loader)\n",
    "    scheduler.step()\n",
    "    \n",
    "\n",
    "    end_time = time.time()\n",
    "    epoch_mins, epoch_secs = epoch_time(start_time, end_time)\n",
    "\n",
    "    if valid_loss < best_valid_loss:\n",
    "        best_valid_loss = valid_loss\n",
    "        torch.save(model.state_dict(), 'tut1-model.pt')\n",
    "\n",
    "    train_history.append(train_loss)\n",
    "    valid_history.append(valid_loss)\n",
    "    bleu_scores.append(bleu_score)\n",
    "    \n",
    "    print(f'Epoch: {epoch+1:02} | Time: {epoch_mins}m {epoch_secs}s')\n",
    "    print(f'\\tTrain Loss: {train_loss:.3f} | Train PPL: {np.exp(train_loss):7.3f}')\n",
    "    print(f'\\t Val. Loss: {valid_loss:.3f} |  Val. PPL: {np.exp(valid_loss):7.3f}')\n",
    "\n",
    "\n",
    "fig, ax = plt.subplots(nrows=1, ncols=2, figsize=(12, 5))\n",
    "ax[0].plot(train_history, label='Train history')\n",
    "ax[0].plot(valid_history, label='Validation history')\n",
    "ax[0].set_xlabel('# of epoch')\n",
    "ax[0].set_title('Loss')\n",
    "ax[0].legend()\n",
    "\n",
    "ax[1].plot(bleu_scores, label='Validation BLEU')\n",
    "ax[1].set_xlabel('# of epoch')\n",
    "ax[1].set_title('BLEU')\n",
    "plt.legend()\n",
    "\n",
    "plt.show()"
   ]
  },
  {
   "cell_type": "code",
   "execution_count": 290,
   "metadata": {
    "colab": {
     "base_uri": "https://localhost:8080/"
    },
    "id": "-ctULnGiK67I",
    "outputId": "82a0d568-9687-415a-d7b5-0b803fb35012"
   },
   "outputs": [
    {
     "name": "stdout",
     "output_type": "stream",
     "text": [
      "Test loss: 2.102634856575414\n"
     ]
    }
   ],
   "source": [
    "test_loss = evaluate(model, test_loader, criterion)\n",
    "print('Test loss:', test_loss)"
   ]
  },
  {
   "cell_type": "code",
   "execution_count": 291,
   "metadata": {
    "id": "0WpCrrju3t6p"
   },
   "outputs": [],
   "source": [
    "from nltk.translate.bleu_score import corpus_bleu\n",
    "import tqdm"
   ]
  },
  {
   "cell_type": "code",
   "execution_count": 292,
   "metadata": {
    "colab": {
     "base_uri": "https://localhost:8080/"
    },
    "id": "68YIh55fJWGm",
    "outputId": "e380f16b-7ed5-4a08-a291-7eb882c2f7eb"
   },
   "outputs": [],
   "source": [
    "# Translate test data and get model translations\n",
    "def calc_bleu(model, loader):\n",
    "    translated_sentences = []\n",
    "    target_sentences = []\n",
    "\n",
    "    for batch in loader:\n",
    "        src = batch[0].to(device)\n",
    "        trg = batch[1].to(device)\n",
    "        model.eval()\n",
    "        with torch.no_grad():\n",
    "            # Assuming your model returns token indices\n",
    "            translated_indices = model(src).argmax(dim=-1)\n",
    "            translated_indices = translated_indices.detach().cpu().tolist()\n",
    "\n",
    "            for indices in translated_indices:\n",
    "                tmp = []\n",
    "                for idx in indices:\n",
    "                    if idx == UNK_IDX or idx > 3:\n",
    "                        tmp.append(english_vocab.lookup_token(idx))\n",
    "                    elif idx == EOS_IDX:\n",
    "                        break\n",
    "                translated_sentences.append(tmp)\n",
    "\n",
    "            trg_indices = trg.detach().cpu().tolist()\n",
    "            for indices in trg_indices:\n",
    "                tmp = []\n",
    "                for idx in indices:\n",
    "                    if idx == UNK_IDX or idx > 3:\n",
    "                        tmp.append(english_vocab.lookup_token(idx))\n",
    "                    elif idx == EOS_IDX:\n",
    "                        break\n",
    "                target_sentences.append(tmp)\n",
    "    bleu_score = corpus_bleu([[text] for text in target_sentences], translated_sentences) * 100\n",
    "    return bleu_score, translated_sentences, target_sentences"
   ]
  },
  {
   "cell_type": "code",
   "execution_count": 293,
   "metadata": {
    "colab": {
     "base_uri": "https://localhost:8080/"
    },
    "id": "JdW3tl4oJSrr",
    "outputId": "1caa4fa4-61e8-41c2-9569-ebf2918cd721"
   },
   "outputs": [
    {
     "name": "stdout",
     "output_type": "stream",
     "text": [
      "BLEU Score: 25.414799054500243\n"
     ]
    }
   ],
   "source": [
    "# Calculate BLEU score\n",
    "bleu_score, translated_sentences, target_sentences = calc_bleu(model, test_loader)\n",
    "print(\"BLEU Score:\", bleu_score)"
   ]
  },
  {
   "cell_type": "code",
   "execution_count": 296,
   "metadata": {
    "colab": {
     "base_uri": "https://localhost:8080/"
    },
    "id": "3qyIyuJbU2Ef",
    "outputId": "c69baaf2-f6c1-4d94-c8df-08edb3a5f5df"
   },
   "outputs": [
    {
     "name": "stdout",
     "output_type": "stream",
     "text": [
      "['free', 'wifi', 'access', 'is', 'available', '.']\n",
      "['free', 'wifi', 'access', 'is', 'available', '.']\n",
      "---------------\n",
      "['the', 'nearest', 'beach', 'is', '1', '.', '3', 'km', 'away', ',', 'while', 'the', 'nearest', 'supermarket', 'is', 'located', 'in', 'the', 'vicinity', '.']\n",
      "['it', 'offers', 'accommodation', '1', '.', '3', 'km', 'from', 'a', 'beach', ',', 'accessible', 'through', 'a', 'pine', 'forest', '.']\n",
      "---------------\n",
      "['the', 'hotel', 'is', 'a', '10', '-', 'minute', 'drive', 'from', '<UNK>', '.']\n",
      "['the', 'hotel', 'is', 'a', '10', '-', 'minute', 'drive', 'to', '<UNK>', 'cape', '.']\n",
      "---------------\n",
      "['the', 'property', 'offers', 'free', 'parking', '.']\n",
      "['the', 'property', 'offers', 'free', 'parking', '.']\n",
      "---------------\n",
      "['a', 'buffet', 'breakfast', 'is', 'served', 'every', 'morning', '.']\n",
      "['a', 'breakfast', 'buffet', 'is', 'served', 'at', 'the', 'guest', 'house', '.']\n",
      "---------------\n",
      "['the', 'air', '-', 'conditioned', 'apartments', 'at', '<UNK>', '<UNK>', 'come', 'with', 'a', 'satellite', 'tv', 'and', 'a', 'kitchenette', '.']\n",
      "['studios', 'and', 'apartments', 'at', '<UNK>', 'are', 'air', 'conditioned', 'and', 'come', 'with', 'a', 'satellite', 'tv', 'and', 'a', 'well', '-', 'equipped', 'kitchenette', '.']\n",
      "---------------\n",
      "['the', '2', '-', 'bedroom', 'house', 'includes', 'a', 'living', 'room', 'with', 'a', 'sofa', ',', 'a', 'fully', 'equipped', 'kitchen', ',', 'a', 'terrace', 'and', 'a', 'terrace', '.']\n",
      "['the', 'house', 'includes', '2', 'bedrooms', ',', 'a', 'living', 'room', 'with', 'a', 'tiled', 'stove', ',', 'a', 'fully', 'equipped', 'kitchen', 'and', 'a', 'terrace', '.']\n",
      "---------------\n",
      "['the', 'hotel', '’', 's', '<UNK>', 'and', 'business', 'centre', 'can', 'be', 'arranged', 'for', 'guests', 'to', 'use', 'the', 'business', 'centre', 'and', 'car', 'hire', '.']\n",
      "['facilities', 'at', 'the', '<UNK>', 'hotel', 'include', 'a', 'fitness', 'centre', 'and', 'car', 'rental', 'service', '.']\n",
      "---------------\n",
      "['there', 'is', 'a', 'kitchen', 'with', 'a', 'microwave', 'and', 'a', 'refrigerator', '.']\n",
      "['the', 'kitchen', 'is', 'fitted', 'with', 'a', 'microwave', 'and', 'a', 'fridge', '.']\n",
      "---------------\n",
      "['the', '<UNK>', 'and', 'the', '<UNK>', 'museum', ',', 'the', '<UNK>', 'museum', 'and', 'the', '<UNK>', 'museum', 'are', 'all', 'the', 'nearby', '.']\n",
      "['it', 'takes', '10', 'minutes', 'on', 'foot', 'from', 'the', 'hotel', 'to', 'fort', 'rotterdam', 'museum', ',', 'the', 'central', 'post', 'office', ',', 'and', 'various', 'shopping', 'outlets', '.']\n",
      "---------------\n"
     ]
    }
   ],
   "source": [
    "for i in range(10):\n",
    "    print(translated_sentences[i])\n",
    "    print(target_sentences[i])\n",
    "    print('---------------')"
   ]
  },
  {
   "cell_type": "code",
   "execution_count": 294,
   "metadata": {
    "id": "b9rpjCZA1uXr"
   },
   "outputs": [],
   "source": [
    "batch = next(iter(train_loader))"
   ]
  },
  {
   "cell_type": "code",
   "execution_count": 295,
   "metadata": {
    "colab": {
     "base_uri": "https://localhost:8080/"
    },
    "id": "AY5q4Czx1xK9",
    "outputId": "3ed8262b-47a2-4d07-e777-5e2ee37a8e36"
   },
   "outputs": [
    {
     "name": "stdout",
     "output_type": "stream",
     "text": [
      "[[  67    4    5  103  104   10 1036   62    0    9    0    9   32   10\n",
      "   429  198   20    2   20    2   20    2   20    2   20    2   20    2\n",
      "    20    2   20    2   20    2   20    2   20    2   20    2   20    2\n",
      "    20    2   20    2   20    2   20]]\n",
      "[[  67    4    5  472  122   16    0    0    9  396   67    0  327 3110\n",
      "     5  472  122   15   20    2   12    0    0    5  472  122   15   20\n",
      "     2   12    0    5  212  157   20    2   12    0    0    5  120    7\n",
      "    67    0   20    2   12    0    0]]\n"
     ]
    }
   ],
   "source": [
    "for idx in [1,2]:\n",
    "    src = batch[0]\n",
    "    trg = batch[1][idx:idx+1, :]\n",
    "    output = model(src.to(device)).argmax(dim=-1).detach().cpu().numpy()[idx:idx+1, :]\n",
    "    print(output)"
   ]
  },
  {
   "cell_type": "code",
   "execution_count": 97,
   "metadata": {
    "id": "Y227kHZt30kj"
   },
   "outputs": [],
   "source": [
    "def sentence2tokens(sentence, lang='en'):\n",
    "    return wordpunct_tokenize(sentence.lower())\n",
    "\n",
    "def tokens2indices(tokens, lang='en'):\n",
    "    if lang == 'en':\n",
    "        vocab = english_vocab\n",
    "    elif lang == 'ru':\n",
    "        vocab = russian_vocab\n",
    "\n",
    "    return [vocab['<SOS>']] + [vocab.lookup_indices(tokens)] + [vocab['<EOS>']]\n",
    "\n",
    "def indices2tensor(indices, lang='en'):\n",
    "    return torch.tensor(indices, dtype=torch.long).view(1, -1)\n",
    "\n",
    "def indices2tokens(indices, lang='en', remove_specials=True):\n",
    "    if lang == 'en':\n",
    "        vocab = english_vocab\n",
    "    elif lang == 'ru':\n",
    "        vocab = russian_vocab\n",
    "\n",
    "    tokens = []\n",
    "    if remove_specials:\n",
    "        for idx in indices:\n",
    "            if idx == UNK_IDX or idx > 3:\n",
    "                tokens.append(english_vocab.lookup_token(idx))\n",
    "            elif idx == EOS_IDX:\n",
    "                break\n",
    "        return tokens\n",
    "    else:\n",
    "        return vocab.lookup_tokens(indices)\n",
    "\n",
    "def tokens2sentence(tokens, lang='en'):\n",
    "    return \"\".join(tokens)\n",
    "\n",
    "def translate_tensor_to_tensor(model, input):\n",
    "    input = input.unsqueeze(1)\n",
    "    model.eval()\n",
    "    with torch.no_grad():\n",
    "        input = input.to(device)\n",
    "        return model(input).argmax(dim=-1)\n",
    "\n",
    "def translate_indices_to_indices(model, indices):\n",
    "    input = indices2tensor(indices)\n",
    "    return translate_tensor_to_tensor(model, input).detach().cpu().tolist()\n",
    "\n",
    "def translate_tokens_to_tokens(tokens):\n",
    "    indices = tokens2indices(tokens, lang='ru')\n",
    "    translated_indices = translate_indices_to_indices(indices)\n",
    "    return indices2tokens(translated_indices, lang='en')\n",
    "\n",
    "def translate_tensor_to_tokens(model, input):\n",
    "    indices = translate_tensor_to_tensor(model, input).detach().cpu().tolist()[0]\n",
    "    return indices2tokens(indices)\n",
    "\n",
    "\n",
    "def translate_batch(model, input):\n",
    "    pass"
   ]
  },
  {
   "cell_type": "code",
   "execution_count": 225,
   "metadata": {
    "id": "my9o_Goo4iC6"
   },
   "outputs": [],
   "source": [
    "tnp = translate_tensor_to_tokens(model, batch[0][:, 0])"
   ]
  },
  {
   "cell_type": "code",
   "execution_count": 226,
   "metadata": {
    "colab": {
     "base_uri": "https://localhost:8080/"
    },
    "collapsed": true,
    "id": "SaVKtDKg48xx",
    "jupyter": {
     "outputs_hidden": true
    },
    "outputId": "fa65284d-263d-4d93-cfa5-c77e23931683",
    "tags": []
   },
   "outputs": [
    {
     "name": "stdout",
     "output_type": "stream",
     "text": [
      "die\n",
      "die\n",
      "die\n",
      "die\n",
      "die\n",
      "die\n",
      "die\n",
      "die\n",
      "die\n",
      "die\n",
      "die\n",
      "die\n",
      "die\n",
      "die\n",
      "die\n",
      "die\n",
      "die\n",
      "die\n",
      "die\n",
      "die\n"
     ]
    }
   ],
   "source": [
    "for i in range(20):\n",
    "    print(tnp[i])"
   ]
  },
  {
   "cell_type": "code",
   "execution_count": 98,
   "metadata": {
    "collapsed": true,
    "id": "expUHjsD6suk",
    "jupyter": {
     "outputs_hidden": true
    },
    "tags": []
   },
   "outputs": [
    {
     "ename": "TypeError",
     "evalue": "'>' not supported between instances of 'list' and 'int'",
     "output_type": "error",
     "traceback": [
      "\u001b[0;31m---------------------------------------------------------------------------\u001b[0m",
      "\u001b[0;31mTypeError\u001b[0m                                 Traceback (most recent call last)",
      "\u001b[0;32m/tmp/ipykernel_63601/3610128139.py\u001b[0m in \u001b[0;36m<module>\u001b[0;34m\u001b[0m\n\u001b[0;32m----> 1\u001b[0;31m \u001b[0msrc\u001b[0m \u001b[0;34m=\u001b[0m \u001b[0mindices2tokens\u001b[0m\u001b[0;34m(\u001b[0m\u001b[0mbatch\u001b[0m\u001b[0;34m[\u001b[0m\u001b[0;36m0\u001b[0m\u001b[0;34m]\u001b[0m\u001b[0;34m.\u001b[0m\u001b[0mtolist\u001b[0m\u001b[0;34m(\u001b[0m\u001b[0;34m)\u001b[0m\u001b[0;34m,\u001b[0m \u001b[0mlang\u001b[0m\u001b[0;34m=\u001b[0m\u001b[0;34m'ru'\u001b[0m\u001b[0;34m)\u001b[0m\u001b[0;34m\u001b[0m\u001b[0;34m\u001b[0m\u001b[0m\n\u001b[0m\u001b[1;32m      2\u001b[0m \u001b[0mtgt\u001b[0m \u001b[0;34m=\u001b[0m \u001b[0mindices2tokens\u001b[0m\u001b[0;34m(\u001b[0m\u001b[0mbatch\u001b[0m\u001b[0;34m[\u001b[0m\u001b[0;36m1\u001b[0m\u001b[0;34m]\u001b[0m\u001b[0;34m.\u001b[0m\u001b[0mtolist\u001b[0m\u001b[0;34m(\u001b[0m\u001b[0;34m)\u001b[0m\u001b[0;34m)\u001b[0m\u001b[0;34m\u001b[0m\u001b[0;34m\u001b[0m\u001b[0m\n",
      "\u001b[0;32m/tmp/ipykernel_63601/3406447088.py\u001b[0m in \u001b[0;36mindices2tokens\u001b[0;34m(indices, lang, remove_specials)\u001b[0m\n\u001b[1;32m     22\u001b[0m     \u001b[0;32mif\u001b[0m \u001b[0mremove_specials\u001b[0m\u001b[0;34m:\u001b[0m\u001b[0;34m\u001b[0m\u001b[0;34m\u001b[0m\u001b[0m\n\u001b[1;32m     23\u001b[0m         \u001b[0;32mfor\u001b[0m \u001b[0midx\u001b[0m \u001b[0;32min\u001b[0m \u001b[0mindices\u001b[0m\u001b[0;34m:\u001b[0m\u001b[0;34m\u001b[0m\u001b[0;34m\u001b[0m\u001b[0m\n\u001b[0;32m---> 24\u001b[0;31m             \u001b[0;32mif\u001b[0m \u001b[0midx\u001b[0m \u001b[0;34m==\u001b[0m \u001b[0mUNK_IDX\u001b[0m \u001b[0;32mor\u001b[0m \u001b[0midx\u001b[0m \u001b[0;34m>\u001b[0m \u001b[0;36m3\u001b[0m\u001b[0;34m:\u001b[0m\u001b[0;34m\u001b[0m\u001b[0;34m\u001b[0m\u001b[0m\n\u001b[0m\u001b[1;32m     25\u001b[0m                 \u001b[0mtokens\u001b[0m\u001b[0;34m.\u001b[0m\u001b[0mappend\u001b[0m\u001b[0;34m(\u001b[0m\u001b[0menglish_vocab\u001b[0m\u001b[0;34m.\u001b[0m\u001b[0mlookup_token\u001b[0m\u001b[0;34m(\u001b[0m\u001b[0midx\u001b[0m\u001b[0;34m)\u001b[0m\u001b[0;34m)\u001b[0m\u001b[0;34m\u001b[0m\u001b[0;34m\u001b[0m\u001b[0m\n\u001b[1;32m     26\u001b[0m             \u001b[0;32melif\u001b[0m \u001b[0midx\u001b[0m \u001b[0;34m==\u001b[0m \u001b[0mEOS_IDX\u001b[0m\u001b[0;34m:\u001b[0m\u001b[0;34m\u001b[0m\u001b[0;34m\u001b[0m\u001b[0m\n",
      "\u001b[0;31mTypeError\u001b[0m: '>' not supported between instances of 'list' and 'int'"
     ]
    }
   ],
   "source": [
    "src = indices2tokens(batch[0].tolist(), lang='ru')\n",
    "tgt = indices2tokens(batch[1].tolist())"
   ]
  },
  {
   "cell_type": "code",
   "execution_count": 181,
   "metadata": {
    "colab": {
     "base_uri": "https://localhost:8080/"
    },
    "collapsed": true,
    "id": "xqocvDENQX2Y",
    "jupyter": {
     "outputs_hidden": true,
     "source_hidden": true
    },
    "outputId": "2bc70f71-1dcf-4a34-fbce-921a75ae0af7",
    "tags": []
   },
   "outputs": [
    {
     "name": "stdout",
     "output_type": "stream",
     "text": [
      "['<SOS>', 'кроме', 'того', ',', 'гости', 'могут', 'пользоваться', 'помещениями', 'для', 'проведения', 'конференций', ',', 'факсом', 'и', 'услугами', 'ксерокопирования', '.', '<EOS>', '<PAD>', '<PAD>', '<PAD>', '<PAD>', '<PAD>', '<PAD>', '<PAD>', '<PAD>', '<PAD>', '<PAD>', '<PAD>', '<PAD>', '<PAD>', '<PAD>', '<PAD>', '<PAD>', '<PAD>', '<PAD>', '<PAD>', '<PAD>', '<PAD>', '<PAD>', '<PAD>', '<PAD>', '<PAD>', '<PAD>', '<PAD>', '<PAD>', '<PAD>', '<PAD>', '<PAD>', '<PAD>']\n",
      "['<SOS>', 'in', 'addition', ',', 'guests', 'can', 'also', 'make', 'use', 'of', 'the', 'meeting', 'facilities', 'and', 'fax', '/', 'photocopying', '.', '<EOS>', '<PAD>', '<PAD>', '<PAD>', '<PAD>', '<PAD>', '<PAD>', '<PAD>', '<PAD>', '<PAD>', '<PAD>', '<PAD>', '<PAD>', '<PAD>', '<PAD>', '<PAD>', '<PAD>', '<PAD>', '<PAD>', '<PAD>', '<PAD>', '<PAD>', '<PAD>', '<PAD>', '<PAD>', '<PAD>', '<PAD>', '<PAD>', '<PAD>', '<PAD>', '<PAD>', '<PAD>']\n",
      "\n",
      "----------------\n",
      "\n",
      "['<SOS>', 'международный', 'аэропорт', 'тбилиси', 'находится', 'в', '140', 'км', 'от', 'отеля', '.', '<EOS>', '<PAD>', '<PAD>', '<PAD>', '<PAD>', '<PAD>', '<PAD>', '<PAD>', '<PAD>', '<PAD>', '<PAD>', '<PAD>', '<PAD>', '<PAD>', '<PAD>', '<PAD>', '<PAD>', '<PAD>', '<PAD>', '<PAD>', '<PAD>', '<PAD>', '<PAD>', '<PAD>', '<PAD>', '<PAD>', '<PAD>', '<PAD>', '<PAD>', '<PAD>', '<PAD>', '<PAD>', '<PAD>', '<PAD>', '<PAD>', '<PAD>', '<PAD>', '<PAD>', '<PAD>']\n",
      "['<SOS>', 'tbilisi', 'international', 'airport', 'is', '140', 'km', 'away', '.', '<EOS>', '<PAD>', '<PAD>', '<PAD>', '<PAD>', '<PAD>', '<PAD>', '<PAD>', '<PAD>', '<PAD>', '<PAD>', '<PAD>', '<PAD>', '<PAD>', '<PAD>', '<PAD>', '<PAD>', '<PAD>', '<PAD>', '<PAD>', '<PAD>', '<PAD>', '<PAD>', '<PAD>', '<PAD>', '<PAD>', '<PAD>', '<PAD>', '<PAD>', '<PAD>', '<PAD>', '<PAD>', '<PAD>', '<PAD>', '<PAD>', '<PAD>', '<PAD>', '<PAD>', '<PAD>', '<PAD>', '<PAD>']\n",
      "\n",
      "----------------\n",
      "\n",
      "['<SOS>', 'светлые', 'современные', 'апартаменты', 'состоят', 'из', '2', 'комнат', '.', 'в', 'числе', 'удобств', '—', 'гостиная', 'зона', 'с', 'диваном', ',', 'телевизор', 'с', 'высокой', 'четкостью', 'изображения', ',', 'полностью', 'оборудованная', 'кухня', 'и', 'балкон', '.', '<EOS>', '<PAD>', '<PAD>', '<PAD>', '<PAD>', '<PAD>', '<PAD>', '<PAD>', '<PAD>', '<PAD>', '<PAD>', '<PAD>', '<PAD>', '<PAD>', '<PAD>', '<PAD>', '<PAD>', '<PAD>', '<PAD>', '<PAD>']\n",
      "['<SOS>', 'the', 'bright', 'and', 'modern', 'apartments', 'consist', 'of', '2', 'rooms', 'and', 'include', 'a', 'living', 'area', 'with', 'a', 'sofa', ',', 'hd', 'tv', ',', 'a', 'fully', 'equipped', 'kitchen', 'and', 'a', 'balcony', '.', '<EOS>', '<PAD>', '<PAD>', '<PAD>', '<PAD>', '<PAD>', '<PAD>', '<PAD>', '<PAD>', '<PAD>', '<PAD>', '<PAD>', '<PAD>', '<PAD>', '<PAD>', '<PAD>', '<PAD>', '<PAD>', '<PAD>', '<PAD>']\n",
      "\n",
      "----------------\n",
      "\n",
      "['<SOS>', 'гостевой', 'дом', 'mandala', 'village', 'со', 'спа', '-', 'центром', 'и', 'гидромассажной', 'ванной', 'расположен', 'в', 'поселке', '<UNK>', 'на', 'острове', 'бали', ',', 'в', '2', ',', '9', 'км', 'от', 'бара', 'rock', '.', '<EOS>', '<PAD>', '<PAD>', '<PAD>', '<PAD>', '<PAD>', '<PAD>', '<PAD>', '<PAD>', '<PAD>', '<PAD>', '<PAD>', '<PAD>', '<PAD>', '<PAD>', '<PAD>', '<PAD>', '<PAD>', '<PAD>', '<PAD>', '<PAD>']\n",
      "['<SOS>', 'offering', 'a', 'spa', 'centre', 'and', 'hot', 'tub', ',', 'mandala', 'village', 'is', 'set', 'in', 'jimbaran', 'in', 'the', 'bali', 'region', ',', '2', '.', '9', 'km', 'from', 'the', 'rock', 'bar', '.', '<EOS>', '<PAD>', '<PAD>', '<PAD>', '<PAD>', '<PAD>', '<PAD>', '<PAD>', '<PAD>', '<PAD>', '<PAD>', '<PAD>', '<PAD>', '<PAD>', '<PAD>', '<PAD>', '<PAD>', '<PAD>', '<PAD>', '<PAD>', '<PAD>']\n",
      "\n",
      "----------------\n",
      "\n",
      "['<SOS>', 'в', 'отеле', '<UNK>', 'имеется', 'стильный', 'лаунж', 'со', 'стойкой', 'для', 'регистрации', 'и', 'лобби', '-', 'баром', ',', 'ресторан', 'с', 'зоной', 'для', 'некурящих', ',', '<UNK>', 'кафе', ',', 'бильярд', '-', 'бар', 'и', 'ночной', 'клуб', '.', '<EOS>', '<PAD>', '<PAD>', '<PAD>', '<PAD>', '<PAD>', '<PAD>', '<PAD>', '<PAD>', '<PAD>', '<PAD>', '<PAD>', '<PAD>', '<PAD>', '<PAD>', '<PAD>', '<PAD>', '<PAD>']\n",
      "['<SOS>', '<UNK>', 'boasts', 'a', 'stylish', 'lounge', 'with', 'a', 'reception', 'desk', 'and', 'lobby', 'bar', ',', 'a', 'restaurant', 'with', 'non', '-', 'smoking', 'area', ',', 'a', 'viennese', 'café', ',', 'a', 'billiard', 'bar', 'and', 'a', 'night', 'club', '.', '<EOS>', '<PAD>', '<PAD>', '<PAD>', '<PAD>', '<PAD>', '<PAD>', '<PAD>', '<PAD>', '<PAD>', '<PAD>', '<PAD>', '<PAD>', '<PAD>', '<PAD>', '<PAD>']\n",
      "\n",
      "----------------\n",
      "\n",
      "['<SOS>', 'каждый', 'номер', 'в', 'отеле', 'sport', 'оснащен', 'телевизором', 'с', 'кабельными', 'каналами', '.', 'в', 'собственной', 'ванной', 'комнате', 'можно', 'принять', 'душ', '.', '<EOS>', '<PAD>', '<PAD>', '<PAD>', '<PAD>', '<PAD>', '<PAD>', '<PAD>', '<PAD>', '<PAD>', '<PAD>', '<PAD>', '<PAD>', '<PAD>', '<PAD>', '<PAD>', '<PAD>', '<PAD>', '<PAD>', '<PAD>', '<PAD>', '<PAD>', '<PAD>', '<PAD>', '<PAD>', '<PAD>', '<PAD>', '<PAD>', '<PAD>', '<PAD>']\n",
      "['<SOS>', 'each', 'room', 'at', 'sport', 'hotel', 'comes', 'with', 'a', 'tv', 'with', 'cable', 'channels', 'and', 'a', 'private', 'bathroom', 'with', 'a', 'shower', '.', '<EOS>', '<PAD>', '<PAD>', '<PAD>', '<PAD>', '<PAD>', '<PAD>', '<PAD>', '<PAD>', '<PAD>', '<PAD>', '<PAD>', '<PAD>', '<PAD>', '<PAD>', '<PAD>', '<PAD>', '<PAD>', '<PAD>', '<PAD>', '<PAD>', '<PAD>', '<PAD>', '<PAD>', '<PAD>', '<PAD>', '<PAD>', '<PAD>', '<PAD>']\n",
      "\n",
      "----------------\n",
      "\n",
      "['<SOS>', 'кроме', 'того', ',', 'гостям', 'предоставляется', 'бесплатная', 'парковка', '.', '<EOS>', '<PAD>', '<PAD>', '<PAD>', '<PAD>', '<PAD>', '<PAD>', '<PAD>', '<PAD>', '<PAD>', '<PAD>', '<PAD>', '<PAD>', '<PAD>', '<PAD>', '<PAD>', '<PAD>', '<PAD>', '<PAD>', '<PAD>', '<PAD>', '<PAD>', '<PAD>', '<PAD>', '<PAD>', '<PAD>', '<PAD>', '<PAD>', '<PAD>', '<PAD>', '<PAD>', '<PAD>', '<PAD>', '<PAD>', '<PAD>', '<PAD>', '<PAD>', '<PAD>', '<PAD>', '<PAD>', '<PAD>']\n",
      "['<SOS>', 'this', 'property', 'offers', 'free', 'parking', '.', '<EOS>', '<PAD>', '<PAD>', '<PAD>', '<PAD>', '<PAD>', '<PAD>', '<PAD>', '<PAD>', '<PAD>', '<PAD>', '<PAD>', '<PAD>', '<PAD>', '<PAD>', '<PAD>', '<PAD>', '<PAD>', '<PAD>', '<PAD>', '<PAD>', '<PAD>', '<PAD>', '<PAD>', '<PAD>', '<PAD>', '<PAD>', '<PAD>', '<PAD>', '<PAD>', '<PAD>', '<PAD>', '<PAD>', '<PAD>', '<PAD>', '<PAD>', '<PAD>', '<PAD>', '<PAD>', '<PAD>', '<PAD>', '<PAD>', '<PAD>']\n",
      "\n",
      "----------------\n",
      "\n",
      "['<SOS>', 'в', 'каждом', 'номере', 'имеется', 'собственная', 'ванная', 'комната', 'с', 'феном', '.', '<EOS>', '<PAD>', '<PAD>', '<PAD>', '<PAD>', '<PAD>', '<PAD>', '<PAD>', '<PAD>', '<PAD>', '<PAD>', '<PAD>', '<PAD>', '<PAD>', '<PAD>', '<PAD>', '<PAD>', '<PAD>', '<PAD>', '<PAD>', '<PAD>', '<PAD>', '<PAD>', '<PAD>', '<PAD>', '<PAD>', '<PAD>', '<PAD>', '<PAD>', '<PAD>', '<PAD>', '<PAD>', '<PAD>', '<PAD>', '<PAD>', '<PAD>', '<PAD>', '<PAD>', '<PAD>']\n",
      "['<SOS>', 'each', 'room', 'has', 'a', 'private', 'bathroom', 'with', 'a', 'hairdryer', '.', '<EOS>', '<PAD>', '<PAD>', '<PAD>', '<PAD>', '<PAD>', '<PAD>', '<PAD>', '<PAD>', '<PAD>', '<PAD>', '<PAD>', '<PAD>', '<PAD>', '<PAD>', '<PAD>', '<PAD>', '<PAD>', '<PAD>', '<PAD>', '<PAD>', '<PAD>', '<PAD>', '<PAD>', '<PAD>', '<PAD>', '<PAD>', '<PAD>', '<PAD>', '<PAD>', '<PAD>', '<PAD>', '<PAD>', '<PAD>', '<PAD>', '<PAD>', '<PAD>', '<PAD>', '<PAD>']\n",
      "\n",
      "----------------\n",
      "\n",
      "['<SOS>', 'вилла', 'с', 'кондиционером', 'располагает', 'номерами', 'с', 'видом', 'на', 'горы', 'и', 'бассейн', '.', '<EOS>', '<PAD>', '<PAD>', '<PAD>', '<PAD>', '<PAD>', '<PAD>', '<PAD>', '<PAD>', '<PAD>', '<PAD>', '<PAD>', '<PAD>', '<PAD>', '<PAD>', '<PAD>', '<PAD>', '<PAD>', '<PAD>', '<PAD>', '<PAD>', '<PAD>', '<PAD>', '<PAD>', '<PAD>', '<PAD>', '<PAD>', '<PAD>', '<PAD>', '<PAD>', '<PAD>', '<PAD>', '<PAD>', '<PAD>', '<PAD>', '<PAD>', '<PAD>']\n",
      "['<SOS>', 'the', 'air', '-', 'conditioned', 'villa', 'has', 'rooms', 'with', 'mountain', 'and', 'pool', 'views', '.', '<EOS>', '<PAD>', '<PAD>', '<PAD>', '<PAD>', '<PAD>', '<PAD>', '<PAD>', '<PAD>', '<PAD>', '<PAD>', '<PAD>', '<PAD>', '<PAD>', '<PAD>', '<PAD>', '<PAD>', '<PAD>', '<PAD>', '<PAD>', '<PAD>', '<PAD>', '<PAD>', '<PAD>', '<PAD>', '<PAD>', '<PAD>', '<PAD>', '<PAD>', '<PAD>', '<PAD>', '<PAD>', '<PAD>', '<PAD>', '<PAD>', '<PAD>']\n",
      "\n",
      "----------------\n",
      "\n",
      "['<SOS>', 'к', 'услугам', 'гостей', 'бесплатный', 'wi', '-', 'fi', 'во', 'всем', 'отеле', '.', '<EOS>', '<PAD>', '<PAD>', '<PAD>', '<PAD>', '<PAD>', '<PAD>', '<PAD>', '<PAD>', '<PAD>', '<PAD>', '<PAD>', '<PAD>', '<PAD>', '<PAD>', '<PAD>', '<PAD>', '<PAD>', '<PAD>', '<PAD>', '<PAD>', '<PAD>', '<PAD>', '<PAD>', '<PAD>', '<PAD>', '<PAD>', '<PAD>', '<PAD>', '<PAD>', '<PAD>', '<PAD>', '<PAD>', '<PAD>', '<PAD>', '<PAD>', '<PAD>', '<PAD>']\n",
      "['<SOS>', 'free', 'wi', '-', 'fi', 'is', 'available', 'throughout', 'the', 'entire', 'hotel', '.', '<EOS>', '<PAD>', '<PAD>', '<PAD>', '<PAD>', '<PAD>', '<PAD>', '<PAD>', '<PAD>', '<PAD>', '<PAD>', '<PAD>', '<PAD>', '<PAD>', '<PAD>', '<PAD>', '<PAD>', '<PAD>', '<PAD>', '<PAD>', '<PAD>', '<PAD>', '<PAD>', '<PAD>', '<PAD>', '<PAD>', '<PAD>', '<PAD>', '<PAD>', '<PAD>', '<PAD>', '<PAD>', '<PAD>', '<PAD>', '<PAD>', '<PAD>', '<PAD>', '<PAD>']\n",
      "\n",
      "----------------\n",
      "\n"
     ]
    }
   ],
   "source": [
    "for i in range(10):\n",
    "    print(src[i])\n",
    "    print(tgt[i])\n",
    "    print('\\n----------------\\n')"
   ]
  },
  {
   "cell_type": "code",
   "execution_count": 81,
   "metadata": {
    "id": "KNorcuz-QwN-"
   },
   "outputs": [],
   "source": [
    "crit_tmp = nn.CrossEntropyLoss()"
   ]
  },
  {
   "cell_type": "code",
   "execution_count": 93,
   "metadata": {
    "id": "42jKFL71RYqG"
   },
   "outputs": [],
   "source": [
    "src = batch[0].to(device)\n",
    "trg = batch[1].to(device)\n",
    "\n",
    "output = model(src)\n",
    "\n",
    "output = output.view(-1, output.shape[-1])\n",
    "trg_output = trg[:, 1:].reshape(-1)\n",
    "\n",
    "loss = criterion(output, trg_output)"
   ]
  },
  {
   "cell_type": "code",
   "execution_count": 95,
   "metadata": {
    "colab": {
     "base_uri": "https://localhost:8080/"
    },
    "id": "5lqiqCiVRqwE",
    "outputId": "be7d9b3a-0a95-4863-e380-3e816005b566"
   },
   "outputs": [
    {
     "name": "stdout",
     "output_type": "stream",
     "text": [
      "7.2210893630981445\n"
     ]
    }
   ],
   "source": [
    "print(loss.item())"
   ]
  },
  {
   "cell_type": "code",
   "execution_count": null,
   "metadata": {
    "id": "tTZC6yoMpKBm"
   },
   "outputs": [],
   "source": []
  },
  {
   "cell_type": "markdown",
   "metadata": {
    "id": "jyc1ONyEpL9U"
   },
   "source": [
    "# Archive"
   ]
  },
  {
   "cell_type": "code",
   "execution_count": null,
   "metadata": {
    "id": "HqHgdS2qpJua",
    "jupyter": {
     "source_hidden": true
    },
    "tags": []
   },
   "outputs": [],
   "source": [
    "def indeces_from_sentence(sentence, lang='en'):\n",
    "    if lang == 'en':\n",
    "        vocab = english_vocab\n",
    "    elif lang == 'ru':\n",
    "        vocab = russian_vocab\n",
    "\n",
    "    return vocab.lookup_indeces(tokens)\n",
    "\n",
    "def tensor_from_sentence(sentence, lang='en'):\n",
    "    if lang == 'en':\n",
    "        vocab = english_vocab\n",
    "    elif lang == 'ru':\n",
    "        vocab = russian_vocab\n",
    "\n",
    "    indeces = [vocab['<SOS>']] + indeces_from_sentence(sentence, lang) + [vocab['<EOS>']]\n",
    "    return torch.tensor(indeces, dtype=torch.long).view(1, -1)\n",
    "\n",
    "\n",
    "def tensor_from_tokens(tokens, lang='en'):\n",
    "    if lang == 'en':\n",
    "        vocab = english_vocab\n",
    "    elif lang == 'ru':\n",
    "        vocab = russian_vocab\n",
    "\n",
    "    indeces = [vocab['<SOS>']] + vocab.lookup_indeces(tokens) + [vocab['<EOS>']]\n",
    "    return torch.tensor(indeces, dtype=torch.long).view(1, -1)\n",
    "\n",
    "def tensor_from_indeces(indeces):\n",
    "    torch.tensor(indeces, dtype=torch.long).view(1, -1)\n",
    "\n",
    "\n",
    "def translate_sentence_to_indeces(model, input):\n",
    "    input = tensorFromSentence(input, lang='ru')\n",
    "\n",
    "    model.eval()\n",
    "    with torch.no_grad():\n",
    "        input = input.to(device)\n",
    "\n",
    "        # Assuming your model returns token indices\n",
    "        raw_indices = model(input).argmax(dim=-1)\n",
    "        raw_indices = raw_indices.detach().cpu().tolist()\n",
    "        translated_indices = []\n",
    "        for idx in raw_indices:\n",
    "            or idx in indices:\n",
    "                if idx == UNK_IDX or idx > 3:\n",
    "                    translated_indices.append(english_vocab.lookup_token(idx))\n",
    "                elif idx == EOS_IDX:\n",
    "                    break\n",
    "    return translated_indices\n",
    "\n",
    "\n",
    "def translate_tokens_to_tokens(model, tokens):\n",
    "\n",
    "\n",
    "def translate_sentence_to_tokens(model, sentence):\n",
    "    indeces = translate_sentence_to_indeces(model, sentence)\n",
    "    return indices2tokens(indeces)\n",
    "\n",
    "def translate_sentence_to_sentence(model, sentence):\n",
    "    indeces = translate_sentence_to_indeces(model, sentence)\n",
    "    tokens = indices2tokens(indeces)\n",
    "    return tokens2sentence(tokens)"
   ]
  }
 ],
 "metadata": {
  "accelerator": "GPU",
  "colab": {
   "gpuType": "T4",
   "provenance": []
  },
  "kernelspec": {
   "display_name": "Python 3 (ipykernel)",
   "language": "python",
   "name": "python3"
  },
  "language_info": {
   "codemirror_mode": {
    "name": "ipython",
    "version": 3
   },
   "file_extension": ".py",
   "mimetype": "text/x-python",
   "name": "python",
   "nbconvert_exporter": "python",
   "pygments_lexer": "ipython3",
   "version": "3.9.13"
  }
 },
 "nbformat": 4,
 "nbformat_minor": 4
}
