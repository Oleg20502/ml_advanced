{
  "nbformat": 4,
  "nbformat_minor": 0,
  "metadata": {
    "colab": {
      "provenance": [],
      "gpuType": "T4"
    },
    "kernelspec": {
      "name": "python3",
      "display_name": "Python 3"
    },
    "language_info": {
      "name": "python"
    },
    "accelerator": "GPU"
  },
  "cells": [
    {
      "cell_type": "code",
      "source": [
        "# You might need to install the libraries below. Do it in the desired environment\n",
        "# if you are working locally.\n",
        "\n",
        "# ! pip  install subword-nmt\n",
        "# !pip install nltk\n",
        "# !pip install torchtext"
      ],
      "metadata": {
        "id": "YInXp-Pe4vXg"
      },
      "execution_count": null,
      "outputs": []
    },
    {
      "cell_type": "code",
      "execution_count": 1,
      "metadata": {
        "id": "d7amcejp4TSu",
        "colab": {
          "base_uri": "https://localhost:8080/"
        },
        "outputId": "96fc0a37-a0c7-461c-b282-3a68d593f4c6"
      },
      "outputs": [
        {
          "output_type": "stream",
          "name": "stdout",
          "text": [
            "Dataset not found locally. Downloading from github.\n",
            "--2024-03-03 14:07:31--  https://raw.githubusercontent.com/neychev/made_nlp_course/master/datasets/Machine_translation_EN_RU/data.txt\n",
            "Resolving raw.githubusercontent.com (raw.githubusercontent.com)... 185.199.111.133, 185.199.110.133, 185.199.108.133, ...\n",
            "Connecting to raw.githubusercontent.com (raw.githubusercontent.com)|185.199.111.133|:443... connected.\n",
            "HTTP request sent, awaiting response... 200 OK\n",
            "Length: 12905334 (12M) [text/plain]\n",
            "Saving to: ‘data.txt’\n",
            "\n",
            "data.txt            100%[===================>]  12.31M  --.-KB/s    in 0.04s   \n",
            "\n",
            "2024-03-03 14:07:31 (275 MB/s) - ‘data.txt’ saved [12905334/12905334]\n",
            "\n"
          ]
        }
      ],
      "source": [
        "import os\n",
        "path_to_data = '../../datasets/Machine_translation_EN_RU/data.txt'\n",
        "if not os.path.exists(path_to_data):\n",
        "    print(\"Dataset not found locally. Downloading from github.\")\n",
        "    !wget https://raw.githubusercontent.com/neychev/made_nlp_course/master/datasets/Machine_translation_EN_RU/data.txt -nc\n",
        "    path_to_data = './data.txt'"
      ]
    },
    {
      "cell_type": "code",
      "source": [
        "import torch\n",
        "import torch.nn as nn\n",
        "import torch.optim as optim\n",
        "import torch.nn.functional as F\n",
        "\n",
        "import torchtext\n",
        "from torch.utils.data import Dataset, DataLoader\n",
        "from torch.nn.utils.rnn import pad_sequence\n",
        "from collections import Counter\n",
        "from torchtext.vocab import vocab\n",
        "from nltk.tokenize import wordpunct_tokenize\n",
        "\n",
        "import numpy as np\n",
        "import pandas as pd\n",
        "import time\n",
        "\n",
        "import matplotlib\n",
        "matplotlib.rcParams.update({'figure.figsize': (16, 12), 'font.size': 14})\n",
        "import matplotlib.pyplot as plt\n",
        "%matplotlib inline\n",
        "from IPython.display import clear_output"
      ],
      "metadata": {
        "id": "ZsnlfZMt41xW"
      },
      "execution_count": 2,
      "outputs": []
    },
    {
      "cell_type": "code",
      "source": [
        "# Step 1: Read the dataset file and parse it\n",
        "def read_dataset(file_path):\n",
        "    with open(file_path, 'r') as file:\n",
        "        lines = file.readlines()\n",
        "    english_sentences = []\n",
        "    russian_sentences = []\n",
        "    for line in lines:\n",
        "        english, russian = line.strip().split('\\t')\n",
        "        english_sentences.append(english)\n",
        "        russian_sentences.append(russian)\n",
        "    return english_sentences, russian_sentences\n",
        "\n",
        "english_sentences, russian_sentences = read_dataset(path_to_data)\n",
        "\n",
        "# Step 2: Tokenize the sentences\n",
        "def tokenize_sentences(sentences):\n",
        "    tokenized_sentences = [wordpunct_tokenize(sentence.lower()) for sentence in sentences]\n",
        "    return tokenized_sentences\n",
        "\n",
        "english_tokenized = tokenize_sentences(english_sentences)\n",
        "russian_tokenized = tokenize_sentences(russian_sentences)"
      ],
      "metadata": {
        "id": "qkzARkdCTbla"
      },
      "execution_count": 65,
      "outputs": []
    },
    {
      "cell_type": "code",
      "source": [
        "print(len(english_sentences))\n",
        "print(english_sentences[0])"
      ],
      "metadata": {
        "colab": {
          "base_uri": "https://localhost:8080/"
        },
        "id": "ewApExlUckmP",
        "outputId": "6592e2b7-d94a-4178-ce8b-12bdf71b8171"
      },
      "execution_count": 66,
      "outputs": [
        {
          "output_type": "stream",
          "name": "stdout",
          "text": [
            "50000\n",
            "Cordelia Hotel is situated in Tbilisi, a 3-minute walk away from Saint Trinity Church.\n"
          ]
        }
      ]
    },
    {
      "cell_type": "code",
      "source": [
        "# Step 3: Create vocabulary mappings\n",
        "def build_vocab(tokenized_sentences):\n",
        "    counter = Counter()\n",
        "    for sentence in tokenized_sentences:\n",
        "        counter.update(sentence)\n",
        "    vocab = torchtext.vocab.vocab(counter, min_freq=3, specials=('<UNK>', '<SOS>', '<EOS>', '<PAD>'))\n",
        "    vocab.set_default_index(vocab[\"<UNK>\"])\n",
        "    return vocab\n",
        "\n",
        "english_vocab = build_vocab(english_tokenized)\n",
        "russian_vocab = build_vocab(russian_tokenized)"
      ],
      "metadata": {
        "id": "FX--KkPPdh-z"
      },
      "execution_count": 67,
      "outputs": []
    },
    {
      "cell_type": "code",
      "source": [
        "INPUT_DIM = len(russian_vocab)\n",
        "OUTPUT_DIM = len(english_vocab)\n",
        "PAD_IDX = english_vocab['<PAD>']\n",
        "SOS_IDX = english_vocab['<SOS>']\n",
        "EOS_IDX = english_vocab['<EOS>']"
      ],
      "metadata": {
        "id": "n6fUG2WSwwn6"
      },
      "execution_count": 68,
      "outputs": []
    },
    {
      "cell_type": "code",
      "source": [
        "print(len(english_vocab))\n",
        "print(len(russian_vocab))"
      ],
      "metadata": {
        "colab": {
          "base_uri": "https://localhost:8080/"
        },
        "id": "__wdvr4cIRKg",
        "outputId": "9b0624d3-1500-4f66-8a30-01651fd82a65"
      },
      "execution_count": 69,
      "outputs": [
        {
          "output_type": "stream",
          "name": "stdout",
          "text": [
            "7828\n",
            "10799\n"
          ]
        }
      ]
    },
    {
      "cell_type": "code",
      "source": [
        "# Step 4: Convert tokenized sentences into sequences of integer indices\n",
        "def sentence_to_indices(tokenized_sentences, vocab):\n",
        "    indices = [[vocab['<SOS>']] + [vocab[token] for token in sentence] + [vocab['<EOS>']] for sentence in tokenized_sentences]\n",
        "    return indices\n",
        "\n",
        "english_indices = sentence_to_indices(english_tokenized, english_vocab)\n",
        "russian_indices = sentence_to_indices(russian_tokenized, russian_vocab)"
      ],
      "metadata": {
        "id": "eWkNy6E3Hd9T"
      },
      "execution_count": 70,
      "outputs": []
    },
    {
      "cell_type": "code",
      "source": [
        "MAX_SEQUENCE_LENGTH = 50\n",
        "BATCH_SIZE = 128"
      ],
      "metadata": {
        "id": "8vRz2il2lXNM"
      },
      "execution_count": 90,
      "outputs": []
    },
    {
      "cell_type": "code",
      "source": [
        "# Step 5: Pad sequences to a fixed length\n",
        "def pad_sequences(indices, max_length, padding_idx):\n",
        "    padded_indices = [sentence[:max_length] + [padding_idx] * (max_length - len(sentence)) for sentence in indices]\n",
        "    return torch.tensor(padded_indices)\n",
        "\n",
        "english_padding_idx = english_vocab['<PAD>']\n",
        "russian_padding_idx = russian_vocab['<PAD>']\n",
        "english_padded = pad_sequences(english_indices, MAX_SEQUENCE_LENGTH, english_padding_idx)\n",
        "russian_padded = pad_sequences(russian_indices, MAX_SEQUENCE_LENGTH, russian_padding_idx)"
      ],
      "metadata": {
        "id": "hf98kRLuLxlx"
      },
      "execution_count": 91,
      "outputs": []
    },
    {
      "cell_type": "code",
      "source": [
        "# Step 6: Split the dataset into training and validation sets\n",
        "dataset = list(zip(russian_padded, english_padded))\n",
        "train_size = int(0.8 * len(dataset))\n",
        "val_size = int(0.15 * len(dataset))\n",
        "test_size = len(dataset) - train_size - val_size\n",
        "train_data, val_data, test_data = torch.utils.data.random_split(dataset, [train_size, val_size, test_size])\n",
        "\n",
        "train_loader = DataLoader(train_data, batch_size=BATCH_SIZE, shuffle=True, drop_last=True)\n",
        "val_loader = DataLoader(val_data, batch_size=BATCH_SIZE, shuffle=False, drop_last=True)\n",
        "test_loader = DataLoader(test_data, batch_size=BATCH_SIZE, shuffle=False, drop_last=True)"
      ],
      "metadata": {
        "id": "hhWR5zGvci1A"
      },
      "execution_count": 92,
      "outputs": []
    },
    {
      "cell_type": "code",
      "source": [
        "ENC_EMB_DIM = 256\n",
        "DEC_EMB_DIM = 256\n",
        "ENC_HID_DIM = 768\n",
        "DEC_HID_DIM = 768\n",
        "N_LAYERS = 1\n",
        "ENC_DROPOUT = 0.8\n",
        "DEC_DROPOUT = 0.8\n",
        "\n",
        "lr = 0.0005"
      ],
      "metadata": {
        "id": "KLucxG_-Z_W1"
      },
      "execution_count": 158,
      "outputs": []
    },
    {
      "cell_type": "code",
      "source": [
        "class Encoder(nn.Module):\n",
        "    def __init__(self, input_size, embedding_size, hidden_size, n_layers=1, dropout_p=0.1):\n",
        "        super(Encoder, self).__init__()\n",
        "        self.hidden_size = hidden_size\n",
        "\n",
        "        self.embedding = nn.Embedding(input_size, embedding_size)\n",
        "        self.rnn = nn.GRU(embedding_size, hidden_size, batch_first=True,\n",
        "                          num_layers=n_layers, dropout=dropout_p)\n",
        "        self.dropout = nn.Dropout(dropout_p)\n",
        "\n",
        "    def forward(self, input):\n",
        "        embedded = self.embedding(input)\n",
        "        embedded = self.dropout(embedded)\n",
        "        output, hidden = self.rnn(embedded)\n",
        "        return output, hidden"
      ],
      "metadata": {
        "id": "GxDcXdezlXkR"
      },
      "execution_count": 159,
      "outputs": []
    },
    {
      "cell_type": "code",
      "source": [
        "class Attention(nn.Module):\n",
        "    def __init__(self, hidden_size):\n",
        "        super(Attention, self).__init__()\n",
        "        self.Wa = nn.Linear(hidden_size, hidden_size)\n",
        "        self.Ua = nn.Linear(hidden_size, hidden_size)\n",
        "        self.Va = nn.Linear(hidden_size, 1)\n",
        "\n",
        "    def forward(self, query, keys):\n",
        "        query = query.unsqueeze(0).permute(1, 0, 2)\n",
        "        scores = self.Va(torch.tanh(self.Wa(query) + self.Ua(keys)))\n",
        "        scores = scores.squeeze(2).unsqueeze(1)\n",
        "        weights = F.softmax(scores, dim=-1)\n",
        "        context = torch.bmm(weights, keys)\n",
        "        return context"
      ],
      "metadata": {
        "id": "7QYO58MBpc9F"
      },
      "execution_count": 160,
      "outputs": []
    },
    {
      "cell_type": "code",
      "source": [
        "class AttnDecoder(nn.Module):\n",
        "    def __init__(self, input_size, embedding_size, hidden_size, output_size, n_layers=1, dropout_p=0.1):\n",
        "        super(AttnDecoder, self).__init__()\n",
        "        self.input_size = input_size\n",
        "        self.hidden_size = hidden_size\n",
        "\n",
        "        self.embedding = nn.Embedding(input_size, embedding_size)\n",
        "        self.attention = Attention(hidden_size)\n",
        "        self.rnn = nn.GRU(embedding_size + hidden_size, hidden_size, batch_first=True,\n",
        "                          num_layers=n_layers, dropout=dropout_p)\n",
        "        self.dropout = nn.Dropout(dropout_p)\n",
        "        self.out = nn.Linear(hidden_size, output_size)\n",
        "\n",
        "    def forward(self, input, hidden, encoder_outputs):\n",
        "        embedded = self.embedding(input)\n",
        "        embedded = self.dropout(embedded)\n",
        "        context = self.attention(hidden[-1], encoder_outputs)\n",
        "        input = torch.cat((embedded, context), dim=2)\n",
        "        output, hidden = self.rnn(input, hidden)\n",
        "        output = self.out(output)\n",
        "        return output, hidden"
      ],
      "metadata": {
        "id": "NaNimz_Cltcs"
      },
      "execution_count": 161,
      "outputs": []
    },
    {
      "cell_type": "code",
      "source": [
        "class AttnSeq2Seq(nn.Module):\n",
        "    def __init__(self, encoder, decoder, device):\n",
        "        super(AttnSeq2Seq, self).__init__()\n",
        "        self.encoder = encoder\n",
        "        self.decoder = decoder\n",
        "\n",
        "        self.device = device\n",
        "\n",
        "    def forward(self, input, target_tensor=None):\n",
        "        encoder_outputs, encoder_hidden = self.encoder(input)\n",
        "\n",
        "        seq_length = MAX_SEQUENCE_LENGTH\n",
        "        if target_tensor is not None:\n",
        "            seq_length = target_tensor.shape[1]\n",
        "\n",
        "        decoder_input = torch.empty(BATCH_SIZE, 1, dtype=torch.long, device=device).fill_(SOS_IDX)\n",
        "        decoder_hidden = encoder_hidden\n",
        "        decoder_outputs = []\n",
        "\n",
        "        for i in range(1, seq_length):\n",
        "            decoder_output, decoder_hidden = self.decoder(decoder_input, decoder_hidden, encoder_outputs)\n",
        "            decoder_outputs.append(decoder_output)\n",
        "\n",
        "            if target_tensor is not None:\n",
        "                decoder_input = target_tensor[:, i].unsqueeze(1) # Teacher forcing\n",
        "            else:\n",
        "                _, topi = decoder_output.topk(1)\n",
        "                decoder_input = topi.squeeze(-1).detach()  # detach from history as input\n",
        "\n",
        "        decoder_outputs = torch.cat(decoder_outputs, dim=1)\n",
        "        return decoder_outputs"
      ],
      "metadata": {
        "id": "ryyu-JhJ3JDI"
      },
      "execution_count": 162,
      "outputs": []
    },
    {
      "cell_type": "code",
      "source": [
        "device = torch.device('cuda' if torch.cuda.is_available() else 'cpu')\n",
        "print(device)\n",
        "\n",
        "encoder = Encoder(INPUT_DIM, ENC_EMB_DIM, ENC_HID_DIM, N_LAYERS, ENC_DROPOUT)\n",
        "decoder = AttnDecoder(OUTPUT_DIM, DEC_EMB_DIM, DEC_HID_DIM, OUTPUT_DIM, N_LAYERS, DEC_DROPOUT)\n",
        "\n",
        "model = AttnSeq2Seq(encoder, decoder, device).to(device)"
      ],
      "metadata": {
        "id": "j8oQkBDDbiEU",
        "colab": {
          "base_uri": "https://localhost:8080/"
        },
        "outputId": "b1aafffb-ba95-4af5-dcec-abc967c353f7"
      },
      "execution_count": 163,
      "outputs": [
        {
          "output_type": "stream",
          "name": "stdout",
          "text": [
            "cuda\n"
          ]
        },
        {
          "output_type": "stream",
          "name": "stderr",
          "text": [
            "/usr/local/lib/python3.10/dist-packages/torch/nn/modules/rnn.py:82: UserWarning: dropout option adds dropout after all but last recurrent layer, so non-zero dropout expects num_layers greater than 1, but got dropout=0.8 and num_layers=1\n",
            "  warnings.warn(\"dropout option adds dropout after all but last \"\n"
          ]
        }
      ]
    },
    {
      "cell_type": "code",
      "source": [
        "optimizer = optim.Adam(model.parameters(), lr=lr)\n",
        "criterion = nn.CrossEntropyLoss()"
      ],
      "metadata": {
        "id": "HwIyVoInC1ww"
      },
      "execution_count": 164,
      "outputs": []
    },
    {
      "cell_type": "code",
      "source": [
        "def train(model, iterator, optimizer, criterion, clip, n_show = 50, train_history=None, valid_history=None):\n",
        "    model.train()\n",
        "\n",
        "    epoch_loss = 0\n",
        "    train_loss = 0\n",
        "    I_val = []\n",
        "    history = []\n",
        "    val_history = []\n",
        "    for i, batch in enumerate(iterator):\n",
        "        src = batch[0].to(device)\n",
        "        trg = batch[1].to(device)\n",
        "\n",
        "        optimizer.zero_grad()\n",
        "\n",
        "        output = model(src, trg)\n",
        "\n",
        "        output = output.view(-1, output.shape[-1])\n",
        "        trg_output = trg[:, 1:].reshape(-1)\n",
        "\n",
        "        loss = criterion(output, trg_output)\n",
        "\n",
        "        loss.backward()\n",
        "\n",
        "        # Let's clip the gradient\n",
        "        torch.nn.utils.clip_grad_norm_(model.parameters(), clip)\n",
        "\n",
        "        optimizer.step()\n",
        "\n",
        "        epoch_loss += loss.item()\n",
        "\n",
        "        history.append(loss.detach().cpu().data.numpy())\n",
        "        if (i+1) % n_show == 0:\n",
        "            I_val.append(i)\n",
        "            val_history.append(evaluate(model, val_loader, criterion))\n",
        "\n",
        "            fig, ax = plt.subplots(nrows=1, ncols=2, figsize=(12, 8))\n",
        "\n",
        "            clear_output(True)\n",
        "            ax[0].plot(history, label='train loss')\n",
        "            ax[0].plot(I_val, val_history, label='validation loss')\n",
        "            ax[0].set_xlabel('Batch')\n",
        "            ax[0].set_title('Loss')\n",
        "            ax[0].legend()\n",
        "            if train_history is not None:\n",
        "                ax[1].plot(train_history, label='general train history')\n",
        "                ax[1].set_xlabel('Epoch')\n",
        "            if valid_history is not None:\n",
        "                ax[1].plot(valid_history, label='general valid history')\n",
        "            plt.legend()\n",
        "\n",
        "            plt.show()\n",
        "\n",
        "\n",
        "    return epoch_loss / len(iterator)"
      ],
      "metadata": {
        "id": "MMlNKoi8FPrf"
      },
      "execution_count": 165,
      "outputs": []
    },
    {
      "cell_type": "code",
      "source": [
        "def evaluate(model, iterator, criterion):\n",
        "\n",
        "    model.eval()\n",
        "\n",
        "    epoch_loss = 0\n",
        "\n",
        "    history = []\n",
        "\n",
        "    with torch.no_grad():\n",
        "\n",
        "        for i, batch in enumerate(iterator):\n",
        "\n",
        "            src = batch[0].to(device)\n",
        "            trg = batch[1].to(device)\n",
        "\n",
        "            output = model(src)\n",
        "\n",
        "            output = output.view(-1, output.shape[-1])\n",
        "            trg_output = trg[:, 1:].reshape(-1)\n",
        "\n",
        "            loss = criterion(output, trg_output)\n",
        "\n",
        "            epoch_loss += loss.item()\n",
        "    model.train()\n",
        "    return epoch_loss / len(iterator)"
      ],
      "metadata": {
        "id": "jaCyNytNnAza"
      },
      "execution_count": 166,
      "outputs": []
    },
    {
      "cell_type": "code",
      "source": [
        "def epoch_time(start_time, end_time):\n",
        "    elapsed_time = end_time - start_time\n",
        "    elapsed_mins = int(elapsed_time / 60)\n",
        "    elapsed_secs = int(elapsed_time - (elapsed_mins * 60))\n",
        "    return elapsed_mins, elapsed_secs"
      ],
      "metadata": {
        "id": "KHEertghmb73"
      },
      "execution_count": 167,
      "outputs": []
    },
    {
      "cell_type": "code",
      "source": [
        "n_show = 100\n",
        "N_EPOCHS = 1\n",
        "CLIP = 1.0\n",
        "\n",
        "best_valid_loss = float('inf')\n",
        "\n",
        "train_history = []\n",
        "valid_history = []"
      ],
      "metadata": {
        "id": "nIheFRY5mjRp"
      },
      "execution_count": 168,
      "outputs": []
    },
    {
      "cell_type": "code",
      "source": [
        "for epoch in range(N_EPOCHS):\n",
        "\n",
        "    start_time = time.time()\n",
        "\n",
        "    train_loss = train(model, train_loader, optimizer, criterion, CLIP, n_show, train_history, valid_history)\n",
        "    valid_loss = evaluate(model, val_loader, criterion)\n",
        "\n",
        "    end_time = time.time()\n",
        "\n",
        "    epoch_mins, epoch_secs = epoch_time(start_time, end_time)\n",
        "\n",
        "    if valid_loss < best_valid_loss:\n",
        "        best_valid_loss = valid_loss\n",
        "        torch.save(model.state_dict(), 'tut1-model.pt')\n",
        "\n",
        "    train_history.append(train_loss)\n",
        "    valid_history.append(valid_loss)\n",
        "    print(f'Epoch: {epoch+1:02} | Time: {epoch_mins}m {epoch_secs}s')\n",
        "    print(f'\\tTrain Loss: {train_loss:.3f} | Train PPL: {np.exp(train_loss):7.3f}')\n",
        "    print(f'\\t Val. Loss: {valid_loss:.3f} |  Val. PPL: {np.exp(valid_loss):7.3f}')"
      ],
      "metadata": {
        "colab": {
          "base_uri": "https://localhost:8080/",
          "height": 784
        },
        "id": "1PHoDqimmrtg",
        "outputId": "66147626-f6c7-4a09-bbff-1cc44c91d148"
      },
      "execution_count": 169,
      "outputs": [
        {
          "output_type": "display_data",
          "data": {
            "text/plain": [
              "<Figure size 1200x800 with 2 Axes>"
            ],
            "image/png": "[encoded data removed]"
          },
          "metadata": {}
        },
        {
          "output_type": "stream",
          "name": "stdout",
          "text": [
            "Epoch: 01 | Time: 3m 57s\n",
            "\tTrain Loss: 1.668 | Train PPL:   5.302\n",
            "\t Val. Loss: 3.329 |  Val. PPL:  27.905\n"
          ]
        }
      ]
    },
    {
      "cell_type": "code",
      "source": [
        "batch = next(iter(test_loader))"
      ],
      "metadata": {
        "id": "b9rpjCZA1uXr"
      },
      "execution_count": 170,
      "outputs": []
    },
    {
      "cell_type": "code",
      "source": [
        "for idx in [1,2]:\n",
        "    src = batch[0]\n",
        "    trg = batch[1][idx:idx+1, :]\n",
        "    output = model(src.to(device)).argmax(dim=-1).detach().cpu().numpy()[idx:idx+1, :]\n",
        "    print(output)"
      ],
      "metadata": {
        "colab": {
          "base_uri": "https://localhost:8080/"
        },
        "id": "AY5q4Czx1xK9",
        "outputId": "996f967f-f441-4793-dee2-54975eeb7834"
      },
      "execution_count": 171,
      "outputs": [
        {
          "output_type": "stream",
          "name": "stdout",
          "text": [
            "[[ 67 160  40  36 239  20   2   3   3   3   3   3   3   3   3   3   3   3\n",
            "    3   3   3   3   3   3   3   3   3   3   3   3   3   3   3   3   3   3\n",
            "    3   3   3   3   3   3   3   3   3   3   3   3   3]]\n",
            "[[ 67 160  40  36 363  12 364  32  36 363  12 364  20   2   3   3   3   3\n",
            "    3   3   3   3   3   3   3   3   3   3   3   3   3   3   3   3   3   3\n",
            "    3   3   3   3   3   3   3   3   3   3   3   3   3]]\n"
          ]
        }
      ]
    },
    {
      "cell_type": "code",
      "source": [
        "from nltk.translate.bleu_score import corpus_bleu\n",
        "import tqdm"
      ],
      "metadata": {
        "id": "0WpCrrju3t6p"
      },
      "execution_count": 172,
      "outputs": []
    },
    {
      "cell_type": "code",
      "source": [
        "# Translate test data and get model translations\n",
        "translated_sentences = []\n",
        "target_sentences = []\n",
        "\n",
        "for batch in tqdm.tqdm(test_loader):\n",
        "    src = batch[0].to(device)\n",
        "    trg = batch[1].to(device)\n",
        "    model.eval()\n",
        "    with torch.no_grad():\n",
        "        # Assuming your model returns token indices\n",
        "        translated_indices = model(src).argmax(dim=-1)\n",
        "        translated_indices = translated_indices.detach().cpu().tolist()\n",
        "\n",
        "        for indices in translated_indices:\n",
        "            tmp = []\n",
        "            for idx in indices:\n",
        "                if idx == 0 or idx > 3:\n",
        "                    tmp.append(english_vocab.lookup_token(idx))\n",
        "                elif idx == EOS_IDX:\n",
        "                    break\n",
        "            translated_sentences.append(tmp)\n",
        "\n",
        "        trg_indices = trg.detach().cpu().tolist()\n",
        "        for indices in trg_indices:\n",
        "            tmp = []\n",
        "            for idx in indices:\n",
        "                if idx == 0 or idx > 3:\n",
        "                    tmp.append(english_vocab.lookup_token(idx))\n",
        "                elif idx == EOS_IDX:\n",
        "                    break\n",
        "            target_sentences.append(tmp)\n"
      ],
      "metadata": {
        "id": "68YIh55fJWGm",
        "colab": {
          "base_uri": "https://localhost:8080/"
        },
        "outputId": "46469b15-b682-4dd0-fe19-e1e4c94be13f"
      },
      "execution_count": 173,
      "outputs": [
        {
          "output_type": "stream",
          "name": "stderr",
          "text": [
            "100%|██████████| 19/19 [00:04<00:00,  4.64it/s]\n"
          ]
        }
      ]
    },
    {
      "cell_type": "code",
      "source": [
        "# Calculate BLEU score\n",
        "bleu_score = corpus_bleu([[text] for text in target_sentences], translated_sentences) * 100\n",
        "print(\"BLEU Score:\", bleu_score)"
      ],
      "metadata": {
        "colab": {
          "base_uri": "https://localhost:8080/"
        },
        "id": "JdW3tl4oJSrr",
        "outputId": "585dc360-3f68-4351-9823-6dc75a83bd3b"
      },
      "execution_count": 182,
      "outputs": [
        {
          "output_type": "stream",
          "name": "stdout",
          "text": [
            "BLEU Score: 6.69804203919981\n"
          ]
        }
      ]
    },
    {
      "cell_type": "code",
      "source": [
        "print(translated_sentences[0])\n",
        "print(translated_sentences[1])\n",
        "print(translated_sentences[2])"
      ],
      "metadata": {
        "colab": {
          "base_uri": "https://localhost:8080/"
        },
        "id": "bLSpgTKl-P_x",
        "outputId": "e5b5bc97-f486-4963-ed57-82c9cc1accde"
      },
      "execution_count": 180,
      "outputs": [
        {
          "output_type": "stream",
          "name": "stdout",
          "text": [
            "['free', 'wifi', 'access', 'is', 'available', 'on', 'site', '.']\n",
            "['free', 'wifi', 'access', 'is', 'available', 'on', 'site', '.']\n",
            "['the', 'rooms', 'have', 'a', 'flat', '-', 'screen', 'tv', 'and', 'a', 'hairdryer', '.']\n"
          ]
        }
      ]
    },
    {
      "cell_type": "code",
      "source": [
        "print(target_sentences[0])\n",
        "print(target_sentences[1])\n",
        "print(target_sentences[2])"
      ],
      "metadata": {
        "colab": {
          "base_uri": "https://localhost:8080/"
        },
        "id": "Y_rwBibx-Z3Y",
        "outputId": "5d6b43d1-1144-4a80-9f44-0257b3ac9aa7"
      },
      "execution_count": 185,
      "outputs": [
        {
          "output_type": "stream",
          "name": "stdout",
          "text": [
            "['complimentary', 'breakfast', 'is', 'served', 'at', 'the', 'lounge', '.']\n",
            "['the', 'courtyard', 'also', 'includes', 'a', 'terrace', '.']\n",
            "['towels', 'and', 'bed', 'linen', 'are', 'featured', 'in', 'this', 'self', '-', 'catering', 'accommodation', '.', 'satellite', 'tv', 'is', 'available', 'in', 'every', 'bedroom', '.']\n"
          ]
        }
      ]
    },
    {
      "cell_type": "code",
      "source": [
        "for i in range(20):\n",
        "    print(translated_sentences[i])"
      ],
      "metadata": {
        "colab": {
          "base_uri": "https://localhost:8080/"
        },
        "id": "3qyIyuJbU2Ef",
        "outputId": "d67d993a-4fdf-478e-fa47-5018c5ca6c58"
      },
      "execution_count": 183,
      "outputs": [
        {
          "output_type": "stream",
          "name": "stdout",
          "text": [
            "['free', 'wifi', 'access', 'is', 'available', 'on', 'site', '.']\n",
            "['free', 'wifi', 'access', 'is', 'available', 'on', 'site', '.']\n",
            "['the', 'rooms', 'have', 'a', 'flat', '-', 'screen', 'tv', 'and', 'a', 'hairdryer', '.']\n",
            "['the', 'rooms', 'have', 'a', 'flat', '-', 'screen', 'tv', ',', 'a', 'flat', '-', 'screen', 'tv', 'and', 'a', 'hairdryer', '.']\n",
            "['the', 'property', 'offers', 'free', 'wi', '-', 'fi', 'and', 'free', 'toiletries', '.']\n",
            "['the', 'rooms', 'have', 'a', 'flat', '-', 'screen', 'tv', ',', 'a', 'flat', '-', 'screen', 'tv', ',', 'a', 'flat', '-', 'screen', 'tv', 'and', 'a', 'hairdryer', '.']\n",
            "['free', 'wifi', 'access', 'is', 'available', '.']\n",
            "['each', 'room', 'has', 'a', 'flat', '-', 'screen', 'tv', ',', 'a', 'flat', '-', 'screen', 'tv', ',', 'a', 'flat', '-', 'screen', 'tv', ',', 'a', 'flat', '-', 'screen', 'tv', 'and', 'a', 'hairdryer', '.']\n",
            "['the', 'property', 'offers', 'a', 'shower', '.']\n",
            "['the', 'rooms', 'have', 'a', 'flat', '-', 'screen', 'tv', ',', 'a', 'flat', '-', 'screen', 'tv', ',', 'a', 'flat', '-', 'screen', 'tv', 'and', 'a', 'hairdryer', '.']\n",
            "['<UNK>', '<UNK>', 'is', 'a', '10', '-', 'minute', 'drive', 'from', 'the', '<UNK>', ',', 'while', '<UNK>', 'is', 'a', '10', '-', 'minute', 'drive', 'from', 'the', 'property', '.']\n",
            "['the', 'property', 'offers', 'free', 'wi', '-', 'fi', 'and', 'free', 'wi', '-', 'fi', 'access', '.']\n",
            "['<UNK>', '<UNK>', 'is', 'a', '10', '-', 'minute', 'drive', 'away', '.']\n",
            "['the', 'hotel', 'has', 'a', 'flat', '-', 'screen', 'tv', ',', 'a', 'flat', '-', 'screen', 'tv', ',', 'a', 'flat', '-', 'screen', 'tv', ',', 'a', 'flat', '-', 'screen', 'tv', ',', 'a', 'flat', '-', 'screen', 'tv', 'and', 'a', 'refrigerator', '.']\n",
            "['free', 'wifi', 'access', 'is', 'available', '.']\n",
            "['the', '<UNK>', '<UNK>', 'is', 'a', '5', '-', 'minute', 'walk', 'from', 'the', '<UNK>', ',', 'while', '<UNK>', '<UNK>', 'offers', 'a', 'terrace', ',', 'a', 'terrace', 'and', 'a', 'terrace', '.']\n",
            "['located', 'in', 'the', '<UNK>', ',', '<UNK>', '<UNK>', 'is', 'a', '10', '-', 'minute', 'drive', 'from', 'the', '<UNK>', '<UNK>', ',', 'while', '<UNK>', 'is', 'a', '10', '-', 'minute', 'drive', 'from', 'the', '<UNK>', '<UNK>', 'and', '<UNK>', '.']\n",
            "['the', 'rooms', 'have', 'a', 'flat', '-', 'screen', 'tv', 'and', 'a', 'hairdryer', '.']\n",
            "['free', 'private', 'parking', 'is', 'available', '.']\n",
            "['the', 'property', 'offers', 'a', 'tv', 'and', 'a', 'terrace', '.']\n"
          ]
        }
      ]
    },
    {
      "cell_type": "code",
      "source": [
        "for i in range(20):\n",
        "    print(translated_sentences[i])"
      ],
      "metadata": {
        "id": "Wn6wBcXZ3LgA"
      },
      "execution_count": null,
      "outputs": []
    },
    {
      "cell_type": "code",
      "source": [
        "def translate(model, input):\n",
        "    model.eval()\n",
        "    with torch.no_grad():\n",
        "        input = input.to(device)\n",
        "\n",
        "        # Assuming your model returns token indices\n",
        "        translated_indices = model(input).argmax(dim=-1)\n",
        "        translated_indices = translated_indices.detach().cpu().numpy().tolist()\n",
        "        translated_sentences = []\n",
        "        for indices in translated_indices:\n",
        "            tmp = []\n",
        "            for idx in indices:\n",
        "                if idx == 0 or idx > 3:\n",
        "                    tmp.append(english_vocab.lookup_token(idx))\n",
        "                elif idx == PAD_IDX:\n",
        "                    break\n",
        "            translated_sentences.append(tmp)\n",
        "    return translated_sentences"
      ],
      "metadata": {
        "id": "Y227kHZt30kj"
      },
      "execution_count": 198,
      "outputs": []
    },
    {
      "cell_type": "code",
      "source": [
        "sent = batch[0]\n",
        "\n",
        "\n",
        "tnp = translate(model, batch[0])"
      ],
      "metadata": {
        "id": "my9o_Goo4iC6"
      },
      "execution_count": 203,
      "outputs": []
    },
    {
      "cell_type": "code",
      "source": [
        "print(sent[0, :])\n",
        "print(tnp[0])"
      ],
      "metadata": {
        "colab": {
          "base_uri": "https://localhost:8080/",
          "height": 159
        },
        "id": "SaVKtDKg48xx",
        "outputId": "977419d1-848c-48de-e8a4-988e6e51f29e"
      },
      "execution_count": 1,
      "outputs": [
        {
          "output_type": "error",
          "ename": "NameError",
          "evalue": "name 'sent' is not defined",
          "traceback": [
            "\u001b[0;31m---------------------------------------------------------------------------\u001b[0m",
            "\u001b[0;31mNameError\u001b[0m                                 Traceback (most recent call last)",
            "\u001b[0;32m<ipython-input-1-0b2b7d39f71b>\u001b[0m in \u001b[0;36m<cell line: 1>\u001b[0;34m()\u001b[0m\n\u001b[0;32m----> 1\u001b[0;31m \u001b[0mprint\u001b[0m\u001b[0;34m(\u001b[0m\u001b[0msent\u001b[0m\u001b[0;34m[\u001b[0m\u001b[0;36m0\u001b[0m\u001b[0;34m,\u001b[0m \u001b[0;34m:\u001b[0m\u001b[0;34m]\u001b[0m\u001b[0;34m)\u001b[0m\u001b[0;34m\u001b[0m\u001b[0;34m\u001b[0m\u001b[0m\n\u001b[0m\u001b[1;32m      2\u001b[0m \u001b[0mprint\u001b[0m\u001b[0;34m(\u001b[0m\u001b[0mtnp\u001b[0m\u001b[0;34m[\u001b[0m\u001b[0;36m0\u001b[0m\u001b[0;34m]\u001b[0m\u001b[0;34m)\u001b[0m\u001b[0;34m\u001b[0m\u001b[0;34m\u001b[0m\u001b[0m\n",
            "\u001b[0;31mNameError\u001b[0m: name 'sent' is not defined"
          ]
        }
      ]
    },
    {
      "cell_type": "code",
      "source": [],
      "metadata": {
        "id": "expUHjsD6suk"
      },
      "execution_count": null,
      "outputs": []
    }
  ]
}