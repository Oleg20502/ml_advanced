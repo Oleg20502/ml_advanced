{
 "cells": [
  {
   "cell_type": "markdown",
   "metadata": {},
   "source": [
    "Реализация базовой модели.\n",
    "\n",
    "Проводил небольшой подбор гиперпараметров: менял размер эмбединга и скрытого слоя. Остановился на тех гиперпараметрах, которые указаны ниже при объявлении модели. Модель достаточно быстро выходит на плато по лоссу, но BLEU на валидационной выборке все равно после этого продолжает увеличиваться. Только в районе 60 эпох BLEU тоже выходит на плато.\n",
    "\n",
    "Дропаут не уменьшал, т.к. модель переобучается (но при этом не сильно и только в самом конце).\n",
    "\n",
    "Леарнинг рейт не трогал, т.к. как модель достаточно быстро обучалась при 0.001. В ноутбуке Seq2Seq_lr_sched попробовал менять lr и использовать шедьюлер. Там можно посмотреть и результаты.\n",
    "\n",
    "Итог: Достиг BLEU на валидационной выборке 22.9."
   ]
  },
  {
   "cell_type": "markdown",
   "metadata": {},
   "source": [
    "# Импортируем библиотеки"
   ]
  },
  {
   "cell_type": "code",
   "execution_count": 1,
   "metadata": {
    "id": "ZsnlfZMt41xW"
   },
   "outputs": [
    {
     "name": "stderr",
     "output_type": "stream",
     "text": [
      "/opt/calculation/anaconda3/lib/python3.9/site-packages/scipy/__init__.py:155: UserWarning: A NumPy version >=1.18.5 and <1.25.0 is required for this version of SciPy (detected version 1.26.4\n",
      "  warnings.warn(f\"A NumPy version >={np_minversion} and <{np_maxversion}\"\n"
     ]
    }
   ],
   "source": [
    "import torch\n",
    "import torch.nn as nn\n",
    "import torch.optim as optim\n",
    "from torch.optim.lr_scheduler import StepLR\n",
    "import torch.nn.functional as F\n",
    "\n",
    "import torchtext\n",
    "from torch.utils.data import Dataset, DataLoader\n",
    "from torch.nn.utils.rnn import pad_sequence\n",
    "from collections import Counter\n",
    "from torchtext.vocab import vocab\n",
    "from nltk.tokenize import wordpunct_tokenize\n",
    "from nltk.translate.bleu_score import corpus_bleu\n",
    "\n",
    "import tqdm\n",
    "import os\n",
    "import numpy as np\n",
    "import pandas as pd\n",
    "import time\n",
    "\n",
    "import matplotlib\n",
    "matplotlib.rcParams.update({'figure.figsize': (16, 12), 'font.size': 14})\n",
    "import matplotlib.pyplot as plt\n",
    "%matplotlib inline\n",
    "from IPython.display import clear_output"
   ]
  },
  {
   "cell_type": "markdown",
   "metadata": {},
   "source": [
    "# Preprocessing"
   ]
  },
  {
   "cell_type": "code",
   "execution_count": 2,
   "metadata": {
    "id": "8vRz2il2lXNM",
    "tags": []
   },
   "outputs": [],
   "source": [
    "I = 0\n",
    "\n",
    "path_to_data = '../data.txt'\n",
    "\n",
    "MAX_SEQUENCE_LENGTH = 50\n",
    "BATCH_SIZE = 128\n",
    "\n",
    "SAVE_DIR = 'check_points/'\n",
    "\n",
    "if not os.path.exists(SAVE_DIR):\n",
    "    os.makedirs(SAVE_DIR)\n",
    "\n",
    "torch.manual_seed(42)\n",
    "\n",
    "DEVICE = torch.device('cuda:1' if torch.cuda.is_available() else 'cpu')"
   ]
  },
  {
   "cell_type": "code",
   "execution_count": 3,
   "metadata": {
    "id": "qkzARkdCTbla"
   },
   "outputs": [],
   "source": [
    "# Step 1: Read the dataset file and parse it\n",
    "def read_dataset(file_path):\n",
    "    with open(file_path, 'r') as file:\n",
    "        lines = file.readlines()\n",
    "    english_sentences = []\n",
    "    russian_sentences = []\n",
    "    for line in lines:\n",
    "        english, russian = line.strip().split('\\t')\n",
    "        english_sentences.append(english)\n",
    "        russian_sentences.append(russian)\n",
    "    return english_sentences, russian_sentences\n",
    "\n",
    "english_sentences, russian_sentences = read_dataset(path_to_data)\n",
    "\n",
    "# Step 2: Tokenize the sentences\n",
    "def tokenize_sentences(sentences):\n",
    "    tokenized_sentences = [wordpunct_tokenize(sentence.lower()) for sentence in sentences]\n",
    "    return tokenized_sentences\n",
    "\n",
    "english_tokenized = tokenize_sentences(english_sentences)\n",
    "russian_tokenized = tokenize_sentences(russian_sentences)"
   ]
  },
  {
   "cell_type": "code",
   "execution_count": 4,
   "metadata": {
    "colab": {
     "base_uri": "https://localhost:8080/"
    },
    "id": "ewApExlUckmP",
    "outputId": "c4ada98a-a8f4-434d-beda-bc65ae793bb1"
   },
   "outputs": [
    {
     "name": "stdout",
     "output_type": "stream",
     "text": [
      "Размер корпуса: 50000\n",
      "Отель Cordelia расположен в Тбилиси, в 3 минутах ходьбы от Свято-Троицкого собора.\n",
      "Cordelia Hotel is situated in Tbilisi, a 3-minute walk away from Saint Trinity Church.\n"
     ]
    }
   ],
   "source": [
    "print('Размер корпуса:', len(russian_sentences))\n",
    "print(russian_sentences[0])\n",
    "print(english_sentences[0])"
   ]
  },
  {
   "cell_type": "code",
   "execution_count": 5,
   "metadata": {
    "id": "FX--KkPPdh-z"
   },
   "outputs": [],
   "source": [
    "# Step 3: Create vocabulary mappings\n",
    "def build_vocab(tokenized_sentences):\n",
    "    counter = Counter()\n",
    "    for sentence in tokenized_sentences:\n",
    "        counter.update(sentence)\n",
    "    vocab = torchtext.vocab.vocab(counter, min_freq=3, specials=('<UNK>', '<SOS>', '<EOS>', '<PAD>'))\n",
    "    vocab.set_default_index(vocab[\"<UNK>\"])\n",
    "    return vocab\n",
    "\n",
    "english_vocab = build_vocab(english_tokenized)\n",
    "russian_vocab = build_vocab(russian_tokenized)"
   ]
  },
  {
   "cell_type": "code",
   "execution_count": 6,
   "metadata": {
    "id": "n6fUG2WSwwn6"
   },
   "outputs": [],
   "source": [
    "INPUT_DIM = len(russian_vocab)\n",
    "OUTPUT_DIM = len(english_vocab)\n",
    "PAD_IDX = english_vocab['<PAD>']\n",
    "SOS_IDX = english_vocab['<SOS>']\n",
    "EOS_IDX = english_vocab['<EOS>']\n",
    "UNK_IDX = english_vocab['<UNK>']"
   ]
  },
  {
   "cell_type": "code",
   "execution_count": 7,
   "metadata": {
    "colab": {
     "base_uri": "https://localhost:8080/"
    },
    "id": "__wdvr4cIRKg",
    "outputId": "19367ad2-d562-4334-c326-bc3121bd747d"
   },
   "outputs": [
    {
     "name": "stdout",
     "output_type": "stream",
     "text": [
      "7828\n",
      "10799\n"
     ]
    }
   ],
   "source": [
    "print(len(english_vocab))\n",
    "print(len(russian_vocab))"
   ]
  },
  {
   "cell_type": "code",
   "execution_count": 8,
   "metadata": {
    "id": "eWkNy6E3Hd9T"
   },
   "outputs": [],
   "source": [
    "# Step 4: Convert tokenized sentences into sequences of integer indices\n",
    "def sentence_to_indices(tokenized_sentences, vocab):\n",
    "    indices = [[vocab['<SOS>']] + [vocab[token] for token in sentence] + [vocab['<EOS>']] for sentence in tokenized_sentences]\n",
    "    return indices\n",
    "\n",
    "english_indices = sentence_to_indices(english_tokenized, english_vocab)\n",
    "russian_indices = sentence_to_indices(russian_tokenized, russian_vocab)"
   ]
  },
  {
   "cell_type": "code",
   "execution_count": 9,
   "metadata": {
    "id": "hf98kRLuLxlx"
   },
   "outputs": [],
   "source": [
    "# Step 5: Pad sequences to a fixed length\n",
    "def pad_sequences(indices, max_length, padding_idx):\n",
    "    padded_indices = [sentence[:max_length] + [padding_idx] * (max_length - len(sentence)) for sentence in indices]\n",
    "    return torch.tensor(padded_indices)\n",
    "\n",
    "english_padding_idx = english_vocab['<PAD>']\n",
    "russian_padding_idx = russian_vocab['<PAD>']\n",
    "english_padded = pad_sequences(english_indices, MAX_SEQUENCE_LENGTH, english_padding_idx)\n",
    "russian_padded = pad_sequences(russian_indices, MAX_SEQUENCE_LENGTH, russian_padding_idx)"
   ]
  },
  {
   "cell_type": "code",
   "execution_count": 10,
   "metadata": {
    "id": "hhWR5zGvci1A"
   },
   "outputs": [],
   "source": [
    "# Step 6: Split the dataset into training and validation sets\n",
    "dataset = list(zip(russian_padded, english_padded))\n",
    "train_size = int(0.8 * len(dataset))\n",
    "val_size = int(0.15 * len(dataset))\n",
    "test_size = len(dataset) - train_size - val_size\n",
    "train_data, val_data, test_data = torch.utils.data.random_split(dataset, [train_size, val_size, test_size])\n",
    "\n",
    "train_loader = DataLoader(train_data, batch_size=BATCH_SIZE, shuffle=True, drop_last=True)\n",
    "val_loader = DataLoader(val_data, batch_size=BATCH_SIZE, shuffle=False, drop_last=True)\n",
    "test_loader = DataLoader(test_data, batch_size=BATCH_SIZE, shuffle=False, drop_last=True)"
   ]
  },
  {
   "cell_type": "markdown",
   "metadata": {},
   "source": [
    "## Определение классов модели"
   ]
  },
  {
   "cell_type": "code",
   "execution_count": 11,
   "metadata": {
    "id": "GxDcXdezlXkR"
   },
   "outputs": [],
   "source": [
    "class Encoder(nn.Module):\n",
    "    def __init__(self, input_size, embedding_size, hidden_size, n_layers=1, dropout_p=0.1):\n",
    "        super(Encoder, self).__init__()\n",
    "        self.hidden_size = hidden_size\n",
    "\n",
    "        self.embedding = nn.Embedding(input_size, embedding_size)\n",
    "        self.rnn = nn.GRU(embedding_size, hidden_size, batch_first=True,\n",
    "                          num_layers=n_layers, dropout=dropout_p)\n",
    "        self.dropout = nn.Dropout(dropout_p)\n",
    "\n",
    "    def forward(self, input):\n",
    "        embedded = self.embedding(input)\n",
    "        embedded = self.dropout(embedded)\n",
    "        output, hidden = self.rnn(embedded)\n",
    "        return hidden"
   ]
  },
  {
   "cell_type": "code",
   "execution_count": 12,
   "metadata": {
    "id": "NaNimz_Cltcs"
   },
   "outputs": [],
   "source": [
    "class Decoder(nn.Module):\n",
    "    def __init__(self, input_size, embedding_size, hidden_size, output_size, n_layers=1, dropout_p=0.1):\n",
    "        super(Decoder, self).__init__()\n",
    "        self.input_size = input_size\n",
    "        self.hidden_size = hidden_size\n",
    "\n",
    "        self.embedding = nn.Embedding(input_size, embedding_size)\n",
    "        self.rnn = nn.GRU(embedding_size, hidden_size, batch_first=True,\n",
    "                          num_layers=n_layers, dropout=dropout_p)\n",
    "        self.dropout = nn.Dropout(dropout_p)\n",
    "        self.out = nn.Linear(hidden_size, output_size)\n",
    "\n",
    "    def forward(self, input, hidden):\n",
    "        embedded = self.embedding(input)\n",
    "        embedded = self.dropout(embedded)\n",
    "        output, hidden = self.rnn(embedded, hidden)\n",
    "        output = self.out(output)\n",
    "        return output, hidden"
   ]
  },
  {
   "cell_type": "code",
   "execution_count": 14,
   "metadata": {
    "id": "ryyu-JhJ3JDI"
   },
   "outputs": [],
   "source": [
    "class Seq2Seq(nn.Module):\n",
    "    def __init__(self, encoder, decoder):\n",
    "        super(Seq2Seq, self).__init__()\n",
    "        self.encoder = encoder\n",
    "        self.decoder = decoder\n",
    "\n",
    "    def forward(self, input, target_tensor=None):\n",
    "        encoder_hidden = self.encoder(input)\n",
    "\n",
    "        seq_length = MAX_SEQUENCE_LENGTH\n",
    "        if target_tensor is not None:\n",
    "            seq_length = target_tensor.shape[1]\n",
    "\n",
    "        decoder_input = torch.empty(input.shape[0], 1, dtype=torch.long, device=DEVICE).fill_(SOS_IDX)\n",
    "        decoder_hidden = encoder_hidden\n",
    "        decoder_outputs = []\n",
    "\n",
    "        for i in range(1, seq_length):\n",
    "            decoder_output, decoder_hidden = self.decoder(decoder_input, decoder_hidden)\n",
    "            decoder_outputs.append(decoder_output)\n",
    "\n",
    "            if target_tensor is not None:\n",
    "                decoder_input = target_tensor[:, i].unsqueeze(1) # Teacher forcing\n",
    "            else:\n",
    "                _, topi = decoder_output.topk(1)\n",
    "                decoder_input = topi.squeeze(-1).detach()  # detach from history as input\n",
    "\n",
    "        decoder_outputs = torch.cat(decoder_outputs, dim=1)\n",
    "        return decoder_outputs"
   ]
  },
  {
   "cell_type": "markdown",
   "metadata": {
    "colab": {
     "base_uri": "https://localhost:8080/"
    },
    "id": "j8oQkBDDbiEU",
    "outputId": "52814d3b-5a5e-40e2-c9b5-d97fe75cdc59"
   },
   "source": [
    "## Дополнительные функции"
   ]
  },
  {
   "cell_type": "code",
   "execution_count": 15,
   "metadata": {
    "id": "HwIyVoInC1ww"
   },
   "outputs": [],
   "source": [
    "def count_parameters(model):\n",
    "    return sum(p.numel() for p in model.parameters() if p.requires_grad)"
   ]
  },
  {
   "cell_type": "code",
   "execution_count": 22,
   "metadata": {
    "id": "MMlNKoi8FPrf"
   },
   "outputs": [],
   "source": [
    "def train(model, optimizer, criterion, clip, lr_scheduler=None, n_show = 50,\n",
    "                train_history=[], valid_history=[], bleu_history=[]):\n",
    "    model.train()\n",
    "\n",
    "    epoch_loss = 0\n",
    "    I_val = []\n",
    "    epoch_history = []\n",
    "    val_history = []\n",
    "    nf_val_history = []\n",
    "    bleu_scores = []\n",
    "    for i, batch in tqdm.tqdm(enumerate(train_loader)):\n",
    "        src = batch[0].to(DEVICE)\n",
    "        trg = batch[1].to(DEVICE)\n",
    "\n",
    "        optimizer.zero_grad()\n",
    "\n",
    "        output = model(src, trg)\n",
    "        output = output.view(-1, output.shape[-1])\n",
    "        trg_output = trg[:, 1:].reshape(-1)\n",
    "\n",
    "        loss = criterion(output, trg_output)\n",
    "        loss.backward()\n",
    "        \n",
    "        # Let's clip the gradient\n",
    "        torch.nn.utils.clip_grad_norm_(model.parameters(), clip)\n",
    "        optimizer.step()\n",
    "        if lr_scheduler is not None: lr_scheduler.step()\n",
    "\n",
    "        epoch_loss += loss.item()\n",
    "\n",
    "        epoch_history.append(loss.detach().cpu().data.numpy())\n",
    "        \n",
    "        if (i+1) % n_show == 0:\n",
    "            I_val.append(i)\n",
    "            val_history.append(evaluate(model, val_loader, criterion))\n",
    "            \n",
    "            bleu_score, _1, _2 = calc_bleu(model, val_loader)\n",
    "            bleu_scores.append(bleu_score)\n",
    "            \n",
    "            model.train()\n",
    "            \n",
    "            fig, ax = plt.subplots(nrows=1, ncols=3, figsize=(12, 4))\n",
    "    \n",
    "            line_11, = ax[0].plot(epoch_history, label='train loss')\n",
    "            line_12, = ax[0].plot(I_val, val_history, label='val loss')\n",
    "            # line_13, = ax[0].plot(I_val, nf_val_history, label='no force val loss')\n",
    "            ax[0].set_xlabel('Batch')\n",
    "            ax[0].set_title('Loss')\n",
    "            ax[0].legend()\n",
    "            \n",
    "            if train_history != []:\n",
    "                ax[1].plot(train_history, label='Train loss')\n",
    "            if valid_history != []:\n",
    "                ax[1].plot(valid_history, label='Valid loss')\n",
    "            ax[1].legend()\n",
    "            ax[1].set_xlabel('# of epoch')\n",
    "            ax[1].set_title('Loss')\n",
    "            \n",
    "            if bleu_history != []:\n",
    "                ax[2].plot(bleu_history, label='Validation BLEU' )\n",
    "                ax[1].set_xlabel('# of epoch')\n",
    "                ax[2].set_title('BLEU')            \n",
    "                ax[2].legend()\n",
    "            fig.tight_layout()\n",
    "            clear_output(True)\n",
    "            plt.show()\n",
    "\n",
    "    return epoch_loss / len(train_loader)"
   ]
  },
  {
   "cell_type": "code",
   "execution_count": 23,
   "metadata": {
    "id": "jaCyNytNnAza"
   },
   "outputs": [],
   "source": [
    "def evaluate(model, iterator, criterion, if_force=True):\n",
    "\n",
    "    model.eval()\n",
    "\n",
    "    epoch_loss = 0\n",
    "\n",
    "    history = []\n",
    "\n",
    "    with torch.no_grad():\n",
    "\n",
    "        for i, batch in enumerate(iterator):\n",
    "\n",
    "            src = batch[0].to(DEVICE)\n",
    "            trg = batch[1].to(DEVICE)\n",
    "            \n",
    "            if if_force:\n",
    "                output = model(src, trg)\n",
    "            else:\n",
    "                output = model(src)\n",
    "\n",
    "            output = output.view(-1, output.shape[-1])\n",
    "            trg_output = trg[:, 1:].reshape(-1)\n",
    "\n",
    "            loss = criterion(output, trg_output)\n",
    "\n",
    "            epoch_loss += loss.item()\n",
    "    return epoch_loss / len(iterator)"
   ]
  },
  {
   "cell_type": "code",
   "execution_count": 24,
   "metadata": {
    "id": "KHEertghmb73"
   },
   "outputs": [],
   "source": [
    "def epoch_time(start_time, end_time):\n",
    "    elapsed_time = end_time - start_time\n",
    "    elapsed_mins = int(elapsed_time / 60)\n",
    "    elapsed_secs = int(elapsed_time - (elapsed_mins * 60))\n",
    "    return elapsed_mins, elapsed_secs"
   ]
  },
  {
   "cell_type": "code",
   "execution_count": 25,
   "metadata": {},
   "outputs": [],
   "source": [
    "# Translate test data and get model translations\n",
    "def calc_bleu(model, loader):\n",
    "    translated_sentences = []\n",
    "    target_sentences = []\n",
    "\n",
    "    for batch in loader:\n",
    "        src = batch[0].to(DEVICE)\n",
    "        trg = batch[1].to(DEVICE)\n",
    "        model.eval()\n",
    "        with torch.no_grad():\n",
    "            # Assuming your model returns token indices\n",
    "            translated_indices = model(src).argmax(dim=-1)\n",
    "            translated_indices = translated_indices.detach().cpu().tolist()\n",
    "\n",
    "            for indices in translated_indices:\n",
    "                tmp = []\n",
    "                for idx in indices:\n",
    "                    if idx == UNK_IDX or idx > 3:\n",
    "                        tmp.append(english_vocab.lookup_token(idx))\n",
    "                    elif idx == EOS_IDX:\n",
    "                        break\n",
    "                translated_sentences.append(tmp)\n",
    "\n",
    "            trg_indices = trg.detach().cpu().tolist()\n",
    "            for indices in trg_indices:\n",
    "                tmp = []\n",
    "                for idx in indices:\n",
    "                    if idx == UNK_IDX or idx > 3:\n",
    "                        tmp.append(english_vocab.lookup_token(idx))\n",
    "                    elif idx == EOS_IDX:\n",
    "                        break\n",
    "                target_sentences.append(tmp)\n",
    "    bleu_score = corpus_bleu([[text] for text in target_sentences], translated_sentences) * 100\n",
    "    return bleu_score, translated_sentences, target_sentences"
   ]
  },
  {
   "cell_type": "markdown",
   "metadata": {},
   "source": [
    "# Инициализация модели и обучение"
   ]
  },
  {
   "cell_type": "code",
   "execution_count": 62,
   "metadata": {},
   "outputs": [
    {
     "name": "stdout",
     "output_type": "stream",
     "text": [
      "The model has 7,569,812 trainable parameters\n"
     ]
    }
   ],
   "source": [
    "I += 1\n",
    "\n",
    "ENC_EMB_DIM = 256\n",
    "DEC_EMB_DIM = 256\n",
    "HID_DIM = 256\n",
    "N_LAYERS = 1\n",
    "ENC_DROPOUT = 0.5\n",
    "DEC_DROPOUT = 0.5\n",
    "CLIP = 1.0\n",
    "\n",
    "lr = 0.001\n",
    "\n",
    "encoder = Encoder(INPUT_DIM, ENC_EMB_DIM, HID_DIM, N_LAYERS, ENC_DROPOUT)\n",
    "decoder = Decoder(OUTPUT_DIM, DEC_EMB_DIM, HID_DIM, OUTPUT_DIM, N_LAYERS, DEC_DROPOUT)\n",
    "\n",
    "model = Seq2Seq(encoder, decoder).to(DEVICE)\n",
    "print(f'The model has {count_parameters(model):,} trainable parameters')\n",
    "\n",
    "optimizer = optim.Adam(model.parameters(), lr=lr)\n",
    "criterion = nn.CrossEntropyLoss(ignore_index=PAD_IDX)"
   ]
  },
  {
   "cell_type": "code",
   "execution_count": 63,
   "metadata": {
    "id": "nIheFRY5mjRp"
   },
   "outputs": [],
   "source": [
    "n_show = 200\n",
    "N_EPOCHS = 60\n",
    "save_file = SAVE_DIR + f'model_{I}.pt'\n",
    "\n",
    "best_valid_loss = float('inf')\n",
    "\n",
    "train_history = []\n",
    "valid_history = []\n",
    "bleu_scores = []"
   ]
  },
  {
   "cell_type": "code",
   "execution_count": 64,
   "metadata": {
    "colab": {
     "base_uri": "https://localhost:8080/",
     "height": 784
    },
    "id": "1PHoDqimmrtg",
    "outputId": "3602a1fb-b4fd-45a6-e675-2f35b6e76dbd"
   },
   "outputs": [
    {
     "data": {
      "image/png": "[encoded data removed]",
      "text/plain": [
       "<Figure size 1200x400 with 3 Axes>"
      ]
     },
     "metadata": {},
     "output_type": "display_data"
    },
    {
     "name": "stderr",
     "output_type": "stream",
     "text": [
      "312it [00:14, 21.50it/s]\n"
     ]
    },
    {
     "name": "stdout",
     "output_type": "stream",
     "text": [
      "Epoch: 60 | Time: 0m 16s\n",
      "\tTrain Loss: 1.239 | Train PPL:   3.452\n",
      "\t Val. Loss: 2.236 |  Val. PPL:   9.359\n"
     ]
    }
   ],
   "source": [
    "for epoch in range(N_EPOCHS):\n",
    "    start_time = time.time()\n",
    "\n",
    "    train_loss = train(model,\n",
    "                       optimizer,\n",
    "                       criterion,\n",
    "                       CLIP,\n",
    "                       None, n_show,\n",
    "                       train_history,\n",
    "                       valid_history,\n",
    "                       bleu_scores)\n",
    "    valid_loss = evaluate(model, val_loader, criterion)\n",
    "    bleu_score, _1, _2 = calc_bleu(model, val_loader)    \n",
    "\n",
    "    end_time = time.time()\n",
    "    epoch_mins, epoch_secs = epoch_time(start_time, end_time)\n",
    "\n",
    "    if valid_loss < best_valid_loss and valid_loss < 2.3:\n",
    "        best_valid_loss = valid_loss\n",
    "        state = {\n",
    "                'epoch': epoch,\n",
    "                'state_dict': model.state_dict(),\n",
    "                'optimizer': optimizer.state_dict()}\n",
    "        torch.save(state, save_file)\n",
    "\n",
    "    train_history.append(train_loss)\n",
    "    valid_history.append(valid_loss)\n",
    "    bleu_scores.append(bleu_score)\n",
    "    \n",
    "    print(f'Epoch: {epoch+1:02} | Time: {epoch_mins}m {epoch_secs}s')\n",
    "    print(f'\\tTrain Loss: {train_loss:.3f} | Train PPL: {np.exp(train_loss):7.3f}')\n",
    "    print(f'\\t Val. Loss: {valid_loss:.3f} |  Val. PPL: {np.exp(valid_loss):7.3f}')\n"
   ]
  },
  {
   "cell_type": "code",
   "execution_count": 65,
   "metadata": {},
   "outputs": [
    {
     "data": {
      "image/png": "[encoded data removed]",
      "text/plain": [
       "<Figure size 1000x500 with 2 Axes>"
      ]
     },
     "metadata": {},
     "output_type": "display_data"
    }
   ],
   "source": [
    "fig, ax = plt.subplots(nrows=1, ncols=2, figsize=(10, 5))\n",
    "ax[0].plot(train_history, label='Train history')\n",
    "ax[0].plot(valid_history, label='Validation history')\n",
    "ax[0].set_xlabel('# of epoch')\n",
    "ax[0].set_title('Loss')\n",
    "ax[0].legend()\n",
    "\n",
    "ax[1].plot(bleu_scores, label='Validation BLEU')\n",
    "ax[1].set_xlabel('# of epoch')\n",
    "ax[1].set_title('BLEU')\n",
    "ax[1].legend()\n",
    "fig.tight_layout()\n",
    "plt.show()"
   ]
  },
  {
   "cell_type": "code",
   "execution_count": 66,
   "metadata": {
    "colab": {
     "base_uri": "https://localhost:8080/"
    },
    "id": "-ctULnGiK67I",
    "outputId": "82a0d568-9687-415a-d7b5-0b803fb35012"
   },
   "outputs": [
    {
     "name": "stdout",
     "output_type": "stream",
     "text": [
      "Test loss: 2.2249029435609518\n"
     ]
    }
   ],
   "source": [
    "test_loss = evaluate(model, test_loader, criterion)\n",
    "print('Test loss:', test_loss)"
   ]
  },
  {
   "cell_type": "code",
   "execution_count": 67,
   "metadata": {
    "colab": {
     "base_uri": "https://localhost:8080/"
    },
    "id": "JdW3tl4oJSrr",
    "outputId": "1caa4fa4-61e8-41c2-9569-ebf2918cd721"
   },
   "outputs": [
    {
     "name": "stdout",
     "output_type": "stream",
     "text": [
      "BLEU Score: 22.907607178682955\n"
     ]
    }
   ],
   "source": [
    "# Calculate BLEU score\n",
    "bleu_score, translated_sentences, target_sentences = calc_bleu(model, test_loader)\n",
    "print(\"BLEU Score:\", bleu_score)"
   ]
  },
  {
   "cell_type": "markdown",
   "metadata": {
    "id": "jyc1ONyEpL9U"
   },
   "source": [
    "# Archive"
   ]
  },
  {
   "cell_type": "code",
   "execution_count": 97,
   "metadata": {
    "id": "Y227kHZt30kj",
    "jupyter": {
     "source_hidden": true
    },
    "tags": []
   },
   "outputs": [],
   "source": [
    "def sentence2tokens(sentence, lang='en'):\n",
    "    return wordpunct_tokenize(sentence.lower())\n",
    "\n",
    "def tokens2indices(tokens, lang='en'):\n",
    "    if lang == 'en':\n",
    "        vocab = english_vocab\n",
    "    elif lang == 'ru':\n",
    "        vocab = russian_vocab\n",
    "\n",
    "    return [vocab['<SOS>']] + [vocab.lookup_indices(tokens)] + [vocab['<EOS>']]\n",
    "\n",
    "def indices2tensor(indices, lang='en'):\n",
    "    return torch.tensor(indices, dtype=torch.long).view(1, -1)\n",
    "\n",
    "def indices2tokens(indices, lang='en', remove_specials=True):\n",
    "    if lang == 'en':\n",
    "        vocab = english_vocab\n",
    "    elif lang == 'ru':\n",
    "        vocab = russian_vocab\n",
    "\n",
    "    tokens = []\n",
    "    if remove_specials:\n",
    "        for idx in indices:\n",
    "            if idx == UNK_IDX or idx > 3:\n",
    "                tokens.append(english_vocab.lookup_token(idx))\n",
    "            elif idx == EOS_IDX:\n",
    "                break\n",
    "        return tokens\n",
    "    else:\n",
    "        return vocab.lookup_tokens(indices)\n",
    "\n",
    "def tokens2sentence(tokens, lang='en'):\n",
    "    return \"\".join(tokens)\n",
    "\n",
    "def translate_tensor_to_tensor(model, input):\n",
    "    input = input.unsqueeze(1)\n",
    "    model.eval()\n",
    "    with torch.no_grad():\n",
    "        input = input.to(DEVICE)\n",
    "        return model(input).argmax(dim=-1)\n",
    "\n",
    "def translate_indices_to_indices(model, indices):\n",
    "    input = indices2tensor(indices)\n",
    "    return translate_tensor_to_tensor(model, input).detach().cpu().tolist()\n",
    "\n",
    "def translate_tokens_to_tokens(tokens):\n",
    "    indices = tokens2indices(tokens, lang='ru')\n",
    "    translated_indices = translate_indices_to_indices(indices)\n",
    "    return indices2tokens(translated_indices, lang='en')\n",
    "\n",
    "def translate_tensor_to_tokens(model, input):\n",
    "    indices = translate_tensor_to_tensor(model, input).detach().cpu().tolist()[0]\n",
    "    return indices2tokens(indices)\n",
    "\n",
    "\n",
    "def translate_batch(model, input):\n",
    "    pass"
   ]
  },
  {
   "cell_type": "code",
   "execution_count": null,
   "metadata": {
    "id": "HqHgdS2qpJua",
    "jupyter": {
     "source_hidden": true
    },
    "tags": []
   },
   "outputs": [],
   "source": [
    "def indeces_from_sentence(sentence, lang='en'):\n",
    "    if lang == 'en':\n",
    "        vocab = english_vocab\n",
    "    elif lang == 'ru':\n",
    "        vocab = russian_vocab\n",
    "\n",
    "    return vocab.lookup_indeces(tokens)\n",
    "\n",
    "def tensor_from_sentence(sentence, lang='en'):\n",
    "    if lang == 'en':\n",
    "        vocab = english_vocab\n",
    "    elif lang == 'ru':\n",
    "        vocab = russian_vocab\n",
    "\n",
    "    indeces = [vocab['<SOS>']] + indeces_from_sentence(sentence, lang) + [vocab['<EOS>']]\n",
    "    return torch.tensor(indeces, dtype=torch.long).view(1, -1)\n",
    "\n",
    "\n",
    "def tensor_from_tokens(tokens, lang='en'):\n",
    "    if lang == 'en':\n",
    "        vocab = english_vocab\n",
    "    elif lang == 'ru':\n",
    "        vocab = russian_vocab\n",
    "\n",
    "    indeces = [vocab['<SOS>']] + vocab.lookup_indeces(tokens) + [vocab['<EOS>']]\n",
    "    return torch.tensor(indeces, dtype=torch.long).view(1, -1)\n",
    "\n",
    "def tensor_from_indeces(indeces):\n",
    "    torch.tensor(indeces, dtype=torch.long).view(1, -1)\n",
    "\n",
    "\n",
    "def translate_sentence_to_indeces(model, input):\n",
    "    input = tensorFromSentence(input, lang='ru')\n",
    "\n",
    "    model.eval()\n",
    "    with torch.no_grad():\n",
    "        input = input.to(DEVICE)\n",
    "\n",
    "        # Assuming your model returns token indices\n",
    "        raw_indices = model(input).argmax(dim=-1)\n",
    "        raw_indices = raw_indices.detach().cpu().tolist()\n",
    "        translated_indices = []\n",
    "        for idx in raw_indices:\n",
    "            or idx in indices:\n",
    "                if idx == UNK_IDX or idx > 3:\n",
    "                    translated_indices.append(english_vocab.lookup_token(idx))\n",
    "                elif idx == EOS_IDX:\n",
    "                    break\n",
    "    return translated_indices\n",
    "\n",
    "\n",
    "def translate_tokens_to_tokens(model, tokens):\n",
    "\n",
    "\n",
    "def translate_sentence_to_tokens(model, sentence):\n",
    "    indeces = translate_sentence_to_indeces(model, sentence)\n",
    "    return indices2tokens(indeces)\n",
    "\n",
    "def translate_sentence_to_sentence(model, sentence):\n",
    "    indeces = translate_sentence_to_indeces(model, sentence)\n",
    "    tokens = indices2tokens(indeces)\n",
    "    return tokens2sentence(tokens)"
   ]
  }
 ],
 "metadata": {
  "accelerator": "GPU",
  "colab": {
   "gpuType": "T4",
   "provenance": []
  },
  "kernelspec": {
   "display_name": "Python 3 (ipykernel)",
   "language": "python",
   "name": "python3"
  },
  "language_info": {
   "codemirror_mode": {
    "name": "ipython",
    "version": 3
   },
   "file_extension": ".py",
   "mimetype": "text/x-python",
   "name": "python",
   "nbconvert_exporter": "python",
   "pygments_lexer": "ipython3",
   "version": "3.9.13"
  }
 },
 "nbformat": 4,
 "nbformat_minor": 4
}
